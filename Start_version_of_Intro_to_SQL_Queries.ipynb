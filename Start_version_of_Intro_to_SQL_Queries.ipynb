{
  "nbformat": 4,
  "nbformat_minor": 0,
  "metadata": {
    "colab": {
      "provenance": [],
      "include_colab_link": true
    },
    "kernelspec": {
      "name": "python3",
      "display_name": "Python 3"
    },
    "language_info": {
      "name": "python"
    }
  },
  "cells": [
    {
      "cell_type": "markdown",
      "metadata": {
        "id": "view-in-github",
        "colab_type": "text"
      },
      "source": [
        "<a href=\"https://colab.research.google.com/github/hellosmallkat/Intro-to-SQL-Queries-NSDC-Data-Science-Projects/blob/main/Intro_to_SQL_Queries.ipynb\" target=\"_parent\"><img src=\"https://colab.research.google.com/assets/colab-badge.svg\" alt=\"Open In Colab\"/></a>"
      ]
    },
    {
      "cell_type": "markdown",
      "source": [
        "\n",
        "\n",
        "<h1 align=\"center\">\n",
        "    NSDC Data Science Projects\n",
        "</h1>\n",
        "\n",
        "<h2 align=\"center\">\n",
        "    Project: Practicing Writing SQL Queries - #1\n",
        "</h2>\n",
        "\n",
        "<h3 align=\"center\">\n",
        "    Name: (insert your name here)\n",
        "</h3>\n"
      ],
      "metadata": {
        "id": "tt70feOIfcQ0"
      }
    },
    {
      "cell_type": "markdown",
      "source": [
        "### **Please read before you begin your project**\n",
        "\n",
        "**Instructions: Google Colab Notebooks:**\n",
        "\n",
        "Google Colab is a free cloud service. It is a hosted Jupyter notebook service that requires no setup to use, while providing free access to computing resources. We will be using Google Colab for this project.\n",
        "\n",
        "In order to work within the Google Colab Notebook, **please start by clicking on \"File\" and then \"Save a copy in Drive.\"** This will save a copy of the notebook in your personal Google Drive.\n",
        "\n",
        "Please rename the file to \"DSP - SQL Queries #1 - Your Full Name.\" Once this project is completed, you will be prompted to share your file with the National Student Data Corps (NSDC) Project Leaders.\n",
        "\n",
        "You can now start working on the project. :)\n",
        "\n",
        "**Project Description:**\n",
        "\n",
        "To work with the New York City Airbnb dataset in this project, you'll need to create and connect to an SQLite database as seen in the steps within this notebook.\n",
        "\n",
        "**Key Features**\n",
        "\n",
        "- Practical SQL exercises with step-by-step instructions.\n",
        "- Real-world datasets for hands-on experience.\n",
        "- Comprehensive explanations of SQL queries and concepts.\n",
        "- Interactive coding examples and challenges.\n",
        "\n",
        "**Dataset**\n",
        "- You can find the New York City Airbnb dataset on Kaggle: [New York City Airbnb Dataset](https://www.kaggle.com/datasets/dgomonov/new-york-city-airbnb-open-data)\n",
        "- Download the dataset from the provided link and save it as 'AB_NYC_2019.csv' on your computer.\n",
        "- On Google Colab, click on the \"Upload\" button and select the 'AB_NYC_2019.csv' file from your local computer."
      ],
      "metadata": {
        "id": "35fgH_hXgAUU"
      }
    },
    {
      "cell_type": "markdown",
      "source": [
        "## Introduction\n",
        "This SQL project is designed for beginners who want to practice writing SQL queries using a real-world dataset. In this project, we will work with the New York City Airbnb dataset. The main goal is to help you become familiar with SQL syntax and basic data analysis tasks. Make sure to complete the code where there is a 'TODO' sign. Hints are provided along the way.\n",
        "\n",
        "## Table of Contents\n",
        "1. [Libraries and Database Setup](#database-setup)\n",
        "2. [Loading the Dataset](#loading-dataset)\n",
        "3. [SQL Queries](#sql-queries)\n",
        "4. [Closing Connection](#closing-connection)\n",
        "5. [Summary of Basic SQL Commands](#summary-commands)\n",
        "\n",
        "# Section 1: Libraries and Database Setup <a name=\"database-setup\"></a>\n",
        "\n",
        "### Task 1.1: Import Libraries\n",
        "Let's start by importing the necessary libraries.\n"
      ],
      "metadata": {
        "id": "I4xHzjkqigQk"
      }
    },
    {
      "cell_type": "code",
      "source": [
        "import pandas as pd\n",
        "import numpy as np\n",
        "import sqlite3"
      ],
      "metadata": {
        "id": "NnR6oXHNG6Ff"
      },
      "execution_count": null,
      "outputs": []
    },
    {
      "cell_type": "markdown",
      "source": [
        "### Task 1.2: Connect to the Database\n",
        "\n",
        "Next, establish a connection to the SQLite database named 'airbnb.db'.\n",
        "Use the sqlite3 library to create a connection object and store it in a variable called 'conn'.\n"
      ],
      "metadata": {
        "id": "qSERoLykixcz"
      }
    },
    {
      "cell_type": "code",
      "source": [
        "# Completed\n",
        "# Connect to the SQLite database\n",
        "conn = sqlite3.connect('airbnb.db')"
      ],
      "metadata": {
        "id": "8G9tDLd2iyq7"
      },
      "execution_count": null,
      "outputs": []
    },
    {
      "cell_type": "markdown",
      "source": [
        "# Section 2: Loading the Dataset <a name=\"loading-dataset\"></a>"
      ],
      "metadata": {
        "id": "gCE_OEk5BrF2"
      }
    },
    {
      "cell_type": "markdown",
      "source": [
        "### Task 2.1: Load the Dataset\n",
        "- You will work with the 'listings' table from the New York City Airbnb dataset.\n",
        "- Load the dataset from the CSV file 'AB_NYC_2019.csv' into a DataFrame named 'df'.\n",
        "- Then, import the DataFrame into the 'listings' table in the database using the to_sql() method.\n",
        "\n",
        "Hint: Use the read_csv() method from pandas to read the CSV file.\n"
      ],
      "metadata": {
        "id": "_bXjXLHli0aE"
      }
    },
    {
      "cell_type": "code",
      "source": [
        "# TODO: Load the dataset into the SQLite database\n",
        "data_path = # insert file path\n",
        "df = # read_csv() of the file\n",
        "\n",
        "# Completed\n",
        "df.to_sql('listings', conn, if_exists='replace', index=False)"
      ],
      "metadata": {
        "id": "blwNI_PEi5FT"
      },
      "execution_count": null,
      "outputs": []
    },
    {
      "cell_type": "markdown",
      "source": [
        "# Section 3: SQL Queries <a name=\"sql-queries\"></a>\n",
        "\n",
        "Query the database: Write SQL queries to analyze the data in the SQLite database. You can use the sqlite3 library to execute the queries and fetch the results."
      ],
      "metadata": {
        "id": "1j3xgaK4Ck3S"
      }
    },
    {
      "cell_type": "markdown",
      "source": [
        "### Task 3.1: Retrieve all Columns\n",
        "- Write an SQL query to retrieve all columns from the 'listings' table.\n",
        "- Execute the query and display the first 10 rows of the result\n",
        "\n",
        "Hint: Use SELECTION to select entries from a specified table."
      ],
      "metadata": {
        "id": "eKaLdB8Fi7Bh"
      }
    },
    {
      "cell_type": "code",
      "source": [
        "cursor = conn.cursor()\n",
        "\n",
        "# TODO: Execute an SQL query using the cursor.execute() method to retrieve all columns from listings (don't forget the trailing ';' to finish a query)\n",
        "cursor.execute(\"# insert selection from table here\")\n",
        "\n",
        "# Completed\n",
        "# Fetch all the results using fetchall()\n",
        "results = cursor.fetchall()"
      ],
      "metadata": {
        "id": "gqe3KmtUCr9V"
      },
      "execution_count": null,
      "outputs": []
    },
    {
      "cell_type": "code",
      "source": [
        "# TODO: Display the first 10 rows\n",
        "for i, row in enumerate(results[:# insert number of rows desired]):\n",
        "    print(row)"
      ],
      "metadata": {
        "id": "9ZqFoSV6C5cH"
      },
      "execution_count": null,
      "outputs": []
    },
    {
      "cell_type": "markdown",
      "source": [
        "### Task 3.2: Count Total Records\n",
        "- Write an SQL query to count the total number of records in the 'listings' table.\n",
        "- Execute the query and display the count.\n",
        "\n",
        "Hint: This query uses the COUNT(*) function to count the total number of records in the \"listings\" table."
      ],
      "metadata": {
        "id": "0O4Nfb9yC61D"
      }
    },
    {
      "cell_type": "code",
      "source": [
        "# TODO: Execute the SQL query to count the number of records (don't forget the trailing ';' to finish a query)\n",
        "cursor.execute(\"# insert selection with COUNT(*) here\")\n",
        "\n",
        "# Completed\n",
        "count = cursor.fetchone()[0]\n",
        "# Print the count\n",
        "print(\"Total number of records in the 'listings' table:\", count)"
      ],
      "metadata": {
        "id": "4fJa4Bt6C7Nw"
      },
      "execution_count": null,
      "outputs": []
    },
    {
      "cell_type": "markdown",
      "source": [
        "### Task 3.3: Top 10 Neighborhoods by Average Price\n",
        "- Write an SQL query to find the top 10 neighborhoods with the highest average listing price.\n",
        "- Execute the query and display the results.\n",
        "\n",
        "Hint: The result includes the neighborhood group, neighborhood name, and the average price. Make sure to use GROUP BY and ORDER BY, respectively.\n"
      ],
      "metadata": {
        "id": "uULLKoO0DEou"
      }
    },
    {
      "cell_type": "code",
      "source": [
        "# TODO: Execute the SQL query to find the top 10 neighborhoods with the highest average listing price (finish the two missing sql commands)\n",
        "cursor.execute(\"\"\"\n",
        "    SELECT neighbourhood_group, neighbourhood, AVG(price) AS avg_price\n",
        "    FROM listings\n",
        "    # insert a group by neighbourhood_group and neighbourhood\n",
        "    # insert a descending order by avg_price\n",
        "    LIMIT 10;\n",
        "\"\"\")\n",
        "\n",
        "# Completed\n",
        "results = cursor.fetchall()"
      ],
      "metadata": {
        "id": "EDnyQuz1DDin"
      },
      "execution_count": null,
      "outputs": []
    },
    {
      "cell_type": "code",
      "source": [
        "# Display the results\n",
        "for row in results:\n",
        "    print(row)"
      ],
      "metadata": {
        "id": "Ci48EiFwDJBB"
      },
      "execution_count": null,
      "outputs": []
    },
    {
      "cell_type": "markdown",
      "source": [
        "### Task 3.4: Number of Listings by Room Type\n",
        "- Write an SQL query to determine the number of listings available for each room type.\n",
        "- Execute the query and display the results.\n",
        "\n",
        "Hint: The COUNT(*) function is used to count the number of records for each room type, and the result is grouped by the room type."
      ],
      "metadata": {
        "id": "yPvuIfq7DMhj"
      }
    },
    {
      "cell_type": "code",
      "source": [
        "# TODO: Execute the SQL query to determine the number of listings available for each room type (finish the one missing sql command)\n",
        "cursor.execute(\"\"\"\n",
        "    # insert selection of room_type and COUNT(*) AS num_listings\n",
        "    FROM listings\n",
        "    GROUP BY room_type;\n",
        "\"\"\")\n",
        "\n",
        "# Completed\n",
        "results = cursor.fetchall()"
      ],
      "metadata": {
        "id": "U1r32q1rDOil"
      },
      "execution_count": null,
      "outputs": []
    },
    {
      "cell_type": "code",
      "source": [
        "# Display the results\n",
        "for row in results:\n",
        "    print(row)"
      ],
      "metadata": {
        "id": "s93h67wkDR6r"
      },
      "execution_count": null,
      "outputs": []
    },
    {
      "cell_type": "markdown",
      "source": [
        "### Task 3.5: Average Number of Reviews per Listing\n",
        "- Write an SQL query to calculate the average number of reviews per listing.\n",
        "- Execute the query and display the average.\n",
        "\n",
        "Hint: Use AVG() to find the average of a column and save it via an alias using AS. Make sure to specify the table using FROM."
      ],
      "metadata": {
        "id": "5zAOsyKXDV_j"
      }
    },
    {
      "cell_type": "code",
      "source": [
        "# TODO: Execute the SQL query to calculate the average number of reviews per listing (finish both the missing sql commands)\n",
        "cursor.execute(\"\"\"\n",
        "    # insert selection of the avergae of number_of_reviews AS avg_reviews\n",
        "    # insert where this is coming from listings;\n",
        "\"\"\")\n",
        "\n",
        "# Completed\n",
        "result = cursor.fetchone()\n",
        "# Print the average number of reviews per listing\n",
        "print(\"Average number of reviews per listing:\", result[0])"
      ],
      "metadata": {
        "id": "lbOe62s4Dgt0"
      },
      "execution_count": null,
      "outputs": []
    },
    {
      "cell_type": "markdown",
      "source": [
        "### Task 3.6: Listings with Minimum Number of Reviews\n",
        "- Write an SQL query to find the listings with the minimum number of reviews.\n",
        "- Execute the query and display the results (limit to 15 rows).\n",
        "\n",
        "Hint: The subquery (SELECT MIN(number_of_reviews) FROM listings) retrieves the minimum number of reviews from the \"listings\" table, and the main query filters the rows where number_of_reviews matches the minimum value. Make sure to use WHERE clause."
      ],
      "metadata": {
        "id": "XEQ1ZI6YDj1e"
      }
    },
    {
      "cell_type": "code",
      "source": [
        "# TODO: Execute the SQL query to find the listings with the minimum number of reviews (finish the third missing sql command)\n",
        "cursor.execute(\"\"\"\n",
        "    SELECT id\n",
        "    FROM listings\n",
        "    # insert number_of_reviews is coming from the subquery\n",
        "    LIMIT 15;\n",
        "\"\"\")\n",
        "\n",
        "# Completed\n",
        "results = cursor.fetchall()"
      ],
      "metadata": {
        "id": "z_Qq7kexDl38"
      },
      "execution_count": null,
      "outputs": []
    },
    {
      "cell_type": "code",
      "source": [
        "# Display the results (limit to 15 rows)\n",
        "for row in results:\n",
        "    print(row)"
      ],
      "metadata": {
        "id": "0rlqZDJCDoWB"
      },
      "execution_count": null,
      "outputs": []
    },
    {
      "cell_type": "markdown",
      "source": [
        "### Task 3.7: Filter Listings by Neighborhood and Maximum Price\n",
        "- Write an SQL query to filter the listings in the 'Chelsea' neighborhood with a maximum price of $200.\n",
        "- Execute the query and display the results.\n",
        "\n",
        "Hint: The WHERE clause is used to specify the filtering conditions."
      ],
      "metadata": {
        "id": "SXPgoKZcDp3h"
      }
    },
    {
      "cell_type": "code",
      "source": [
        "# TODO: Execute the SQL query to filter the listings\n",
        "cursor.execute(\"\"\"\n",
        "    # insert the selection of relevant columns\n",
        "    # insert the table\n",
        "    # insert specified neighbourhood = 'Chelsea' AND price <= 200 using WHERE clause\n",
        "\"\"\")\n",
        "\n",
        "# Completed\n",
        "results = cursor.fetchall()"
      ],
      "metadata": {
        "id": "l9Ynu9zCDtSE"
      },
      "execution_count": null,
      "outputs": []
    },
    {
      "cell_type": "code",
      "source": [
        "# Display the results\n",
        "for row in results:\n",
        "    print(row)"
      ],
      "metadata": {
        "id": "o6llsbDYDvOC"
      },
      "execution_count": null,
      "outputs": []
    },
    {
      "cell_type": "markdown",
      "source": [
        "# Section 4: Closing the Database Connection <a name=\"closing-connection\"></a>"
      ],
      "metadata": {
        "id": "CyaxVtAuDyDd"
      }
    },
    {
      "cell_type": "markdown",
      "source": [
        "### Task 4.1: Close the Cursor and Database Connection\n",
        "- It's good practice to close the cursor and the database connection when you're done working with the database to free up system resources and maintain proper connection management.\n"
      ],
      "metadata": {
        "id": "nFKyd0DbD4Ns"
      }
    },
    {
      "cell_type": "code",
      "source": [
        "# Completed\n",
        "# Make sure to include these lines of code at the end of your script to properly close the cursor and database connection.\n",
        "cursor.close()\n",
        "conn.close()"
      ],
      "metadata": {
        "id": "_z_H6ZsmD2GX"
      },
      "execution_count": null,
      "outputs": []
    },
    {
      "cell_type": "markdown",
      "source": [
        "# Section 5: Summary of Basic SQL Commands <a name=\"summary-commands\"></a>"
      ],
      "metadata": {
        "id": "P5b9IpSZVtlA"
      }
    },
    {
      "cell_type": "markdown",
      "source": [
        "In this project, you have practiced various SQL commands and tasks. Below is a summary of the basic SQL commands used:\n",
        "\n",
        "**Task 1.2: Connect to the Database**\n",
        "- Established a connection to the SQLite database.\n",
        "\n",
        "**Task 2.1: Load the Dataset**\n",
        "- Loaded the dataset into a DataFrame.\n",
        "- Imported the DataFrame into the database.\n",
        "\n",
        "**Task 3.1: Retrieve all Columns**\n",
        "- Executed a SELECT query to retrieve all columns.\n",
        "\n",
        "**Task 3.2: Count Total Records**\n",
        "- Executed a SELECT COUNT(*) query to count the total records.\n",
        "\n",
        "**Task 3.3: Top 10 Neighborhoods by Average Price**\n",
        "- Executed a SELECT query with GROUP BY, ORDER BY, and LIMIT clauses.\n",
        "\n",
        "**Task 3.4: Number of Listings by Room Type**\n",
        "- Executed a SELECT query with COUNT() and GROUP BY.\n",
        "\n",
        "**Task 3.5: Average Number of Reviews per Listing**\n",
        "- Executed a SELECT query with AVG().\n",
        "\n",
        "**Task 3.6: Listings with Minimum Number of Reviews**\n",
        "- Executed a SELECT query with WHERE and a subquery.\n",
        "\n",
        "**Task 3.7: Filter Listings by Neighborhood and Maximum Price**\n",
        "- Executed a SELECT query with WHERE conditions.\n",
        "\n",
        "**Task 4.1: Close the Cursor and Database Connection**\n",
        "- Closed the cursor and the database connection.\n",
        "\n",
        "This summary provides an overview of the basic SQL commands used in this project. You can use this as a reference for future SQL projects and data analysis tasks.\n"
      ],
      "metadata": {
        "id": "e_AmKIOvUHR_"
      }
    },
    {
      "cell_type": "markdown",
      "metadata": {
        "id": "UT8Rpdt4ZPeA"
      },
      "source": [
        "<h3 align = 'center' >\n",
        "Thank you for completing the project!\n",
        "</h3>\n",
        "\n",
        "Please do reach out to us if you have any questions or concerns. We are here to help you learn and grow.\n",
        "\n",
        "Please send your completed Google Colab Notebook to the NSDC HQ Team at nsdc@nebigdatahub.org in order to receive your virtual certificate of completion.\n"
      ]
    }
  ]
}
