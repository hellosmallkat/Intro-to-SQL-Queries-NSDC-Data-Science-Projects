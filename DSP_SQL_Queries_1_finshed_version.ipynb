{
  "nbformat": 4,
  "nbformat_minor": 0,
  "metadata": {
    "colab": {
      "provenance": [],
      "include_colab_link": true
    },
    "kernelspec": {
      "name": "python3",
      "display_name": "Python 3"
    },
    "language_info": {
      "name": "python"
    }
  },
  "cells": [
    {
      "cell_type": "markdown",
      "metadata": {
        "id": "view-in-github",
        "colab_type": "text"
      },
      "source": [
        "<a href=\"https://colab.research.google.com/github/hellosmallkat/Intro-to-SQL-Queries-NSDC-Data-Science-Projects/blob/main/DSP_SQL_Queries_1_Kat_Toolan.ipynb\" target=\"_parent\"><img src=\"https://colab.research.google.com/assets/colab-badge.svg\" alt=\"Open In Colab\"/></a>"
      ]
    },
    {
      "cell_type": "markdown",
      "source": [
        "\n",
        "\n",
        "<h1 align=\"center\">\n",
        "    NSDC Data Science Projects\n",
        "</h1>\n",
        "\n",
        "<h2 align=\"center\">\n",
        "    Project: Practicing Writing SQL Queries - #1\n",
        "</h2>\n",
        "\n",
        "<h3 align=\"center\">\n",
        "    Name: hellosmallkatn",
        "</h3>\n"
      ],
      "metadata": {
        "id": "tt70feOIfcQ0"
      }
    },
    {
      "cell_type": "markdown",
      "source": [
        "### **Please read before you begin your project**\n",
        "\n",
        "**Instructions: Google Colab Notebooks:**\n",
        "\n",
        "Google Colab is a free cloud service. It is a hosted Jupyter notebook service that requires no setup to use, while providing free access to computing resources. We will be using Google Colab for this project.\n",
        "\n",
        "In order to work within the Google Colab Notebook, **please start by clicking on \"File\" and then \"Save a copy in Drive.\"** This will save a copy of the notebook in your personal Google Drive.\n",
        "\n",
        "Please rename the file to \"DSP - SQL Queries #1 - Your Full Name.\" Once this project is completed, you will be prompted to share your file with the National Student Data Corps (NSDC) Project Leaders.\n",
        "\n",
        "You can now start working on the project. :)\n",
        "\n",
        "**Project Description:**\n",
        "\n",
        "To work with the New York City Airbnb dataset in this project, you'll need to create and connect to an SQLite database as seen in the steps within this notebook.\n",
        "\n",
        "**Key Features**\n",
        "\n",
        "- Practical SQL exercises with step-by-step instructions.\n",
        "- Real-world datasets for hands-on experience.\n",
        "- Comprehensive explanations of SQL queries and concepts.\n",
        "- Interactive coding examples and challenges.\n",
        "\n",
        "**Dataset**\n",
        "- You can find the New York City Airbnb dataset on Kaggle: [New York City Airbnb Dataset](https://www.kaggle.com/datasets/dgomonov/new-york-city-airbnb-open-data)\n",
        "- Download the dataset from the provided link and save it as 'AB_NYC_2019.csv' on your computer.\n",
        "- On Google Colab, click on the \"Upload\" button and select the 'AB_NYC_2019.csv' file from your local computer."
      ],
      "metadata": {
        "id": "35fgH_hXgAUU"
      }
    },
    {
      "cell_type": "markdown",
      "source": [
        "## Introduction\n",
        "This SQL project is designed for beginners who want to practice writing SQL queries using a real-world dataset. In this project, we will work with the New York City Airbnb dataset. The main goal is to help you become familiar with SQL syntax and basic data analysis tasks. Make sure to complete the code where there is a 'TODO' sign. Hints are provided along the way.\n",
        "\n",
        "## Table of Contents\n",
        "1. [Libraries and Database Setup](#database-setup)\n",
        "2. [Loading the Dataset](#loading-dataset)\n",
        "3. [SQL Queries](#sql-queries)\n",
        "4. [Closing Connection](#closing-connection)\n",
        "5. [Summary of Basic SQL Commands](#summary-commands)\n",
        "\n",
        "# Section 1: Libraries and Database Setup <a name=\"database-setup\"></a>\n",
        "\n",
        "### Task 1.1: Import Libraries\n",
        "Let's start by importing the necessary libraries.\n"
      ],
      "metadata": {
        "id": "I4xHzjkqigQk"
      }
    },
    {
      "cell_type": "code",
      "source": [
        "import pandas as pd\n",
        "import numpy as np\n",
        "import sqlite3"
      ],
      "metadata": {
        "id": "NnR6oXHNG6Ff"
      },
      "execution_count": 1,
      "outputs": []
    },
    {
      "cell_type": "markdown",
      "source": [
        "### Task 1.2: Connect to the Database\n",
        "\n",
        "Next, establish a connection to the SQLite database named 'airbnb.db'.\n",
        "Use the sqlite3 library to create a connection object and store it in a variable called 'conn'.\n"
      ],
      "metadata": {
        "id": "qSERoLykixcz"
      }
    },
    {
      "cell_type": "code",
      "source": [
        "# Completed\n",
        "# Connect to the SQLite database\n",
        "conn = sqlite3.connect('airbnb.db')"
      ],
      "metadata": {
        "id": "8G9tDLd2iyq7"
      },
      "execution_count": 2,
      "outputs": []
    },
    {
      "cell_type": "markdown",
      "source": [
        "# Section 2: Loading the Dataset <a name=\"loading-dataset\"></a>"
      ],
      "metadata": {
        "id": "gCE_OEk5BrF2"
      }
    },
    {
      "cell_type": "markdown",
      "source": [
        "### Task 2.1: Load the Dataset\n",
        "- You will work with the 'listings' table from the New York City Airbnb dataset.\n",
        "- Load the dataset from the CSV file 'AB_NYC_2019.csv' into a DataFrame named 'df'.\n",
        "- Then, import the DataFrame into the 'listings' table in the database using the to_sql() method.\n",
        "\n",
        "Hint: Use the read_csv() method from pandas to read the CSV file.\n"
      ],
      "metadata": {
        "id": "_bXjXLHli0aE"
      }
    },
    {
      "cell_type": "code",
      "source": [
        "# TODO: Load the dataset into the SQLite database\n",
        "data_path = 'AB_NYC_2019.csv' # insert file path\n",
        "df = pd.read_csv(\"AB_NYC_2019.csv\") #of the file\n",
        "#df.head()\n",
        "# Completed\n",
        "df.to_sql('listings', conn, if_exists='replace', index=False)"
      ],
      "metadata": {
        "id": "blwNI_PEi5FT",
        "colab": {
          "base_uri": "https://localhost:8080/"
        },
        "outputId": "cb3d1a24-cc47-4162-99bd-8dbc8bfc5cb2"
      },
      "execution_count": 8,
      "outputs": [
        {
          "output_type": "execute_result",
          "data": {
            "text/plain": [
              "48895"
            ]
          },
          "metadata": {},
          "execution_count": 8
        }
      ]
    },
    {
      "cell_type": "markdown",
      "source": [
        "# Section 3: SQL Queries <a name=\"sql-queries\"></a>\n",
        "\n",
        "Query the database: Write SQL queries to analyze the data in the SQLite database. You can use the sqlite3 library to execute the queries and fetch the results."
      ],
      "metadata": {
        "id": "1j3xgaK4Ck3S"
      }
    },
    {
      "cell_type": "markdown",
      "source": [
        "### Task 3.1: Retrieve all Columns\n",
        "- Write an SQL query to retrieve all columns from the 'listings' table.\n",
        "- Execute the query and display the first 10 rows of the result\n",
        "\n",
        "Hint: Use SELECTION to select entries from a specified table."
      ],
      "metadata": {
        "id": "eKaLdB8Fi7Bh"
      }
    },
    {
      "cell_type": "code",
      "source": [
        "cursor = conn.cursor()\n",
        "df.columns\n",
        "\n",
        "# TODO: Execute an SQL query using the cursor.execute() method to retrieve all columns from listings (don't forget the trailing ';' to finish a query)\n",
        "cursor.execute(\"SELECT * FROM listings;\")\n",
        "\n",
        "# Completed\n",
        "# Fetch all the results using fetchall()\n",
        "results = cursor.fetchall()"
      ],
      "metadata": {
        "id": "gqe3KmtUCr9V"
      },
      "execution_count": 9,
      "outputs": []
    },
    {
      "cell_type": "code",
      "source": [
        "from google.colab import drive\n",
        "drive.mount('/content/drive')"
      ],
      "metadata": {
        "colab": {
          "base_uri": "https://localhost:8080/"
        },
        "id": "wPPUeQENVDkF",
        "outputId": "46d106b1-c797-41dc-e3f6-43fc8909d9af"
      },
      "execution_count": 5,
      "outputs": [
        {
          "output_type": "stream",
          "name": "stdout",
          "text": [
            "Mounted at /content/drive\n"
          ]
        }
      ]
    },
    {
      "cell_type": "code",
      "source": [
        "# TODO: Display the first 10 rows\n",
        "for i, row in enumerate(results[:10]):# insert number of rows desired]):\n",
        "    print(row)"
      ],
      "metadata": {
        "id": "9ZqFoSV6C5cH",
        "colab": {
          "base_uri": "https://localhost:8080/"
        },
        "outputId": "d470ad0d-8cc4-40a3-e246-b4ab7313e04c"
      },
      "execution_count": 10,
      "outputs": [
        {
          "output_type": "stream",
          "name": "stdout",
          "text": [
            "(2539, 'Clean & quiet apt home by the park', 2787, 'John', 'Brooklyn', 'Kensington', 40.64749, -73.97237, 'Private room', 149, 1, 9, '2018-10-19', 0.21, 6, 365)\n",
            "(2595, 'Skylit Midtown Castle', 2845, 'Jennifer', 'Manhattan', 'Midtown', 40.75362, -73.98377, 'Entire home/apt', 225, 1, 45, '2019-05-21', 0.38, 2, 355)\n",
            "(3647, 'THE VILLAGE OF HARLEM....NEW YORK !', 4632, 'Elisabeth', 'Manhattan', 'Harlem', 40.80902, -73.9419, 'Private room', 150, 3, 0, None, None, 1, 365)\n",
            "(3831, 'Cozy Entire Floor of Brownstone', 4869, 'LisaRoxanne', 'Brooklyn', 'Clinton Hill', 40.68514, -73.95976, 'Entire home/apt', 89, 1, 270, '2019-07-05', 4.64, 1, 194)\n",
            "(5022, 'Entire Apt: Spacious Studio/Loft by central park', 7192, 'Laura', 'Manhattan', 'East Harlem', 40.79851, -73.94399, 'Entire home/apt', 80, 10, 9, '2018-11-19', 0.1, 1, 0)\n",
            "(5099, 'Large Cozy 1 BR Apartment In Midtown East', 7322, 'Chris', 'Manhattan', 'Murray Hill', 40.74767, -73.975, 'Entire home/apt', 200, 3, 74, '2019-06-22', 0.59, 1, 129)\n",
            "(5121, 'BlissArtsSpace!', 7356, 'Garon', 'Brooklyn', 'Bedford-Stuyvesant', 40.68688, -73.95596, 'Private room', 60, 45, 49, '2017-10-05', 0.4, 1, 0)\n",
            "(5178, \"Large Furnished Room Near B'way \", 8967, 'Shunichi', 'Manhattan', \"Hell's Kitchen\", 40.76489, -73.98493, 'Private room', 79, 2, 430, '2019-06-24', 3.47, 1, 220)\n",
            "(5203, 'Cozy Clean Guest Room - Family Apt', 7490, 'MaryEllen', 'Manhattan', 'Upper West Side', 40.80178, -73.96723, 'Private room', 79, 2, 118, '2017-07-21', 0.99, 1, 0)\n",
            "(5238, 'Cute & Cozy Lower East Side 1 bdrm', 7549, 'Ben', 'Manhattan', 'Chinatown', 40.71344, -73.99037, 'Entire home/apt', 150, 1, 160, '2019-06-09', 1.33, 4, 188)\n"
          ]
        }
      ]
    },
    {
      "cell_type": "markdown",
      "source": [
        "### Task 3.2: Count Total Records\n",
        "- Write an SQL query to count the total number of records in the 'listings' table.\n",
        "- Execute the query and display the count.\n",
        "\n",
        "Hint: This query uses the COUNT(*) function to count the total number of records in the \"listings\" table."
      ],
      "metadata": {
        "id": "0O4Nfb9yC61D"
      }
    },
    {
      "cell_type": "code",
      "source": [
        "# TODO: Execute the SQL query to count the number of records (don't forget the trailing ';' to finish a query)\n",
        "cursor.execute(\"SELECT COUNT(*) FROM listings\")# insert selection with COUNT(*) here\n",
        "\n",
        "# Completed\n",
        "count = cursor.fetchone()[0]\n",
        "# Print the count\n",
        "print(\"Total number of records in the 'listings' table:\", count)"
      ],
      "metadata": {
        "id": "4fJa4Bt6C7Nw",
        "colab": {
          "base_uri": "https://localhost:8080/"
        },
        "outputId": "b57669ba-60dc-42a9-dd67-fd31e9d6e942"
      },
      "execution_count": 11,
      "outputs": [
        {
          "output_type": "stream",
          "name": "stdout",
          "text": [
            "Total number of records in the 'listings' table: 48895\n"
          ]
        }
      ]
    },
    {
      "cell_type": "markdown",
      "source": [
        "### Task 3.3: Top 10 Neighborhoods by Average Price\n",
        "- Write an SQL query to find the top 10 neighborhoods with the highest average listing price.\n",
        "- Execute the query and display the results.\n",
        "\n",
        "Hint: The result includes the neighborhood group, neighborhood name, and the average price. Make sure to use GROUP BY and ORDER BY, respectively.\n"
      ],
      "metadata": {
        "id": "uULLKoO0DEou"
      }
    },
    {
      "cell_type": "code",
      "source": [
        "# TODO: Execute the SQL query to find the top 10 neighborhoods with the highest average listing price (finish the two missing sql commands)\n",
        "cursor.execute(\"\"\"\n",
        "    SELECT neighbourhood_group, neighbourhood, AVG(price) AS avg_price\n",
        "    FROM listings\n",
        "    GROUP BY neighbourhood_group, neighbourhood\n",
        "    ORDER BY avg_price DESC\n",
        "\n",
        "    LIMIT 10;\n",
        "\"\"\")\n",
        "# insert a group by neighbourhood_group and neighbourhood\n",
        "    # insert a descending order by avg_price\n",
        "# Completed\n",
        "results = cursor.fetchall()"
      ],
      "metadata": {
        "id": "EDnyQuz1DDin"
      },
      "execution_count": 12,
      "outputs": []
    },
    {
      "cell_type": "code",
      "source": [
        "# Display the results\n",
        "for row in results:\n",
        "    print(row)"
      ],
      "metadata": {
        "id": "Ci48EiFwDJBB",
        "colab": {
          "base_uri": "https://localhost:8080/"
        },
        "outputId": "17a358dc-6cdb-475a-f5b7-6c41d056d8ed"
      },
      "execution_count": 13,
      "outputs": [
        {
          "output_type": "stream",
          "name": "stdout",
          "text": [
            "('Staten Island', 'Fort Wadsworth', 800.0)\n",
            "('Staten Island', 'Woodrow', 700.0)\n",
            "('Manhattan', 'Tribeca', 490.638418079096)\n",
            "('Brooklyn', 'Sea Gate', 487.85714285714283)\n",
            "('Bronx', 'Riverdale', 442.09090909090907)\n",
            "('Staten Island', \"Prince's Bay\", 409.5)\n",
            "('Manhattan', 'Battery Park City', 367.5571428571429)\n",
            "('Manhattan', 'Flatiron District', 341.925)\n",
            "('Staten Island', 'Randall Manor', 336.0)\n",
            "('Manhattan', 'NoHo', 295.71794871794873)\n"
          ]
        }
      ]
    },
    {
      "cell_type": "markdown",
      "source": [
        "### Task 3.4: Number of Listings by Room Type\n",
        "- Write an SQL query to determine the number of listings available for each room type.\n",
        "- Execute the query and display the results.\n",
        "\n",
        "Hint: The COUNT(*) function is used to count the number of records for each room type, and the result is grouped by the room type."
      ],
      "metadata": {
        "id": "yPvuIfq7DMhj"
      }
    },
    {
      "cell_type": "code",
      "source": [
        "# TODO: Execute the SQL query to determine the number of listings available for each room type (finish the one missing sql command)\n",
        "cursor.execute(\"\"\"\n",
        "    SELECT room_type, COUNT(*) AS num_listings\n",
        "    FROM listings\n",
        "    GROUP BY room_type;\n",
        "\"\"\")\n",
        " # insert selection of room_type and COUNT(*) AS num_listings\n",
        "# Completed\n",
        "results = cursor.fetchall()"
      ],
      "metadata": {
        "id": "U1r32q1rDOil"
      },
      "execution_count": 15,
      "outputs": []
    },
    {
      "cell_type": "code",
      "source": [
        "# Display the results\n",
        "for row in results:\n",
        "    print(row)"
      ],
      "metadata": {
        "id": "s93h67wkDR6r",
        "colab": {
          "base_uri": "https://localhost:8080/"
        },
        "outputId": "602d1b16-ab7e-45cc-9ba3-63edd42eb1d5"
      },
      "execution_count": 16,
      "outputs": [
        {
          "output_type": "stream",
          "name": "stdout",
          "text": [
            "('Entire home/apt', 25409)\n",
            "('Private room', 22326)\n",
            "('Shared room', 1160)\n"
          ]
        }
      ]
    },
    {
      "cell_type": "markdown",
      "source": [
        "### Task 3.5: Average Number of Reviews per Listing\n",
        "- Write an SQL query to calculate the average number of reviews per listing.\n",
        "- Execute the query and display the average.\n",
        "\n",
        "Hint: Use AVG() to find the average of a column and save it via an alias using AS. Make sure to specify the table using FROM."
      ],
      "metadata": {
        "id": "5zAOsyKXDV_j"
      }
    },
    {
      "cell_type": "code",
      "source": [
        "# TODO: Execute the SQL query to calculate the average number of reviews per listing (finish both the missing sql commands)\n",
        "cursor.execute(\"\"\"\n",
        "   SELECT AVG(number_of_reviews) AS avg_reviews\n",
        "   FROM listings;\n",
        "\"\"\")\n",
        " # insert selection of the avergae of number_of_reviews AS avg_reviews\n",
        "    # insert where this is coming from listings;\n",
        "# Completed\n",
        "result = cursor.fetchone()\n",
        "# Print the average number of reviews per listing\n",
        "print(\"Average number of reviews per listing:\", result[0])"
      ],
      "metadata": {
        "id": "lbOe62s4Dgt0",
        "colab": {
          "base_uri": "https://localhost:8080/"
        },
        "outputId": "621e0af8-6b01-473b-846c-f26e7ea8934a"
      },
      "execution_count": 17,
      "outputs": [
        {
          "output_type": "stream",
          "name": "stdout",
          "text": [
            "Average number of reviews per listing: 23.274465691788528\n"
          ]
        }
      ]
    },
    {
      "cell_type": "markdown",
      "source": [
        "### Task 3.6: Listings with Minimum Number of Reviews\n",
        "- Write an SQL query to find the listings with the minimum number of reviews.\n",
        "- Execute the query and display the results (limit to 15 rows).\n",
        "\n",
        "Hint: The subquery (SELECT MIN(number_of_reviews) FROM listings) retrieves the minimum number of reviews from the \"listings\" table, and the main query filters the rows where number_of_reviews matches the minimum value. Make sure to use WHERE clause."
      ],
      "metadata": {
        "id": "XEQ1ZI6YDj1e"
      }
    },
    {
      "cell_type": "code",
      "source": [
        "# TODO: Execute the SQL query to find the listings with the minimum number of reviews (finish the third missing sql command)\n",
        "cursor.execute(\"\"\"\n",
        "    SELECT id\n",
        "    FROM listings\n",
        "    WHERE number_of_reviews = (\n",
        "      SELECT MIN(number_of_reviews)\n",
        "      FROM listings\n",
        "    )\n",
        "    LIMIT 15;\n",
        "\"\"\")\n",
        "# insert number_of_reviews is coming from the subquery\n",
        "# Completed\n",
        "results = cursor.fetchall()"
      ],
      "metadata": {
        "id": "z_Qq7kexDl38"
      },
      "execution_count": 20,
      "outputs": []
    },
    {
      "cell_type": "code",
      "source": [
        "# Display the results (limit to 15 rows)\n",
        "for row in results:\n",
        "    print(row)"
      ],
      "metadata": {
        "id": "0rlqZDJCDoWB",
        "colab": {
          "base_uri": "https://localhost:8080/"
        },
        "outputId": "920f19d7-c756-43d0-e684-3983e6fe3673"
      },
      "execution_count": 19,
      "outputs": [
        {
          "output_type": "stream",
          "name": "stdout",
          "text": [
            "(3647,)\n",
            "(7750,)\n",
            "(8700,)\n",
            "(11452,)\n",
            "(11943,)\n",
            "(51438,)\n",
            "(54466,)\n",
            "(63588,)\n",
            "(63913,)\n",
            "(64015,)\n",
            "(65556,)\n",
            "(89427,)\n",
            "(94209,)\n",
            "(118680,)\n",
            "(145188,)\n"
          ]
        }
      ]
    },
    {
      "cell_type": "markdown",
      "source": [
        "### Task 3.7: Filter Listings by Neighborhood and Maximum Price\n",
        "- Write an SQL query to filter the listings in the 'Chelsea' neighborhood with a maximum price of $200.\n",
        "- Execute the query and display the results.\n",
        "\n",
        "Hint: The WHERE clause is used to specify the filtering conditions."
      ],
      "metadata": {
        "id": "SXPgoKZcDp3h"
      }
    },
    {
      "cell_type": "code",
      "source": [
        "# TODO: Execute the SQL query to filter the listings\n",
        "cursor.execute(\"\"\"\n",
        "   SELECT *\n",
        "   FROM listings\n",
        "   WHERE neighbourhood = 'Chelsea' AND price <= 200\n",
        "\"\"\")\n",
        " # insert the selection of relevant columns\n",
        "    # insert the table\n",
        "    # insert specified neighbourhood = 'Chelsea' AND price <= 200 using WHERE clause\n",
        "# Completed\n",
        "results = cursor.fetchall()"
      ],
      "metadata": {
        "id": "l9Ynu9zCDtSE"
      },
      "execution_count": 21,
      "outputs": []
    },
    {
      "cell_type": "code",
      "source": [
        "# Display the results\n",
        "for row in results:\n",
        "    print(row)"
      ],
      "metadata": {
        "id": "o6llsbDYDvOC",
        "colab": {
          "base_uri": "https://localhost:8080/"
        },
        "outputId": "fa62fa89-c5c5-463b-dba7-43231bdf4ede"
      },
      "execution_count": 22,
      "outputs": [
        {
          "output_type": "stream",
          "name": "stdout",
          "text": [
            "(7322, 'Chelsea Perfect', 18946, 'Doti', 'Manhattan', 'Chelsea', 40.74192, -73.99501, 'Private room', 140, 1, 260, '2019-07-01', 2.12, 1, 12)\n",
            "(18728, 'Beautiful Meatpacking District Loft', 71876, 'DAVID And RICK', 'Manhattan', 'Chelsea', 40.74138, -74.00197, 'Private room', 150, 3, 167, '2019-05-28', 1.65, 1, 295)\n",
            "(21794, 'COZY QUIET room 4 DOOGLERS!', 83257, 'Olan', 'Manhattan', 'Chelsea', 40.74008, -74.00271, 'Private room', 98, 30, 30, '2019-05-01', 0.27, 2, 364)\n",
            "(47370, 'Chelsea Studio sublet 1 - 2 months', 214287, 'Alex', 'Manhattan', 'Chelsea', 40.74031, -73.99999, 'Entire home/apt', 125, 3, 3, '2015-07-17', 0.03, 1, 0)\n",
            "(51572, 'Prime Location in Manhattan', 237329, 'Lee', 'Manhattan', 'Chelsea', 40.74859, -73.99671, 'Private room', 123, 1, 375, '2019-06-18', 3.52, 1, 328)\n",
            "(98663, 'Groovy NYC Chelsea Pad', 520279, 'Peter Michael', 'Manhattan', 'Chelsea', 40.74893, -73.99544, 'Entire home/apt', 130, 30, 19, '2018-06-11', 0.19, 1, 189)\n",
            "(135706, 'The Ground Studio - West Side', 665013, 'Jeff', 'Manhattan', 'Chelsea', 40.74488, -74.001, 'Entire home/apt', 132, 4, 10, '2017-01-01', 0.1, 1, 0)\n",
            "(145188, 'Parisian apartment in Chelsea', 703156, 'Kristin', 'Manhattan', 'Chelsea', 40.74249, -74.00329, 'Entire home/apt', 200, 4, 0, None, None, 1, 0)\n",
            "(159913, 'Chelsea living, 2BR best location', 759883, 'Kaye', 'Manhattan', 'Chelsea', 40.74346, -73.99882, 'Private room', 150, 2, 37, '2019-07-03', 1.79, 1, 0)\n",
            "(193853, 'Quiet Chelsea Studio w/Charm', 48599, 'Anastasia', 'Manhattan', 'Chelsea', 40.74033, -74.00024, 'Entire home/apt', 149, 6, 23, '2018-05-21', 0.27, 2, 0)\n",
            "(222304, 'BEST DEAL IN CHELSEA 1 bdrm NYC', 1153993, 'Anton', 'Manhattan', 'Chelsea', 40.74233, -73.99865, 'Entire home/apt', 199, 4, 32, '2019-05-08', 0.34, 1, 28)\n",
            "(258690, 'CHELSEA 1 Bdrm Plus Sleeping Loft!!', 1359611, 'Andrea', 'Manhattan', 'Chelsea', 40.74618, -74.00392, 'Entire home/apt', 195, 365, 10, '2014-10-26', 0.12, 1, 0)\n",
            "(261674, 'Chelsea/West Village - 2bdrm apt', 1372786, 'Lindsey', 'Manhattan', 'Chelsea', 40.74025, -74.00161, 'Private room', 95, 5, 20, '2017-04-01', 0.33, 1, 0)\n",
            "(442649, 'Lovely Chelsea 1 Bedroom', 793225, 'Rachel', 'Manhattan', 'Chelsea', 40.74572, -73.99965, 'Entire home/apt', 125, 9, 10, '2018-08-22', 0.11, 1, 0)\n",
            "(456110, 'Beautiful One Bedroom in Chelsea', 2267508, 'Daniel', 'Manhattan', 'Chelsea', 40.7476, -73.99698, 'Entire home/apt', 139, 4, 23, '2015-10-04', 0.27, 1, 0)\n",
            "(502132, 'Beautiful Downtown Manhattan Share', 48599, 'Anastasia', 'Manhattan', 'Chelsea', 40.73942, -74.00009, 'Shared room', 50, 1, 61, '2017-05-07', 0.71, 2, 0)\n",
            "(515392, 'Beautiful Brand New Chelsea Studio', 2538544, 'Michael', 'Manhattan', 'Chelsea', 40.74348, -73.9998, 'Entire home/apt', 200, 1, 60, '2019-06-02', 0.78, 1, 260)\n",
            "(516461, 'Great studio apt in midtown west!', 2542895, 'Aaron', 'Manhattan', 'Chelsea', 40.75086, -73.99776, 'Entire home/apt', 130, 5, 9, '2016-08-04', 0.1, 1, 0)\n",
            "(522081, 'Guest Room in Art Loft in Chelsea', 1413546, 'Asher', 'Manhattan', 'Chelsea', 40.74341, -73.99298, 'Private room', 170, 2, 183, '2019-06-14', 2.19, 2, 254)\n",
            "(525120, 'Very cute quiet Studio in chelsea', 184883, 'Noele', 'Manhattan', 'Chelsea', 40.74767, -74.01061, 'Entire home/apt', 135, 6, 42, '2019-05-27', 0.49, 1, 170)\n",
            "(564184, 'CLEAN PRIVATE ROOM IN CHELSEA NYC', 2378357, 'David', 'Manhattan', 'Chelsea', 40.73971, -74.00221, 'Private room', 125, 2, 42, '2019-05-31', 0.5, 1, 172)\n",
            "(649561, 'Manhattan Sky Crib (1 year sublet)', 3260084, 'David', 'Manhattan', 'Chelsea', 40.75164, -73.99425, 'Entire home/apt', 135, 365, 0, None, None, 1, 365)\n",
            "(667375, 'Light & airy Chelsea NY 1bdrm apt', 3376141, 'Nic', 'Manhattan', 'Chelsea', 40.74272, -74.00309, 'Entire home/apt', 200, 3, 17, '2018-06-24', 0.21, 1, 5)\n",
            "(683084, 'Midtown West- A COZY ONE bedroom.', 3480879, 'Danny', 'Manhattan', 'Chelsea', 40.75286, -74.00162, 'Entire home/apt', 199, 6, 40, '2017-10-15', 0.5, 1, 0)\n",
            "(698327, 'Clean Cute Private Room in CHELSEA', 3579337, 'Nina', 'Manhattan', 'Chelsea', 40.74034, -74.00259, 'Private room', 72, 14, 11, '2017-12-08', 0.16, 3, 297)\n",
            "(731316, 'Sunny & Clean Apt, Ideal Location', 3805397, 'Christa', 'Manhattan', 'Chelsea', 40.74092, -74.00037, 'Entire home/apt', 140, 1, 6, '2016-05-25', 0.07, 1, 0)\n",
            "(747029, 'Private rooms in heart of Chelsea', 3920522, 'Erik', 'Manhattan', 'Chelsea', 40.74314, -74.00119, 'Private room', 155, 5, 18, '2019-06-05', 0.24, 1, 90)\n",
            "(767967, 'Studio in Chelsea', 3949235, 'Lior', 'Manhattan', 'Chelsea', 40.75039, -74.00287, 'Entire home/apt', 105, 7, 2, '2019-03-19', 0.5, 1, 0)\n",
            "(812938, 'Shabby Chic Modern Chelsea Studio', 4272748, 'Jason', 'Manhattan', 'Chelsea', 40.74082, -73.99581, 'Entire home/apt', 99, 2, 52, '2018-04-07', 0.65, 1, 30)\n",
            "(823520, 'ON HIGHLINE! Private room & bath', 4323625, 'Arthur', 'Manhattan', 'Chelsea', 40.75284, -74.00138, 'Private room', 179, 2, 251, '2019-07-03', 3.15, 1, 157)\n",
            "(826764, 'Spacious Sunny Union Sq Room', 4336760, 'Marie', 'Manhattan', 'Chelsea', 40.73588, -73.99224, 'Private room', 65, 180, 2, '2019-06-02', 0.07, 1, 263)\n",
            "(841292, 'BIG room in fun loft – heart of NYC', 4393626, 'Aaron', 'Manhattan', 'Chelsea', 40.74712, -73.99514, 'Private room', 109, 3, 26, '2019-05-27', 0.36, 2, 18)\n",
            "(858223, 'Entire flat west village', 4431107, 'Ally', 'Manhattan', 'Chelsea', 40.73818, -73.9977, 'Entire home/apt', 200, 2, 82, '2019-06-08', 2.02, 3, 157)\n",
            "(919830, '1br in a 2br apartment in Chelsea (23/7)', 1895793, 'Eduardo', 'Manhattan', 'Chelsea', 40.74605, -73.99906, 'Private room', 125, 2, 153, '2019-06-28', 2.17, 1, 161)\n",
            "(925137, 'Cute Manhattan Chelsea Apartment', 3458692, 'Karla', 'Manhattan', 'Chelsea', 40.74435, -74.00038, 'Entire home/apt', 124, 30, 4, '2016-06-10', 0.07, 1, 42)\n",
            "(1043046, 'Studio in Best Possible Location!', 2335804, 'Lindsay', 'Manhattan', 'Chelsea', 40.74112, -74.00177, 'Entire home/apt', 160, 5, 70, '2018-10-26', 1.16, 1, 0)\n",
            "(1072481, 'Bedroom for two in Chelsea', 5479559, 'Michael', 'Manhattan', 'Chelsea', 40.74573, -73.99712, 'Private room', 70, 1, 206, '2019-06-19', 2.72, 1, 15)\n",
            "(1089240, 'Great Apartment with luxurious bath in NYC/Chelsea', 5971251, 'D. Anthony', 'Manhattan', 'Chelsea', 40.74197, -73.99702, 'Private room', 176, 2, 123, '2019-06-23', 1.63, 1, 268)\n",
            "(1105845, 'Convenient Location! 1 BR on 1Floor', 3630531, 'Yuko', 'Manhattan', 'Chelsea', 40.7457, -73.99775, 'Entire home/apt', 160, 4, 5, '2019-01-01', 0.07, 1, 168)\n",
            "(1133296, 'Entire home/apt in Chelsea New York', 6216882, 'Raquel', 'Manhattan', 'Chelsea', 40.74119, -74.00234, 'Entire home/apt', 175, 3, 19, '2019-06-24', 0.25, 1, 194)\n",
            "(1139851, 'The Perfect Large Chelsea Studio', 5654454, 'Stuart', 'Manhattan', 'Chelsea', 40.74057, -73.99771, 'Entire home/apt', 90, 45, 11, '2019-02-19', 0.18, 1, 279)\n",
            "(1182187, 'Best Chelsea Street. Beautiful Room. Superhost.', 6467086, 'George', 'Manhattan', 'Chelsea', 40.74652, -74.00089, 'Private room', 125, 2, 228, '2019-07-01', 3.07, 1, 53)\n",
            "(1292428, 'Room in Great Loft - Fun/Convenient', 4393626, 'Aaron', 'Manhattan', 'Chelsea', 40.7433, -73.99832, 'Private room', 119, 4, 106, '2019-06-17', 1.47, 2, 23)\n",
            "(1336223, 'Safe, Sunny, Quiet Chelsea Apt has Washer/Dryer', 7245581, 'Michael', 'Manhattan', 'Chelsea', 40.74913, -73.99575, 'Entire home/apt', 93, 39, 25, '2019-05-13', 0.35, 19, 245)\n",
            "(1336230, 'Safe,Sunny,SouthFacing Apt Near All', 7245581, 'Michael', 'Manhattan', 'Chelsea', 40.75032, -73.99676, 'Entire home/apt', 93, 120, 34, '2019-05-16', 0.47, 19, 316)\n",
            "(1336390, 'Charming, Quiet, & Clean 1BR APT', 1673136, 'Erin', 'Manhattan', 'Chelsea', 40.73981, -74.0016, 'Entire home/apt', 199, 3, 35, '2019-06-28', 0.49, 1, 69)\n",
            "(1377820, 'Great Studio in Chelsea, New York', 7463731, 'Alessandro', 'Manhattan', 'Chelsea', 40.74572, -73.99637, 'Entire home/apt', 180, 4, 28, '2016-05-18', 0.4, 1, 280)\n",
            "(1408914, 'Modern, Art Deco Chelsea Studio', 2594389, 'Arsen', 'Manhattan', 'Chelsea', 40.74206, -73.99499, 'Entire home/apt', 200, 3, 0, None, None, 1, 345)\n",
            "(1421933, 'Room in Chelsea New York', 7654246, 'Tamara', 'Manhattan', 'Chelsea', 40.74036, -74.00138, 'Private room', 90, 3, 5, '2016-07-25', 0.11, 1, 0)\n",
            "(1478946, 'Prime Chelsea Location,Washer/Dryer', 7245581, 'Michael', 'Manhattan', 'Chelsea', 40.75029, -73.99556, 'Entire home/apt', 98, 120, 38, '2019-05-15', 0.54, 19, 290)\n",
            "(1479283, 'Great Chelsea Location, Couch/2nd bed, Free WiFi', 7245581, 'Michael', 'Manhattan', 'Chelsea', 40.75028, -73.99533, 'Entire home/apt', 96, 115, 45, '2019-03-15', 0.63, 19, 210)\n",
            "(1524017, 'CHELSEA BROWNSTONE 1BRM GARDEN APT ', 8131878, 'Tabita', 'Manhattan', 'Chelsea', 40.74461, -74.00172, 'Entire home/apt', 140, 5, 50, '2019-06-13', 0.91, 1, 328)\n",
            "(1701981, 'Modern, Light-Filled Apt in Chelsea/Meatpacking', 1120027, 'Clay', 'Manhattan', 'Chelsea', 40.74072, -74.00438, 'Entire home/apt', 200, 7, 11, '2019-06-22', 1.17, 1, 11)\n",
            "(1704798, 'Perfect cozy PRIVATE room!!', 8998805, 'Koji & H', 'Manhattan', 'Chelsea', 40.75224, -73.99487, 'Private room', 76, 3, 164, '2019-06-24', 2.34, 1, 27)\n",
            "(1752206, 'Elegant 1b Near Everything', 5243858, 'Yvonne', 'Manhattan', 'Chelsea', 40.74314, -73.9957, 'Entire home/apt', 200, 2, 144, '2019-07-05', 2.07, 1, 263)\n",
            "(1759526, 'Lovely Room in Awesome Apartment - Fun/Convenient', 104250, 'Yair', 'Manhattan', 'Chelsea', 40.74563, -73.99325, 'Private room', 90, 3, 6, '2019-06-03', 0.1, 1, 11)\n",
            "(1811446, 'Private Room', 9490594, 'Brian', 'Manhattan', 'Chelsea', 40.74166, -73.99892, 'Private room', 90, 30, 83, '2017-10-23', 1.2, 1, 282)\n",
            "(1820858, 'Large Comfortable Studio in Chelsea', 3609524, 'Nayef', 'Manhattan', 'Chelsea', 40.74386, -73.99541, 'Entire home/apt', 161, 2, 8, '2016-07-29', 0.18, 1, 0)\n",
            "(1835367, 'Washer, Marble Bath, Yard near Subways, High Line', 7245581, 'Michael', 'Manhattan', 'Chelsea', 40.75, -73.99721, 'Entire home/apt', 92, 110, 13, '2019-03-09', 0.21, 19, 327)\n",
            "(1866051, '1 BR in Luxury Chelsea Doorman Bldg', 9729421, 'Brian', 'Manhattan', 'Chelsea', 40.74386, -74.00106, 'Entire home/apt', 200, 2, 2, '2016-03-13', 0.05, 1, 0)\n",
            "(1871261, 'Big room only 90. Great location.', 9751988, 'Asuka', 'Manhattan', 'Chelsea', 40.74599, -73.99775, 'Private room', 90, 6, 4, '2015-12-28', 0.07, 1, 0)\n",
            "(1891017, 'Awesome Huge Studio - NYC Center', 9794342, 'Pavel', 'Manhattan', 'Chelsea', 40.75066, -74.00377, 'Entire home/apt', 200, 3, 35, '2016-08-22', 0.55, 1, 0)\n",
            "(1892319, 'Private BR in Chelsea (women or couples only)', 3416555, 'Anya', 'Manhattan', 'Chelsea', 40.74793, -74.00691, 'Private room', 84, 2, 143, '2019-05-04', 2.13, 1, 311)\n",
            "(1903249, 'The heart of Manhattan - NYC', 3187531, 'Michelle', 'Manhattan', 'Chelsea', 40.74676, -74.00234, 'Private room', 75, 1, 202, '2019-06-05', 3.19, 1, 0)\n",
            "(1947400, '1BD Cozy Chelsea Apartment', 10071397, 'Trevor', 'Manhattan', 'Chelsea', 40.74328, -73.99742, 'Entire home/apt', 200, 4, 4, '2018-08-20', 0.06, 1, 0)\n",
            "(1975999, 'Luxury studio', 10200352, 'Marie', 'Manhattan', 'Chelsea', 40.74163, -73.99857, 'Entire home/apt', 189, 3, 9, '2019-05-13', 0.87, 1, 0)\n",
            "(2071420, 'Classic Chelsea Brownstone 1 Bedroom', 10590692, 'Wade', 'Manhattan', 'Chelsea', 40.74374, -74.00044, 'Entire home/apt', 199, 2, 177, '2019-07-01', 2.85, 2, 112)\n",
            "(2093064, 'Sunny Chelsea 1 B.R. Hi Line, Washer/Dryer, 3 Beds', 7245581, 'Michael', 'Manhattan', 'Chelsea', 40.74978, -73.99686, 'Entire home/apt', 139, 90, 20, '2018-12-15', 0.31, 19, 219)\n",
            "(2134052, 'Large artsy studio with 90s style', 7978448, 'Seth', 'Manhattan', 'Chelsea', 40.74193, -74.0017, 'Entire home/apt', 90, 3, 23, '2015-12-06', 0.36, 1, 0)\n",
            "(2185668, 'Clean Private Room in Chelsea apt', 3579337, 'Nina', 'Manhattan', 'Chelsea', 40.74106, -74.00262, 'Private room', 80, 30, 8, '2017-01-31', 0.12, 3, 301)\n",
            "(2186699, 'Modern Alcove Studio in Chelsea NYC', 11126880, 'Jeffrey', 'Manhattan', 'Chelsea', 40.74259, -73.99708, 'Entire home/apt', 160, 4, 8, '2017-12-25', 0.12, 1, 0)\n",
            "(2310445, 'Super Cute Chelsea One Bedroom', 10973455, 'Amy', 'Manhattan', 'Chelsea', 40.74935, -73.99723, 'Entire home/apt', 150, 1, 49, '2019-06-16', 0.75, 1, 0)\n",
            "(2422991, 'Trendy Apt by Chelsea Market with High Line Views', 12384418, 'Daniel', 'Manhattan', 'Chelsea', 40.7453, -74.00704, 'Entire home/apt', 159, 2, 43, '2019-06-23', 1.1, 1, 25)\n",
            "(2493039, 'Private Room in Large Two-floor Apt w/ Backyard', 598167, 'Michael', 'Manhattan', 'Chelsea', 40.75066, -73.9972, 'Private room', 119, 2, 32, '2017-10-30', 1.09, 1, 0)\n",
            "(2723554, 'Studio apartment Chelsea NYC', 13937830, 'Jenniffer', 'Manhattan', 'Chelsea', 40.73942, -73.99629, 'Entire home/apt', 110, 25, 0, None, None, 1, 0)\n",
            "(2756159, 'Living Room sofa Bed in Chelsea2', 12750945, 'Luis', 'Manhattan', 'Chelsea', 40.74389, -73.99835, 'Shared room', 85, 2, 65, '2019-06-23', 1.03, 4, 171)\n",
            "(2918732, 'West Chelsea Brownstone Apartment', 4619132, 'Merrill', 'Manhattan', 'Chelsea', 40.74411, -74.0029, 'Entire home/apt', 200, 1, 1, '2014-06-13', 0.02, 1, 0)\n",
            "(3010430, 'Studio in Center of Chelsea', 15341568, 'Selma', 'Manhattan', 'Chelsea', 40.74227, -73.99362, 'Entire home/apt', 180, 1, 6, '2014-08-25', 0.1, 1, 0)\n",
            "(3029690, 'Safe Sunny South Facing Near All', 7245581, 'Michael', 'Manhattan', 'Chelsea', 40.74873, -73.99557, 'Entire home/apt', 93, 365, 10, '2018-02-12', 0.17, 19, 97)\n",
            "(3060297, 'Great Chelsea block near Highline & Subways', 7245581, 'Michael', 'Manhattan', 'Chelsea', 40.74897, -73.9968, 'Entire home/apt', 93, 75, 16, '2019-05-15', 0.3, 19, 234)\n",
            "(3265409, 'Charming Chelsea bedroom', 5508109, 'Rivani', 'Manhattan', 'Chelsea', 40.74956, -73.99671, 'Private room', 90, 3, 2, '2019-06-28', 1.58, 1, 53)\n",
            "(3279671, 'Quiet 1BR in Chelsea', 109738, 'Michelle', 'Manhattan', 'Chelsea', 40.7518, -73.9969, 'Entire home/apt', 165, 3, 159, '2019-05-25', 2.71, 1, 75)\n",
            "(3339205, 'Updated 1 bedroom heart of Chelsea', 15689833, 'Whitney', 'Manhattan', 'Chelsea', 40.74259, -74.00128, 'Entire home/apt', 160, 4, 11, '2017-01-02', 0.18, 1, 1)\n",
            "(3339273, 'Quiet & Close to All + Washer/Dryer in Chelsea', 7245581, 'Michael', 'Manhattan', 'Chelsea', 40.75045, -73.99662, 'Entire home/apt', 93, 110, 12, '2019-02-18', 0.26, 19, 329)\n",
            "(3344509, 'Beautiful Chelsea Loft 700 Sq ft', 1290508, 'Robert', 'Manhattan', 'Chelsea', 40.74646, -73.99678, 'Entire home/apt', 179, 10, 1, '2017-01-03', 0.03, 1, 0)\n",
            "(3496384, 'Interfaith Retreat Guest Rooms (Om)', 16677326, 'Alex And Zeena', 'Manhattan', 'Chelsea', 40.74977, -73.99647, 'Private room', 85, 1, 145, '2019-06-24', 3.48, 12, 342)\n",
            "(3521162, 'Studio in the heart of Chelsea', 17730490, 'Ashley', 'Manhattan', 'Chelsea', 40.74252, -73.9975, 'Entire home/apt', 175, 1, 18, '2016-05-11', 0.31, 1, 0)\n",
            "(3616946, 'Great room near Chelsea market', 18225315, 'Alain', 'Manhattan', 'Chelsea', 40.74016, -74.00049, 'Private room', 135, 1, 14, '2015-12-14', 0.27, 1, 0)\n",
            "(3636601, 'Sunny and Quiet private apartment, great location!', 7245581, 'Michael', 'Manhattan', 'Chelsea', 40.74994, -73.99612, 'Entire home/apt', 95, 75, 13, '2019-04-30', 0.23, 19, 245)\n",
            "(3782283, 'HUGE space at the heart of Meatpacking - Chelsea .', 7196556, 'Eilon', 'Manhattan', 'Chelsea', 40.73986, -74.00035, 'Entire home/apt', 150, 2, 1, '2014-09-01', 0.02, 1, 0)\n",
            "(3801701, 'Private Studio Near Union Square', 12090062, 'Annie', 'Manhattan', 'Chelsea', 40.73996, -73.99919, 'Entire home/apt', 195, 2, 31, '2018-12-09', 0.52, 1, 10)\n",
            "(3896579, '1 Bedroom Apt in Chelsea', 20171951, 'Mary', 'Manhattan', 'Chelsea', 40.73957, -74.00027, 'Entire home/apt', 200, 4, 1, '2015-09-19', 0.02, 1, 0)\n",
            "(3922417, 'Safe, Quiet and Bright near Subways has 2 beds', 7245581, 'Michael', 'Manhattan', 'Chelsea', 40.75076, -73.99588, 'Entire home/apt', 95, 30, 15, '2019-01-15', 0.27, 19, 204)\n",
            "(3983422, 'Chelsea Home with a View', 17546682, 'Angela', 'Manhattan', 'Chelsea', 40.74496, -73.99934, 'Entire home/apt', 125, 4, 1, '2018-07-19', 0.08, 1, 0)\n",
            "(4129195, '2 sleeping areas for 2 people together +2 singles', 702419, 'Lars', 'Manhattan', 'Chelsea', 40.75097, -73.99562, 'Entire home/apt', 175, 14, 78, '2019-03-10', 1.36, 1, 0)\n",
            "(4144849, 'Cozy little studio in Chelsea', 21501965, 'Yulia', 'Manhattan', 'Chelsea', 40.74411, -74.00204, 'Entire home/apt', 115, 3, 33, '2019-06-15', 0.57, 1, 11)\n",
            "(4220151, 'Clean/Quiet Apt, Great Location, with washer/dryer', 21903562, 'David', 'Manhattan', 'Chelsea', 40.74588, -74.00055, 'Entire home/apt', 159, 1, 202, '2019-06-19', 3.53, 1, 234)\n",
            "(4276618, 'Great location, great value', 1405217, 'James', 'Manhattan', 'Chelsea', 40.75238, -73.9945, 'Entire home/apt', 120, 3, 18, '2018-01-03', 0.31, 1, 0)\n",
            "(4284031, 'BRIGHT BEAUTIFUL CHELSEA APT', 4532548, 'Tess', 'Manhattan', 'Chelsea', 40.74305, -73.99733, 'Entire home/apt', 160, 2, 79, '2019-06-06', 1.38, 1, 108)\n",
            "(4297952, 'Awesome Chelsea 1 bedroom', 22305520, 'James', 'Manhattan', 'Chelsea', 40.7492, -73.99847, 'Entire home/apt', 199, 2, 194, '2019-07-06', 3.37, 2, 178)\n",
            "(4329728, 'Spacious room with view in Chelsea', 2657430, 'Rahul', 'Manhattan', 'Chelsea', 40.74751, -74.00086, 'Private room', 110, 6, 20, '2018-01-01', 0.36, 2, 0)\n",
            "(4338177, 'Sleeps 4! Prime Chelsea~large 1BR', 2119276, 'Host', 'Manhattan', 'Chelsea', 40.73947, -74.00114, 'Entire home/apt', 160, 30, 6, '2018-10-04', 0.12, 39, 267)\n",
            "(4431247, '1st Time/Solo/Duo Travelers!Charming Studio Share!', 22382732, 'Sue', 'Manhattan', 'Chelsea', 40.74726, -74.00213, 'Shared room', 70, 2, 126, '2019-06-29', 2.61, 1, 309)\n",
            "(4509500, 'Prime Chelsea~XL1Br~Terrace~Sleeps4', 2119276, 'Host', 'Manhattan', 'Chelsea', 40.73984, -74.0006, 'Entire home/apt', 150, 30, 7, '2019-06-14', 0.15, 39, 339)\n",
            "(4841187, 'Well-kept Studio/♥ of Chelsea', 14923355, 'Ra-Ey', 'Manhattan', 'Chelsea', 40.74583, -74.00405, 'Entire home/apt', 200, 3, 7, '2017-07-12', 0.13, 1, 0)\n",
            "(4842507, 'Two Bedrooms in Chelsea Apartment', 6954001, 'Arian', 'Manhattan', 'Chelsea', 40.74372, -73.99682, 'Private room', 150, 1, 0, None, None, 1, 0)\n",
            "(4920912, 'Stylish & New Chelsea Apartment', 22338025, 'Kerrie', 'Manhattan', 'Chelsea', 40.74244, -73.99854, 'Entire home/apt', 175, 1, 0, None, None, 1, 0)\n",
            "(4930306, 'Charming One Bedroom in Chelsea', 25394253, 'Pete', 'Manhattan', 'Chelsea', 40.74141, -73.99996, 'Entire home/apt', 175, 1, 1, '2015-02-20', 0.02, 1, 0)\n",
            "(5160871, 'Cozy Chelsea Studio', 8780729, 'Ellen', 'Manhattan', 'Chelsea', 40.7417, -73.9978, 'Entire home/apt', 135, 3, 31, '2016-12-05', 0.63, 1, 0)\n",
            "(5298299, 'Sunny Private Bedroom in Chelsea', 11462251, 'Danielle', 'Manhattan', 'Chelsea', 40.73885, -73.99701, 'Private room', 109, 2, 2, '2015-09-21', 0.04, 1, 0)\n",
            "(5334478, 'One Bedroom Apartment in Chelsea', 5074654, 'Seth', 'Manhattan', 'Chelsea', 40.74326, -74.00004, 'Entire home/apt', 199, 2, 98, '2019-06-26', 1.88, 2, 33)\n",
            "(5401148, 'Artful Chelsea 1-BR Apt, BR Faces Garden', 27998261, 'Adrienne', 'Manhattan', 'Chelsea', 40.74742, -73.99617, 'Entire home/apt', 195, 7, 14, '2018-09-24', 0.29, 1, 0)\n",
            "(5661080, 'Cozy&Central:EmpireState/Highline/Times Square', 29345363, 'Simone', 'Manhattan', 'Chelsea', 40.74924, -73.99784, 'Entire home/apt', 165, 3, 58, '2019-06-20', 1.72, 1, 138)\n",
            "(5872177, 'Sunny One Bedroom-Amazing Location', 9893040, 'Sari', 'Manhattan', 'Chelsea', 40.74302, -74.00015, 'Entire home/apt', 163, 3, 12, '2016-05-12', 0.24, 1, 0)\n",
            "(5958299, 'Cozy NYC Bedroom in the Best Manhattan Location!', 30454464, 'Sterling', 'Manhattan', 'Chelsea', 40.74717, -73.99179, 'Private room', 105, 1, 158, '2019-07-04', 3.08, 1, 105)\n",
            "(6128992, 'LOCATION, LOCATION, LOCATION -NYC!!', 301346, 'Dawn', 'Manhattan', 'Chelsea', 40.75054, -73.99683, 'Entire home/apt', 150, 14, 1, '2015-05-20', 0.02, 1, 0)\n",
            "(6262496, 'Bedroom right in Chelsea!', 4582357, 'Dennis', 'Manhattan', 'Chelsea', 40.73889, -73.99749, 'Private room', 150, 1, 1, '2015-05-06', 0.02, 1, 0)\n",
            "(6402807, 'Stylish central 1 BR apartment', 6354467, 'Robert', 'Manhattan', 'Chelsea', 40.74476, -73.99862, 'Entire home/apt', 100, 4, 4, '2017-01-03', 0.09, 1, 0)\n",
            "(6478214, 'Studio apartment in the heart of Chelsea', 7898046, 'Zachariah', 'Manhattan', 'Chelsea', 40.73992, -73.99888, 'Entire home/apt', 199, 2, 71, '2017-08-05', 1.42, 1, 0)\n",
            "(6479559, 'Best location! Chelsea/West Village/Meatpacking', 33774886, 'Ryan', 'Manhattan', 'Chelsea', 40.74026, -73.99746, 'Entire home/apt', 150, 2, 150, '2019-06-23', 2.99, 1, 2)\n",
            "(6543312, 'Lovely 1 BR duplex in prime Chelsea', 18342421, 'Patty', 'Manhattan', 'Chelsea', 40.73963, -73.99898, 'Entire home/apt', 175, 4, 5, '2017-01-05', 0.1, 1, 0)\n",
            "(6590569, 'Private bedroom in Chelsea', 20113500, 'Clement', 'Manhattan', 'Chelsea', 40.74465, -73.9955, 'Private room', 110, 3, 2, '2015-09-06', 0.04, 1, 0)\n",
            "(6645224, '6 bedroom apt on Union Square', 34782697, 'Alexander', 'Manhattan', 'Chelsea', 40.73783, -73.99383, 'Private room', 100, 21, 0, None, None, 1, 0)\n",
            "(6674363, 'New Building, Best Location in NYC', 6725667, 'Megan', 'Manhattan', 'Chelsea', 40.73969, -73.99447, 'Private room', 130, 3, 11, '2019-05-11', 0.23, 1, 106)\n",
            "(6692975, 'Cozy room in Chelsea', 29417590, 'Alice', 'Manhattan', 'Chelsea', 40.7465, -73.991, 'Private room', 100, 1, 2, '2015-08-24', 0.04, 1, 0)\n",
            "(6730056, 'Sunny Studio in Chelsea', 7186661, 'Sabrina', 'Manhattan', 'Chelsea', 40.74688, -74.00145, 'Entire home/apt', 200, 1, 4, '2017-09-16', 0.09, 1, 0)\n",
            "(6737815, 'Chic Modern Apt w/ View of Hudson', 10576227, 'Alexander', 'Manhattan', 'Chelsea', 40.7481, -74.00533, 'Entire home/apt', 200, 5, 1, '2015-07-05', 0.02, 1, 0)\n",
            "(6748933, 'Cozy 1 BR in ideal location', 1490702, 'Amanda', 'Manhattan', 'Chelsea', 40.74121, -74.00122, 'Entire home/apt', 145, 6, 2, '2017-06-26', 0.04, 1, 0)\n",
            "(6831518, 'Awesome Location with Best Commute', 35788303, 'Kimihiro', 'Manhattan', 'Chelsea', 40.74733, -73.99023, 'Private room', 99, 1, 17, '2019-01-01', 0.39, 1, 0)\n",
            "(6853271, 'Unique Studio apartment in the heart of Chelsea!', 3997451, 'Maria', 'Manhattan', 'Chelsea', 40.74153, -74.00036, 'Entire home/apt', 150, 2, 106, '2019-06-30', 2.29, 1, 318)\n",
            "(6908209, 'PrimChelsea~1BR~Sleeps4~hugeOutdoor', 2119276, 'Host', 'Manhattan', 'Chelsea', 40.74138, -74.00072, 'Entire home/apt', 155, 30, 6, '2019-03-30', 0.13, 39, 289)\n",
            "(6949104, 'Chelsea Flat-Gorgeous, Bright, Safe', 6884282, 'Matthew', 'Manhattan', 'Chelsea', 40.74682, -74.00417, 'Private room', 135, 5, 1, '2015-08-09', 0.02, 1, 0)\n",
            "(6965441, '1 Bedroom on Tree Lined Street in Chelsea', 19228782, 'Ben', 'Manhattan', 'Chelsea', 40.74438, -74.00178, 'Entire home/apt', 150, 3, 2, '2016-06-14', 0.05, 1, 1)\n",
            "(7275273, 'Cozy & Super Convenient Studio!', 16398769, 'Michelle', 'Manhattan', 'Chelsea', 40.74116, -73.99523, 'Entire home/apt', 200, 1, 0, None, None, 1, 0)\n",
            "(7292891, 'Large 2 BR Apartment in Chelsea', 9403624, 'Carol', 'Manhattan', 'Chelsea', 40.74482, -73.99917, 'Entire home/apt', 170, 5, 13, '2019-05-25', 0.3, 1, 4)\n",
            "(7364374, 'New York Apt in the Heart of NY', 8144621, 'Thomas', 'Manhattan', 'Chelsea', 40.74627, -73.99142, 'Private room', 150, 1, 0, None, None, 1, 0)\n",
            "(7483034, 'Spacious Chelsea Private Bedroom', 7202390, 'Drew', 'Manhattan', 'Chelsea', 40.74582, -73.99472, 'Private room', 195, 1, 0, None, None, 1, 0)\n",
            "(7563529, 'Apartment in Chelsea btwn 6th-7th Aves', 39652597, 'Mackenzie', 'Manhattan', 'Chelsea', 40.74466, -73.99504, 'Entire home/apt', 170, 2, 4, '2016-09-22', 0.09, 1, 0)\n",
            "(7603389, 'Private Room in Downtown Manhattan', 39875363, 'James', 'Manhattan', 'Chelsea', 40.7438, -73.99751, 'Private room', 118, 2, 259, '2019-07-01', 5.44, 1, 47)\n",
            "(7758577, '2 Bed apart in the heart of Chelsea', 30669247, 'Rui', 'Manhattan', 'Chelsea', 40.74313, -73.99844, 'Entire home/apt', 175, 3, 2, '2016-03-12', 0.04, 1, 0)\n",
            "(7760406, 'Modern Chelsea Studio', 39060578, 'Scott', 'Manhattan', 'Chelsea', 40.74336, -74.00278, 'Entire home/apt', 200, 6, 45, '2018-01-02', 0.99, 1, 0)\n",
            "(7859723, 'Spacious Studio in Chelsea', 8554194, 'Andy', 'Manhattan', 'Chelsea', 40.74453, -73.99988, 'Entire home/apt', 120, 3, 39, '2019-06-16', 0.84, 1, 1)\n",
            "(7881023, 'Charming Chelsea Home', 66354, 'Laura', 'Manhattan', 'Chelsea', 40.7468, -74.00493, 'Entire home/apt', 175, 1, 6, '2016-05-07', 0.13, 1, 0)\n",
            "(7969111, 'Charming Chelsea Flat', 42050222, 'Jose', 'Manhattan', 'Chelsea', 40.74192, -73.99978, 'Private room', 135, 3, 250, '2019-07-02', 5.36, 1, 111)\n",
            "(7981341, 'Couch for the Night', 42125531, 'Michelle', 'Manhattan', 'Chelsea', 40.75091, -73.99414, 'Shared room', 200, 1, 0, None, None, 1, 0)\n",
            "(8014087, 'Prime location Chelsea/Flatiron RM', 38857566, 'Gabi', 'Manhattan', 'Chelsea', 40.74042, -73.99714, 'Private room', 100, 1, 2, '2018-01-01', 0.04, 1, 0)\n",
            "(8045421, 'NYC Chelsea Luxury 1BR Apt', 30283594, 'Kara', 'Manhattan', 'Chelsea', 40.74465, -73.99253, 'Entire home/apt', 129, 30, 3, '2017-12-31', 0.07, 121, 161)\n",
            "(8145339, 'Chelsea 2-Bedroom Doorman Apt NEW', 24430182, 'Carole', 'Manhattan', 'Chelsea', 40.74318, -73.9982, 'Entire home/apt', 129, 1, 6, '2016-11-27', 0.13, 1, 0)\n",
            "(8210423, 'Chelsea Charm: shared apartment', 19477617, 'Essam', 'Manhattan', 'Chelsea', 40.74513, -74.00076, 'Private room', 95, 3, 100, '2019-06-26', 2.16, 1, 80)\n",
            "(8342053, 'Chelsea apartment with a backyard', 26012172, 'Katarina', 'Manhattan', 'Chelsea', 40.75093, -73.99675, 'Entire home/apt', 160, 3, 9, '2016-11-30', 0.19, 1, 0)\n",
            "(8368794, 'Modern Lux Furnished 1 Bedroom Apt', 4167576, 'Sid', 'Manhattan', 'Chelsea', 40.7368, -73.9925, 'Entire home/apt', 140, 1, 71, '2019-06-01', 1.56, 1, 256)\n",
            "(8388776, 'Massive, Cozy, Modern 1BR in Heart of Chelsea!', 2227376, 'Eunwoo', 'Manhattan', 'Chelsea', 40.74501, -73.99725, 'Entire home/apt', 109, 3, 10, '2018-10-08', 0.33, 1, 0)\n",
            "(8519400, '2 Bedroom Near Meatpacking', 44857362, 'Bao', 'Manhattan', 'Chelsea', 40.74041, -74.00141, 'Entire home/apt', 200, 1, 0, None, None, 1, 0)\n",
            "(8541831, 'Luxury Apt in Chelsea', 44967011, 'Jose', 'Manhattan', 'Chelsea', 40.75215, -74.00426, 'Entire home/apt', 116, 120, 0, None, None, 1, 0)\n",
            "(8698671, 'Perfect 8th Avenue Apt in Chelsea', 45667135, 'Jen', 'Manhattan', 'Chelsea', 40.7411, -74.00184, 'Private room', 112, 5, 31, '2016-06-18', 0.68, 1, 0)\n",
            "(8742567, 'Alcove Studio in Heart of Chelsea!', 45864201, 'Lindsay B', 'Manhattan', 'Chelsea', 40.74043, -73.99913, 'Entire home/apt', 200, 1, 0, None, None, 1, 0)\n",
            "(8988997, 'Beautiful Furnished 1 Bedroom NYC Apartment', 30283594, 'Kara', 'Manhattan', 'Chelsea', 40.74569, -73.99183, 'Entire home/apt', 129, 30, 0, None, None, 121, 164)\n",
            "(8989430, 'Furnished Luxury 1BR apt. in the heart of NYC!', 30283594, 'Kara', 'Manhattan', 'Chelsea', 40.74463, -73.9919, 'Entire home/apt', 136, 30, 0, None, None, 121, 349)\n",
            "(9003691, \"Luxury Studio Apartment in NYC'S Chelsea District\", 30283594, 'Kara', 'Manhattan', 'Chelsea', 40.7449, -73.99167, 'Entire home/apt', 109, 30, 1, '2016-10-31', 0.03, 121, 184)\n",
            "(9127011, 'Luxury 1 Bed apt in the heart of chelsea', 19627702, 'Andrea', 'Manhattan', 'Chelsea', 40.74384, -73.99383, 'Entire home/apt', 193, 1, 8, '2017-12-30', 0.23, 1, 0)\n",
            "(9144999, 'Central and Vibrant Chelsea Home', 47621361, 'Denise', 'Manhattan', 'Chelsea', 40.74526, -73.99545, 'Private room', 140, 14, 1, '2016-01-01', 0.02, 1, 0)\n",
            "(9155475, 'Prime Chelsea 1BR Minimalist W16th', 4900788, 'Jonathan', 'Manhattan', 'Chelsea', 40.73868, -73.99647, 'Entire home/apt', 130, 2, 4, '2016-04-01', 0.1, 1, 0)\n",
            "(9175459, 'Location, Location, Location Meat Packing District', 10621862, 'Shawn', 'Manhattan', 'Chelsea', 40.74236, -74.00656, 'Entire home/apt', 180, 4, 13, '2019-06-26', 0.35, 1, 4)\n",
            "(9183131, 'Private room in unique Chelsea loft', 872654, 'Adam', 'Manhattan', 'Chelsea', 40.74406, -73.99287, 'Private room', 139, 1, 3, '2015-12-20', 0.07, 1, 0)\n",
            "(9201479, 'Chelsea NYC Shared Apartment', 47860375, 'Todd', 'Manhattan', 'Chelsea', 40.74188, -73.99865, 'Private room', 100, 1, 2, '2015-12-03', 0.05, 1, 0)\n",
            "(9299515, 'Luxury Studio in Chelsea/Flat Iron', 48277456, 'Mariya', 'Manhattan', 'Chelsea', 40.73936, -73.99352, 'Entire home/apt', 200, 7, 0, None, None, 1, 0)\n",
            "(9365502, 'Cozy 1 bdrm Chelsea/Meatpacking', 3843401, 'Chanel', 'Manhattan', 'Chelsea', 40.74097, -73.99953, 'Entire home/apt', 150, 1, 1, '2015-11-17', 0.02, 1, 0)\n",
            "(9394266, 'Chelsea studio', 48726094, 'Antonia', 'Manhattan', 'Chelsea', 40.75088, -73.99951, 'Private room', 100, 2, 151, '2019-06-17', 3.46, 1, 0)\n",
            "(9401453, 'High Luxury Thanksgiving Stay', 39694819, 'Montana', 'Manhattan', 'Chelsea', 40.74081, -74.00296, 'Entire home/apt', 180, 1, 1, '2015-11-21', 0.02, 1, 0)\n",
            "(9463039, 'Wonderful 1-BR apt in Chelsea', 5857948, 'Dimitrios', 'Manhattan', 'Chelsea', 40.74163, -74.00102, 'Entire home/apt', 182, 20, 6, '2019-05-05', 0.17, 1, 32)\n",
            "(9464543, 'Prime Location in CHELSEA', 15208048, 'Philipp', 'Manhattan', 'Chelsea', 40.74601, -73.99987, 'Private room', 98, 1, 1, '2015-12-14', 0.02, 1, 0)\n",
            "(9496094, 'Modern Flat in the Heart of Chelsea', 41066327, 'Netanya', 'Manhattan', 'Chelsea', 40.74603, -74.00147, 'Entire home/apt', 160, 4, 2, '2016-09-14', 0.05, 1, 0)\n",
            "(9505268, 'Chelsea studio', 7098925, 'Dimitri', 'Manhattan', 'Chelsea', 40.75182, -73.99779, 'Entire home/apt', 150, 5, 1, '2016-01-05', 0.02, 1, 0)\n",
            "(9525241, 'Clean & Quiet 1br @ Chelsea/Village', 2787066, 'Nate', 'Manhattan', 'Chelsea', 40.73945, -73.99616, 'Entire home/apt', 126, 4, 8, '2017-05-18', 0.18, 1, 0)\n",
            "(9540974, 'Great room in PERFECT location', 6904334, 'Francisco', 'Manhattan', 'Chelsea', 40.74556, -74.00156, 'Private room', 195, 2, 0, None, None, 1, 0)\n",
            "(9585339, 'Sunny 1 BR apt in West Chelsea', 49616729, 'Annie', 'Manhattan', 'Chelsea', 40.75164, -74.00146, 'Entire home/apt', 100, 2, 5, '2016-04-18', 0.12, 1, 0)\n",
            "(9609825, 'Chelsea 1 BR - Brand New Apartment', 27158859, 'Harrison', 'Manhattan', 'Chelsea', 40.74761, -73.99761, 'Entire home/apt', 199, 4, 15, '2017-09-15', 0.38, 1, 0)\n",
            "(9740386, 'Chic 1 BR in Meatpackiing', 50255130, 'Mary', 'Manhattan', 'Chelsea', 40.74098, -74.00513, 'Entire home/apt', 175, 4, 0, None, None, 1, 0)\n",
            "(9772152, 'Quaint West Chelsea Studio near it all. 3', 47577639, 'Jc', 'Manhattan', 'Chelsea', 40.74105, -74.00401, 'Entire home/apt', 195, 4, 48, '2019-06-19', 1.19, 2, 280)\n",
            "(9862831, 'Pleasant studio Chelsea (Manhattan)', 50761842, 'Michael', 'Manhattan', 'Chelsea', 40.74443, -74.00259, 'Entire home/apt', 80, 5, 0, None, None, 1, 0)\n",
            "(9865374, 'Lovely 1Br Near Highline! (+2 cats)', 13757674, 'Elisabeth', 'Manhattan', 'Chelsea', 40.74807, -74.00209, 'Entire home/apt', 200, 3, 0, None, None, 1, 0)\n",
            "(9881516, 'Private Bedroom in Heart of NYC', 50839249, 'Alexandra', 'Manhattan', 'Chelsea', 40.74836, -73.99031, 'Private room', 50, 7, 0, None, None, 1, 0)\n",
            "(9885815, 'Studio in Chelsea, New York', 42453789, 'Bernardo', 'Manhattan', 'Chelsea', 40.74192, -73.99677, 'Entire home/apt', 85, 7, 0, None, None, 1, 0)\n",
            "(9940966, 'Best of Both Worlds Chelsea Studio', 51088203, 'John', 'Manhattan', 'Chelsea', 40.74676, -73.99562, 'Entire home/apt', 199, 4, 52, '2017-07-17', 1.25, 1, 1)\n",
            "(10037605, 'Spacious 1BD In Chelsea', 24225915, 'Jason', 'Manhattan', 'Chelsea', 40.74845, -73.99635, 'Entire home/apt', 170, 4, 1, '2016-02-24', 0.02, 1, 0)\n",
            "(10059699, 'Amazing Flatiron Entire Studio Apt', 51623576, 'Charlie', 'Manhattan', 'Chelsea', 40.73719, -73.99336, 'Entire home/apt', 159, 3, 1, '2017-01-02', 0.03, 1, 0)\n",
            "(10090735, 'Studio Apt at the Heart of Chelsea', 6772290, 'Andrew', 'Manhattan', 'Chelsea', 40.74156, -74.00037, 'Entire home/apt', 175, 3, 136, '2019-06-28', 3.18, 1, 288)\n",
            "(10096773, 'Easy 1 Bedroom in Chelsea', 34607505, 'Scott', 'Manhattan', 'Chelsea', 40.74577, -74.00074, 'Entire home/apt', 145, 2, 1, '2016-01-03', 0.02, 1, 0)\n",
            "(10148581, 'Furnished Apartment in Chelsea', 290094, 'Charlotte', 'Manhattan', 'Chelsea', 40.7456, -73.99852, 'Private room', 52, 2, 2, '2016-11-04', 0.06, 1, 0)\n",
            "(10210556, 'Venerable Chelsea Loft (Small Br)', 52342677, 'Austin', 'Manhattan', 'Chelsea', 40.74729, -73.99107, 'Private room', 175, 1, 0, None, None, 1, 0)\n",
            "(10322621, 'Luxury High-Rise Manhattan Apt', 20193547, 'Rosa', 'Manhattan', 'Chelsea', 40.75168, -73.99376, 'Private room', 81, 1, 0, None, None, 1, 0)\n",
            "(10403231, 'Cozy Studio in Excellent Location', 9870528, 'Amit', 'Manhattan', 'Chelsea', 40.73968, -73.99693, 'Entire home/apt', 120, 1, 0, None, None, 1, 0)\n",
            "(10452737, 'Large Room, High Floor w/ Views - Times Square', 6158370, 'David', 'Manhattan', 'Chelsea', 40.75126, -73.99498, 'Private room', 139, 3, 0, None, None, 1, 0)\n",
            "(10482237, 'Interfaith Retreat Guest Rooms (Ganges)', 16677326, 'Alex And Zeena', 'Manhattan', 'Chelsea', 40.74751, -73.99483, 'Private room', 85, 1, 165, '2019-06-24', 3.96, 12, 338)\n",
            "(10482409, 'Interfaith Retreat Guest Rooms (Faith)', 16677326, 'Alex And Zeena', 'Manhattan', 'Chelsea', 40.74896, -73.99657, 'Private room', 85, 1, 146, '2019-06-16', 3.62, 12, 352)\n",
            "(10482554, 'Interfaith Retreat Guest Rooms (Mary)', 16677326, 'Alex And Zeena', 'Manhattan', 'Chelsea', 40.74973, -73.99515, 'Private room', 85, 1, 162, '2019-05-22', 3.91, 12, 344)\n",
            "(10489896, 'Extra Bed in a Cozy & Sunny Studio', 54074349, 'Razan', 'Manhattan', 'Chelsea', 40.74398, -73.99664, 'Shared room', 46, 1, 0, None, None, 1, 0)\n",
            "(10564375, 'Chelsea Studio + Private Garden!', 304651, 'Egbert Miles', 'Manhattan', 'Chelsea', 40.74666, -74.00201, 'Entire home/apt', 180, 1, 0, None, None, 1, 0)\n",
            "(10692885, 'Cool Chelsea studio for chilling!', 2541529, 'Sarah', 'Manhattan', 'Chelsea', 40.74237, -74.00063, 'Entire home/apt', 120, 2, 2, '2016-06-08', 0.05, 1, 0)\n",
            "(10766309, 'Heart Of Chelsea Family Vacation', 13713796, 'Mikael', 'Manhattan', 'Chelsea', 40.74358, -73.99758, 'Private room', 130, 2, 32, '2019-06-30', 0.79, 1, 355)\n",
            "(10903055, 'Stay in The Heart of NYC', 28378670, 'Jesse', 'Manhattan', 'Chelsea', 40.7487, -73.99514, 'Private room', 119, 2, 134, '2019-06-30', 3.42, 1, 66)\n",
            "(10904914, 'Room in Huge Union Sq Rooftop Apt!', 56514111, 'Jenna', 'Manhattan', 'Chelsea', 40.7386, -73.99775, 'Private room', 70, 1, 2, '2016-03-27', 0.05, 1, 0)\n",
            "(11006134, 'Chelsea Apt w/ Private Rooftop Deck', 24625891, 'T', 'Manhattan', 'Chelsea', 40.74815, -74.00493, 'Entire home/apt', 125, 3, 0, None, None, 1, 0)\n",
            "(11296590, 'One Bedroom apartment in the heart of Chelsea', 59032240, 'Matt', 'Manhattan', 'Chelsea', 40.74322, -73.99744, 'Entire home/apt', 165, 6, 4, '2019-04-18', 0.19, 1, 13)\n",
            "(11389773, 'Chambre au coeur de Manhattan', 59746634, 'Joël', 'Manhattan', 'Chelsea', 40.74721, -73.98968, 'Private room', 65, 1, 0, None, None, 1, 0)\n",
            "(11419133, 'Private sunny room in Chelsea', 6034691, 'Eleena', 'Manhattan', 'Chelsea', 40.74448, -73.99221, 'Private room', 80, 40, 2, '2016-12-20', 0.05, 1, 0)\n",
            "(11453784, 'Prime Chelsea~roof deck~laundry...', 2119276, 'Host', 'Manhattan', 'Chelsea', 40.7437, -73.99476, 'Entire home/apt', 200, 30, 7, '2019-06-14', 0.49, 39, 311)\n",
            "(11503335, 'Small Room Double Bed and 25 x 15 ft livingroom', 6502531, 'Andrea', 'Manhattan', 'Chelsea', 40.74549, -73.99473, 'Private room', 84, 1, 13, '2018-08-27', 0.36, 2, 23)\n",
            "(11531154, 'Beautiful Apartment in Chelsea', 27906470, 'Robin', 'Manhattan', 'Chelsea', 40.74161, -74.00162, 'Private room', 70, 1, 0, None, None, 1, 0)\n",
            "(11563821, 'Private bedroom located in the heart of Chelsea', 10307134, 'Anna', 'Manhattan', 'Chelsea', 40.74118, -74.00012, 'Private room', 110, 1, 48, '2019-06-16', 1.8, 2, 67)\n",
            "(11863468, 'Stunning Elevator 1 BR Chelsea', 61391963, 'Corporate Housing', 'Manhattan', 'Chelsea', 40.74392, -74.00113, 'Entire home/apt', 142, 30, 7, '2019-02-18', 0.25, 91, 316)\n",
            "(12000030, 'Sunny, Quiet Downtown 1BR Apt - Great location!', 42047615, 'Jonathan & Nancy', 'Manhattan', 'Chelsea', 40.74069, -74.00069, 'Entire home/apt', 199, 30, 1, '2016-10-31', 0.03, 2, 292)\n",
            "(12050280, 'On 5th Ave! Easy to shopping', 64528384, 'Eva', 'Manhattan', 'Chelsea', 40.73844, -73.99262, 'Private room', 150, 60, 0, None, None, 1, 0)\n",
            "(12067652, 'Charming 1 Bedroom in Chelsea!', 3555480, 'Melissa', 'Manhattan', 'Chelsea', 40.74507, -73.99452, 'Entire home/apt', 175, 7, 6, '2017-09-09', 0.16, 1, 0)\n",
            "(12089661, 'Luxury bldg Near Flatiron- Chelsea', 438593, 'SaeHo', 'Manhattan', 'Chelsea', 40.74491, -73.99536, 'Private room', 175, 1, 1, '2016-04-08', 0.03, 2, 0)\n",
            "(12167152, 'Chelsea ,Duplex ,Calm ,Fantastic', 51434373, 'Yael', 'Manhattan', 'Chelsea', 40.73971, -73.99829, 'Private room', 179, 3, 69, '2019-06-19', 1.8, 1, 104)\n",
            "(12171671, 'Interfaith Retreat Guest Rooms (Govinda)', 16677326, 'Alex And Zeena', 'Manhattan', 'Chelsea', 40.74971, -73.99533, 'Private room', 85, 1, 210, '2019-06-23', 5.34, 12, 321)\n",
            "(12322923, 'Bright and Charming in Chelsea', 66484647, 'Serkan', 'Manhattan', 'Chelsea', 40.74419, -73.99861, 'Entire home/apt', 165, 3, 110, '2019-06-09', 2.87, 1, 222)\n",
            "(12355067, 'Highline view', 31502455, 'Jonathan', 'Manhattan', 'Chelsea', 40.74553, -73.99784, 'Private room', 200, 1, 1, '2016-05-21', 0.03, 1, 0)\n",
            "(12560942, 'QUIET CLEAN APT IN THE HEART OF IT ALL 4', 47577639, 'Jc', 'Manhattan', 'Chelsea', 40.74137, -74.00399, 'Entire home/apt', 185, 4, 49, '2019-06-26', 1.31, 2, 279)\n",
            "(12658099, 'Cozy Chelsea Apt Great Location', 68771036, 'Mica', 'Manhattan', 'Chelsea', 40.74516, -73.9959, 'Private room', 100, 2, 63, '2019-07-01', 1.88, 1, 33)\n",
            "(12681730, 'Sunny, Chelsea Manhattan apartment', 12534916, 'Jonathan', 'Manhattan', 'Chelsea', 40.74187, -74.00175, 'Private room', 125, 2, 0, None, None, 1, 0)\n",
            "(12772993, 'Penn Station / Chelsea North room', 37521233, 'Jay', 'Manhattan', 'Chelsea', 40.75053, -73.99685, 'Private room', 55, 2, 5, '2016-11-26', 0.13, 1, 0)\n",
            "(12786165, 'Cozy Private room in Chelsea !', 69598657, 'Vh', 'Manhattan', 'Chelsea', 40.75094, -73.99748, 'Private room', 75, 2, 115, '2019-06-23', 2.99, 1, 37)\n",
            "(12825700, 'Comfortable Chelsea Oasis', 5346314, 'Saskia', 'Manhattan', 'Chelsea', 40.74267, -73.99915, 'Entire home/apt', 195, 3, 1, '2016-07-04', 0.03, 1, 0)\n",
            "(12854724, 'Great Modern Studio in Chelsea!', 49622928, 'Oxana', 'Manhattan', 'Chelsea', 40.74066, -73.99895, 'Entire home/apt', 75, 1, 132, '2019-06-23', 4.58, 1, 317)\n",
            "(12854734, 'LIVE HERE!! COZY STUDIO IN CHELSEA!', 70244331, 'Andrey', 'Manhattan', 'Chelsea', 40.74078, -73.99923, 'Entire home/apt', 100, 1, 198, '2019-06-23', 5.16, 1, 269)\n",
            "(12869561, 'West 15th Street Cozy Chelsea 1bd Serviced Apt', 22541573, 'Ken', 'Manhattan', 'Chelsea', 40.73887, -73.99983, 'Entire home/apt', 191, 30, 1, '2018-07-31', 0.09, 87, 323)\n",
            "(12884594, 'Amazing entire apt on tree-lined st', 3948462, 'Elizabeth', 'Manhattan', 'Chelsea', 40.73924, -73.99825, 'Entire home/apt', 150, 2, 4, '2017-01-02', 0.11, 1, 0)\n",
            "(12891996, 'Giant Sun-filled Chelsea Studio', 70583598, 'Michael And Fernanda', 'Manhattan', 'Chelsea', 40.74303, -73.99797, 'Entire home/apt', 200, 2, 1, '2016-06-02', 0.03, 1, 0)\n",
            "(12989612, 'Priv Rm w. Big Loft  Living Room across from FIT', 6502531, 'Andrea', 'Manhattan', 'Chelsea', 40.74711, -73.99281, 'Private room', 100, 1, 2, '2018-07-13', 0.05, 2, 65)\n",
            "(12989767, 'Beautiful Studio on Tree-Lined St.', 16436459, 'Liz', 'Manhattan', 'Chelsea', 40.74583, -74.00451, 'Entire home/apt', 175, 4, 30, '2019-07-01', 0.82, 1, 48)\n",
            "(13044689, 'Chelsea 1 Bedroom Apartment in a doorman/elev bldg', 3166393, 'Robert', 'Manhattan', 'Chelsea', 40.74632, -74.00431, 'Entire home/apt', 170, 29, 0, None, None, 1, 64)\n",
            "(13078166, 'West 15th Street Cozy Chelsea Studio Serviced Apt', 22541573, 'Ken', 'Manhattan', 'Chelsea', 40.73929, -73.9999, 'Entire home/apt', 179, 30, 0, None, None, 87, 273)\n",
            "(13115864, 'Charming Studio in West Chelsea', 16055560, 'Catalina', 'Manhattan', 'Chelsea', 40.7453, -74.00242, 'Entire home/apt', 105, 2, 6, '2016-06-20', 0.16, 1, 0)\n",
            "(13162066, 'Convenient & comfortable studio near Penn Station', 73505108, 'Ryan', 'Manhattan', 'Chelsea', 40.75037, -73.99858, 'Entire home/apt', 130, 6, 63, '2019-06-23', 1.68, 1, 34)\n",
            "(13169806, 'Unique Studio in Chelsea', 988088, 'Tale', 'Manhattan', 'Chelsea', 40.74729, -74.00244, 'Entire home/apt', 154, 2, 23, '2019-06-02', 0.62, 1, 4)\n",
            "(13186741, 'Cozy Alcove, Chelsea Doorman Bldg, Near Everything', 11345677, 'Michelle', 'Manhattan', 'Chelsea', 40.73887, -74.00011, 'Private room', 85, 2, 22, '2018-11-05', 0.65, 1, 58)\n",
            "(13252064, '1st Time/Solo Guests: Charming NYC Apt. Share!!!', 41044972, 'Sue', 'Manhattan', 'Chelsea', 40.74487, -74.00277, 'Shared room', 75, 2, 9, '2019-06-24', 0.26, 1, 231)\n",
            "(13415535, 'Large 1BR in Chelsea. Subw on block', 3248595, 'Kai', 'Manhattan', 'Chelsea', 40.74653, -73.99632, 'Entire home/apt', 165, 1, 31, '2017-10-28', 0.9, 1, 358)\n",
            "(13476685, 'HOTTEST LOCATION! Cozy, convenient and chic.', 2091070, 'Anna', 'Manhattan', 'Chelsea', 40.7403, -74.0029, 'Entire home/apt', 165, 3, 14, '2018-08-19', 0.38, 1, 10)\n",
            "(13494898, 'Modern 1BR apartment amazing location in Chelsea', 77365697, 'Adam', 'Manhattan', 'Chelsea', 40.74032, -74.00265, 'Entire home/apt', 110, 4, 6, '2017-09-15', 0.16, 1, 0)\n",
            "(13514387, 'Spacious Private BR in Chelsea', 35590013, 'Ryan', 'Manhattan', 'Chelsea', 40.74675, -73.99555, 'Private room', 90, 2, 6, '2016-10-16', 0.16, 1, 0)\n",
            "(13613052, 'Cute Apt in the Heart of Chelsea', 25596158, 'Ashlee', 'Manhattan', 'Chelsea', 40.74366, -74.0005, 'Private room', 70, 1, 2, '2016-07-28', 0.06, 1, 0)\n",
            "(13642631, 'Doorman Chelsea One Bedroom- Convenient and Fun!', 28115515, 'Andrew', 'Manhattan', 'Chelsea', 40.74179, -73.99855, 'Entire home/apt', 150, 1, 0, None, None, 1, 0)\n",
            "(13695031, 'Beautiful Chelsea Apartment with many amenties', 52237758, 'Lara', 'Manhattan', 'Chelsea', 40.74075, -73.99567, 'Entire home/apt', 155, 2, 1, '2016-06-27', 0.03, 1, 0)\n",
            "(13723345, 'Right in the center of Chelsea, quiet and private.', 2305978, 'Emmanuel', 'Manhattan', 'Chelsea', 40.7427, -73.99837, 'Entire home/apt', 185, 2, 147, '2019-06-20', 4.07, 2, 114)\n",
            "(13746962, 'Private room in a 2 Bedroom apartment - Chelsea', 23863809, 'Arthur', 'Manhattan', 'Chelsea', 40.73938, -73.99855, 'Private room', 150, 3, 0, None, None, 2, 0)\n",
            "(13752222, 'Chelsea -Cozy, quiet, and charming  bedroom', 4328118, 'Ned', 'Manhattan', 'Chelsea', 40.74601, -74.00028, 'Private room', 135, 2, 2, '2019-06-23', 1.2, 1, 336)\n",
            "(13757845, 'Centrally Located One Bedroom Apt', 5514044, 'Garron', 'Manhattan', 'Chelsea', 40.73942, -74.00065, 'Entire home/apt', 199, 2, 1, '2016-09-16', 0.03, 1, 0)\n",
            "(13926604, 'Interfaith Retreat Guest Rooms (Śakti)', 16677326, 'Alex And Zeena', 'Manhattan', 'Chelsea', 40.74779, -73.9966, 'Private room', 85, 1, 51, '2019-06-23', 1.6, 12, 355)\n",
            "(13926664, 'Interfaith Retreat Guest Rooms (Seva)', 16677326, 'Alex And Zeena', 'Manhattan', 'Chelsea', 40.74798, -73.99532, 'Private room', 85, 1, 78, '2019-05-27', 2.26, 12, 360)\n",
            "(13953224, 'Luxury Apt With Sunset View', 83072717, 'Donna', 'Manhattan', 'Chelsea', 40.7464, -73.9909, 'Entire home/apt', 190, 7, 0, None, None, 1, 0)\n",
            "(14041141, 'Epic West Village, NYC rental', 20971070, 'Melani', 'Manhattan', 'Chelsea', 40.73819, -73.99835, 'Entire home/apt', 175, 27, 2, '2018-10-26', 0.06, 1, 310)\n",
            "(14057678, 'Cozy Room in Chelsea', 12750945, 'Luis', 'Manhattan', 'Chelsea', 40.74465, -73.99883, 'Private room', 125, 1, 10, '2019-06-09', 0.38, 4, 181)\n",
            "(14108509, 'West 16th street, Charming Svced 1bd Apt', 22541573, 'Ken', 'Manhattan', 'Chelsea', 40.73929, -73.99914, 'Entire home/apt', 195, 30, 0, None, None, 87, 57)\n",
            "(14108671, \"Clean & Cozy Close to Macy's\", 27165264, 'Elena', 'Manhattan', 'Chelsea', 40.74767, -73.99003, 'Private room', 90, 1, 9, '2017-09-29', 0.28, 1, 0)\n",
            "(14120431, 'Chelsea 1 bed/studio', 11476179, 'Christina', 'Manhattan', 'Chelsea', 40.74062, -73.99824, 'Entire home/apt', 155, 2, 29, '2018-11-25', 0.83, 1, 8)\n",
            "(14155064, 'One Bedroom in Heart of Chelsea', 2688383, 'Rachel', 'Manhattan', 'Chelsea', 40.74121, -73.99995, 'Entire home/apt', 143, 4, 1, '2016-10-09', 0.03, 1, 0)\n",
            "(14236416, 'the shoebox, west chelsea', 20132009, 'Karen', 'Manhattan', 'Chelsea', 40.74577, -74.00606, 'Entire home/apt', 150, 3, 119, '2019-06-29', 3.45, 2, 58)\n",
            "(14312186, 'Classic NYC: ENTIRE 1-BR in Spacious Chelsea Apt', 87487508, 'Adam', 'Manhattan', 'Chelsea', 40.74029, -74.00233, 'Entire home/apt', 185, 1, 2, '2016-08-22', 0.06, 1, 0)\n",
            "(14429513, 'Sunlit Private Room in Centrally Located Chelsea', 69021484, 'Jocelyn & Jake', 'Manhattan', 'Chelsea', 40.75066, -73.99944, 'Private room', 139, 5, 120, '2019-07-02', 3.91, 1, 52)\n",
            "(14609804, 'Large, Sunny and Clean Studio Apt.in Chelsea', 5111513, 'Jamie J.', 'Manhattan', 'Chelsea', 40.74945, -73.99742, 'Entire home/apt', 175, 7, 26, '2019-06-18', 0.8, 1, 188)\n",
            "(14821494, 'Beautiful Furnished 1 BR Apt near Times Square', 30283594, 'Kara', 'Manhattan', 'Chelsea', 40.74461, -73.992, 'Entire home/apt', 129, 30, 0, None, None, 121, 349)\n",
            "(14858544, 'BEST AREA IN CHELSEA. MODERN. COMPACT. HIGH LINE!!', 93044932, 'Gina', 'Manhattan', 'Chelsea', 40.75005, -73.99898, 'Entire home/apt', 90, 1, 80, '2019-06-22', 2.32, 1, 73)\n",
            "(14887025, 'Upscale Furnished Studio near Union Square!!', 30283594, 'Kara', 'Manhattan', 'Chelsea', 40.74615, -73.99182, 'Entire home/apt', 109, 30, 0, None, None, 121, 184)\n",
            "(15021783, 'Private Room in Chelsea 3 BR', 94820583, 'Zoë', 'Manhattan', 'Chelsea', 40.74063, -73.99843, 'Private room', 80, 5, 2, '2016-10-29', 0.06, 1, 0)\n",
            "(15083267, 'Bedroom in the heart of NYC', 3660702, 'Greg', 'Manhattan', 'Chelsea', 40.74587, -73.99149, 'Private room', 110, 1, 200, '2019-06-19', 5.87, 4, 60)\n",
            "(15141938, 'In a Chelsea loft:  A PERFECT private room & bath', 79289737, 'Yochi', 'Manhattan', 'Chelsea', 40.74348, -73.99365, 'Private room', 180, 1, 205, '2019-07-05', 6.07, 1, 90)\n",
            "(15252848, 'Luxury bedroom - Nomad Chelsea area', 52183380, 'Andy', 'Manhattan', 'Chelsea', 40.74381, -73.9923, 'Entire home/apt', 110, 30, 2, '2016-10-22', 0.06, 1, 0)\n",
            "(15282411, 'Private room for 1 or 2 in Chelsea. Prime location', 2764786, 'Lindsay', 'Manhattan', 'Chelsea', 40.74853, -73.99593, 'Private room', 120, 1, 18, '2017-01-11', 0.55, 1, 0)\n",
            "(15314886, 'Artsy Duplex in Chelsea w/ Huge Terrace', 7139819, 'Nauman', 'Manhattan', 'Chelsea', 40.74738, -74.00134, 'Entire home/apt', 179, 3, 3, '2017-05-20', 0.09, 2, 0)\n",
            "(15323284, 'Comfortable Chelsea Room', 2657430, 'Rahul', 'Manhattan', 'Chelsea', 40.74681, -74.00006, 'Private room', 110, 7, 3, '2018-08-03', 0.21, 2, 0)\n",
            "(15446631, 'Light & Airy Chelsea Bungalow (ok, apartment)', 73373504, 'Javier', 'Manhattan', 'Chelsea', 40.74068, -74.00295, 'Entire home/apt', 180, 2, 134, '2019-06-27', 4.17, 1, 70)\n",
            "(15520060, 'Charming Home in Chelsea', 1098809, 'Michael', 'Manhattan', 'Chelsea', 40.74244, -73.99781, 'Entire home/apt', 200, 3, 41, '2019-06-13', 1.24, 1, 1)\n",
            "(15625556, 'Private Room for 2 in Midtown West ☆', 100721907, 'H', 'Manhattan', 'Chelsea', 40.74929, -73.99658, 'Private room', 78, 3, 87, '2019-06-23', 2.68, 1, 44)\n",
            "(15664673, 'Big room in the heart of Chelsea.', 86408170, 'Malin', 'Manhattan', 'Chelsea', 40.74368, -73.99825, 'Private room', 120, 1, 1, '2016-10-27', 0.03, 1, 0)\n",
            "(15773659, 'Cozy studio in Chelsea for one or two travellers', 6834967, 'Harry', 'Manhattan', 'Chelsea', 40.74124, -74.00025, 'Entire home/apt', 150, 6, 1, '2016-11-21', 0.03, 1, 0)\n",
            "(15927071, 'Bright Modern Quiet Chelsea true 1bed', 529412, 'Michael', 'Manhattan', 'Chelsea', 40.74318, -74.00137, 'Entire home/apt', 180, 4, 46, '2019-06-22', 1.48, 1, 0)\n",
            "(15937164, 'Big and Relaxing studio ; great location.', 19834899, 'Hector', 'Manhattan', 'Chelsea', 40.74022, -74.00094, 'Entire home/apt', 180, 2, 146, '2019-07-01', 4.55, 1, 259)\n",
            "(16002841, 'Cozy studio in Chelsea', 104025635, 'Majeed', 'Manhattan', 'Chelsea', 40.74786, -73.99527, 'Entire home/apt', 125, 1, 0, None, None, 1, 0)\n",
            "(16032177, 'Chelsea Apartment/Flat- sleeps up to 4', 26784331, 'Kevin', 'Manhattan', 'Chelsea', 40.74344, -73.99506, 'Entire home/apt', 149, 2, 8, '2017-01-28', 0.25, 1, 0)\n",
            "(16103920, 'The Executive Loft Manhattan', 79060345, 'Francisco', 'Manhattan', 'Chelsea', 40.73992, -74.00221, 'Entire home/apt', 200, 4, 31, '2019-07-01', 1.31, 1, 291)\n",
            "(16107664, 'Cozy loft in Chelsea', 40744019, 'Alex', 'Manhattan', 'Chelsea', 40.74694, -73.99728, 'Entire home/apt', 181, 1, 158, '2019-06-23', 5.08, 1, 173)\n",
            "(16120794, 'Private Apartment In the Heart of Chelsea', 9584918, 'Ash', 'Manhattan', 'Chelsea', 40.74208, -74.00121, 'Entire home/apt', 156, 5, 4, '2018-01-04', 0.13, 1, 0)\n",
            "(16170544, 'Amazing studio in the heart of chelsea!', 86115767, 'Liad', 'Manhattan', 'Chelsea', 40.74485, -74.00186, 'Entire home/apt', 60, 1, 124, '2019-07-04', 3.94, 1, 86)\n",
            "(16172895, 'Studio in beautiful Chelsea - close to everything!', 9007993, 'Mary', 'Manhattan', 'Chelsea', 40.74111, -73.99594, 'Entire home/apt', 150, 3, 2, '2017-08-13', 0.08, 1, 0)\n",
            "(16228505, 'Clean and Cozy Room in Meatpacking District', 21422835, 'Kate', 'Manhattan', 'Chelsea', 40.74383, -74.0034, 'Private room', 120, 3, 0, None, None, 1, 0)\n",
            "(16253465, 'Sunny Chelsea Studio', 86575720, 'Ali And Amy', 'Manhattan', 'Chelsea', 40.74138, -73.99875, 'Entire home/apt', 128, 1, 6, '2017-02-25', 0.19, 1, 0)\n",
            "(16274292, 'Large studio apt in brownstone w/ private garden', 106437594, 'Lance', 'Manhattan', 'Chelsea', 40.74586, -74.00361, 'Entire home/apt', 165, 6, 5, '2018-01-24', 0.16, 1, 0)\n",
            "(16336497, 'Charming Chelsea Studio', 106948369, 'Charles', 'Manhattan', 'Chelsea', 40.74753, -74.00396, 'Entire home/apt', 110, 3, 7, '2019-02-13', 0.31, 1, 9)\n",
            "(16393191, 'Interfaith Retreat Guest Rooms (Bhakti)', 16677326, 'Alex And Zeena', 'Manhattan', 'Chelsea', 40.74786, -73.99652, 'Private room', 85, 1, 84, '2019-06-23', 2.71, 12, 359)\n",
            "(16393395, 'Interfaith Retreats (Devotion)', 16677326, 'Alex And Zeena', 'Manhattan', 'Chelsea', 40.74929, -73.99545, 'Private room', 85, 1, 113, '2019-06-23', 3.63, 12, 360)\n",
            "(16405036, 'AMAZING LOCATION - Heart of CHELSEA / Manhattan', 3894843, 'Ania', 'Manhattan', 'Chelsea', 40.74182, -73.99904, 'Private room', 95, 1, 75, '2019-06-23', 3.95, 1, 19)\n",
            "(16440192, 'Interfaith Retreats (Mother Theresa)', 16677326, 'Alex And Zeena', 'Manhattan', 'Chelsea', 40.74837, -73.99639, 'Private room', 85, 1, 70, '2019-06-24', 2.27, 12, 344)\n",
            "(16506579, 'Interfaith Retreats (Kirtan)', 16677326, 'Alex And Zeena', 'Manhattan', 'Chelsea', 40.74788, -73.99615, 'Private room', 85, 1, 108, '2019-06-15', 3.53, 12, 356)\n",
            "(16529755, 'Super cozy room !CONVENIENT', 1863597, 'Nicole', 'Manhattan', 'Chelsea', 40.74324, -73.99586, 'Private room', 115, 1, 9, '2019-04-10', 0.34, 1, 172)\n",
            "(16543032, '❤ART of Chelsea | 1bd rm | Walk/bike everywhere!', 60105727, 'Lee', 'Manhattan', 'Chelsea', 40.74067, -74.00013, 'Entire home/apt', 196, 3, 90, '2019-06-29', 3.09, 2, 186)\n",
            "(16828843, 'Large, Sunny Studio in the heart of Chelsea.', 31175385, 'Eunice', 'Manhattan', 'Chelsea', 40.74089, -74.00002, 'Entire home/apt', 130, 2, 4, '2019-01-01', 0.13, 1, 0)\n",
            "(16874685, 'MASSIVE ROOM IN HEART OF NYC!!! (CHELSEA/FLATIRON)', 13492085, 'Teri', 'Manhattan', 'Chelsea', 40.74512, -73.99179, 'Private room', 200, 1, 8, '2017-05-18', 0.28, 2, 0)\n",
            "(16945093, 'Cute studio close to Penn Station and Times Square', 14374073, 'Estrellita', 'Manhattan', 'Chelsea', 40.75166, -73.99506, 'Entire home/apt', 150, 19, 0, None, None, 1, 0)\n",
            "(16976215, 'Awesome Chelsea Manhattan Pad', 15851669, 'Lisa', 'Manhattan', 'Chelsea', 40.7429, -73.99344, 'Private room', 125, 1, 1, '2017-01-30', 0.03, 1, 0)\n",
            "(17071462, 'Large comfortable room near Penn Station', 3660702, 'Greg', 'Manhattan', 'Chelsea', 40.7455, -73.9916, 'Private room', 99, 1, 136, '2019-06-21', 4.62, 4, 61)\n",
            "(17223109, 'Cute Chelsea Apartment - 1 BR - Amazing Location!', 10160214, 'Mario', 'Manhattan', 'Chelsea', 40.73977, -73.99938, 'Entire home/apt', 190, 12, 5, '2019-06-06', 0.5, 1, 32)\n",
            "(17237486, 'Bright & Spacious Chelsea Studio', 13238971, 'Adel', 'Manhattan', 'Chelsea', 40.74281, -73.99969, 'Entire home/apt', 175, 4, 5, '2018-06-21', 0.23, 1, 8)\n",
            "(17297014, 'Chelsea/Union Square cozy studio', 126718, 'Alejandro', 'Manhattan', 'Chelsea', 40.73958, -73.9975, 'Entire home/apt', 160, 2, 1, '2017-06-25', 0.04, 1, 0)\n",
            "(17344027, 'Relaxing Stylish Room near Train and Attractions', 42024722, 'Daniel', 'Manhattan', 'Chelsea', 40.74462, -74.00139, 'Private room', 103, 5, 77, '2019-07-07', 2.73, 2, 79)\n",
            "(17360353, 'Great spacious room in Stylish apt near Highline', 42024722, 'Daniel', 'Manhattan', 'Chelsea', 40.7456, -74.00107, 'Private room', 100, 5, 66, '2019-07-01', 2.37, 2, 99)\n",
            "(17368006, 'Cabins at Chelsea (NYC)', 117365574, 'Maria', 'Manhattan', 'Chelsea', 40.74819, -73.9954, 'Private room', 82, 1, 147, '2019-06-23', 5.08, 5, 292)\n",
            "(17543905, 'P', 7976263, 'Amelia', 'Manhattan', 'Chelsea', 40.74431, -73.9922, 'Private room', 100, 5, 3, '2017-04-12', 0.11, 1, 0)\n",
            "(17555918, 'Private bedroom right on the High Line/Chelsea', 3650456, 'Louizos Alexandros', 'Manhattan', 'Chelsea', 40.74899, -74.00403, 'Private room', 90, 7, 12, '2017-11-01', 0.42, 1, 0)\n",
            "(17584136, '2fireplcs,Garden,BBQ,wshr/dryer,JacuzTub,BIG Kitch', 117263759, 'Jill & Kerry', 'Manhattan', 'Chelsea', 40.75046, -73.99854, 'Entire home/apt', 190, 1, 132, '2019-07-04', 5.17, 1, 252)\n",
            "(17610059, 'LARGE ROOM IN HEART OF NYC (CHELSEA / FLATIRON)', 13492085, 'Teri', 'Manhattan', 'Chelsea', 40.74525, -73.99229, 'Private room', 100, 1, 1, '2017-03-31', 0.04, 2, 0)\n",
            "(17752493, 'Private Room in Large Two-floor Apt w/ Backyard', 20926711, 'Ashek', 'Manhattan', 'Chelsea', 40.74864, -73.99398, 'Private room', 89, 2, 2, '2017-04-02', 0.07, 1, 113)\n",
            "(17762525, 'Quiet, Comfortable Studio in Chelsea/Village', 19824881, 'Julia', 'Manhattan', 'Chelsea', 40.74128, -73.99986, 'Entire home/apt', 139, 1, 0, None, None, 1, 0)\n",
            "(17905479, 'Gorgeous One Bedroom in the Heart of Chelsea', 4253817, 'Cari', 'Manhattan', 'Chelsea', 40.74123, -73.99522, 'Entire home/apt', 200, 4, 45, '2019-06-13', 1.66, 1, 49)\n",
            "(17981447, 'Nicest Room in Manhattan - Chelsea Beauty', 95286194, 'Xavier', 'Manhattan', 'Chelsea', 40.7503, -74.00473, 'Private room', 57, 1, 53, '2019-06-23', 1.92, 1, 33)\n",
            "(18024772, 'Very quiet apt. on tree-lined West Chelsea street', 4857042, 'Matthew', 'Manhattan', 'Chelsea', 40.74423, -74.00111, 'Entire home/apt', 95, 1, 105, '2019-07-01', 3.87, 1, 98)\n",
            "(18034890, 'Quiet, tranquil room in the middle of everything!', 3660702, 'Greg', 'Manhattan', 'Chelsea', 40.74701, -73.9914, 'Private room', 105, 1, 132, '2019-06-22', 4.81, 4, 103)\n",
            "(18050153, 'Chelsea Haven--Summer Sublet', 10621137, 'Anne Marie', 'Manhattan', 'Chelsea', 40.74686, -74.0043, 'Entire home/apt', 134, 3, 1, '2017-08-12', 0.04, 1, 0)\n",
            "(18124043, 'ChelseaStudio w/t SunnyPrivateTerrace&EmpireView:)', 124898889, 'Fania', 'Manhattan', 'Chelsea', 40.74432, -73.99985, 'Entire home/apt', 180, 5, 7, '2018-01-02', 0.26, 1, 0)\n",
            "(18173989, 'Private and Quiet Room in the Perfect Location', 3660702, 'Greg', 'Manhattan', 'Chelsea', 40.74754, -73.99036, 'Private room', 69, 1, 63, '2019-06-24', 2.34, 4, 29)\n",
            "(18288371, 'Beautiful Apartment in the Heart of Chelsea', 8008110, 'Erika', 'Manhattan', 'Chelsea', 40.74672, -74.00187, 'Entire home/apt', 195, 6, 33, '2019-05-20', 1.36, 1, 1)\n",
            "(18386307, 'Sunny, Chelsea Studio has queen bed and sleep loft', 7245581, 'Michael', 'Manhattan', 'Chelsea', 40.74988, -73.99553, 'Entire home/apt', 89, 110, 6, '2019-05-25', 0.26, 19, 332)\n",
            "(18481196, 'Studio in Chelsea', 1750685, 'Shayan', 'Manhattan', 'Chelsea', 40.74569, -73.99687, 'Entire home/apt', 200, 1, 12, '2019-03-06', 0.6, 1, 8)\n",
            "(18579416, 'Entire, Immaculate 1-Bedroom CHELSEA APARTMENT', 11389260, 'Haley', 'Manhattan', 'Chelsea', 40.7381, -73.9976, 'Entire home/apt', 200, 2, 3, '2017-11-25', 0.12, 1, 0)\n",
            "(18584180, 'CHARMING CHELSEA BROWNSTONE STUDIO NEAR HIGHLINE', 21866971, 'Ben', 'Manhattan', 'Chelsea', 40.7453, -74.00002, 'Entire home/apt', 180, 3, 24, '2019-06-08', 1.12, 1, 14)\n",
            "(18812670, 'Midtown Luxury Living room close to Highline', 130982506, 'Chen', 'Manhattan', 'Chelsea', 40.75378, -74.00274, 'Private room', 68, 14, 0, None, None, 1, 0)\n",
            "(18849349, 'Chelsea Studio (King bed + convertible full sofa)', 50778925, 'Shary', 'Manhattan', 'Chelsea', 40.74154, -74.00161, 'Entire home/apt', 149, 5, 6, '2019-05-05', 0.24, 1, 0)\n",
            "(18892465, 'Chelsea Studio', 15474495, 'Stacy', 'Manhattan', 'Chelsea', 40.73884, -73.99767, 'Private room', 150, 1, 1, '2017-06-19', 0.04, 1, 0)\n",
            "(18933994, '△PENN STATION ,Private room with Full kitchen△', 131985573, 'James', 'Manhattan', 'Chelsea', 40.75118, -73.99902, 'Private room', 90, 2, 39, '2019-06-06', 1.56, 1, 17)\n",
            "(19015029, 'Private Cabin in New-York City (Chelsea Dictrict)', 117365574, 'Maria', 'Manhattan', 'Chelsea', 40.74806, -73.99665, 'Private room', 85, 1, 77, '2019-06-20', 3.84, 5, 310)\n",
            "(19098733, 'Cozy Efficiency Studio on Best West Chelsea Block!', 82920107, 'Zach', 'Manhattan', 'Chelsea', 40.74619, -74.00559, 'Entire home/apt', 149, 30, 1, '2018-07-16', 0.08, 1, 364)\n",
            "(19218475, 'Cozy Private Large Bed in Prime Chelsea', 134510659, 'Josif', 'Manhattan', 'Chelsea', 40.74319, -73.99636, 'Private room', 90, 14, 0, None, None, 1, 0)\n",
            "(19249099, 'Cozy Chelsea Apartment/ Highline/ Whitney Museum', 41902579, 'Maria', 'Manhattan', 'Chelsea', 40.74195, -74.00052, 'Entire home/apt', 140, 7, 41, '2019-06-15', 1.66, 1, 13)\n",
            "(19313064, 'Bright and Comfortable Chic Chelsea 1-bedroom!', 34006180, 'Zack', 'Manhattan', 'Chelsea', 40.73996, -73.99987, 'Entire home/apt', 200, 3, 3, '2019-04-21', 0.16, 1, 11)\n",
            "(19364229, 'Heart of Chelsea Private room in a serviced 2BD', 4048704, 'Tala', 'Manhattan', 'Chelsea', 40.7417, -74.00229, 'Private room', 100, 3, 1, '2017-07-15', 0.04, 1, 0)\n",
            "(19368455, 'Chelsea Gem', 70154608, 'Donna', 'Manhattan', 'Chelsea', 40.74625, -73.99911, 'Entire home/apt', 185, 5, 17, '2019-07-01', 0.88, 1, 15)\n",
            "(19385683, 'Private, Cozy, & Conveniently located Chelsea Room', 4581860, 'Serena', 'Manhattan', 'Chelsea', 40.7476, -73.99348, 'Private room', 130, 2, 21, '2018-04-05', 0.96, 1, 0)\n",
            "(19408844, 'Cozy studio in the heart of Chelsea!', 2102686, 'Eric', 'Manhattan', 'Chelsea', 40.7483, -74.00031, 'Entire home/apt', 135, 2, 10, '2018-09-03', 0.41, 1, 5)\n",
            "(19415979, 'Newly renovated studio in Prime Manhattan location', 35285033, 'Melissa', 'Manhattan', 'Chelsea', 40.74444, -74.00068, 'Entire home/apt', 175, 3, 2, '2017-10-01', 0.08, 1, 0)\n",
            "(19439790, 'Chelsea/Flatiron 1-Bedroom Apt in Luxury Building', 24464178, 'Ted', 'Manhattan', 'Chelsea', 40.74379, -73.99433, 'Entire home/apt', 189, 2, 7, '2019-04-30', 0.3, 1, 0)\n",
            "(19455149, 'Manhattan Phenomenal Deal! BEST Chelsea Room', 136431007, 'Louie', 'Manhattan', 'Chelsea', 40.74944, -73.99774, 'Private room', 49, 1, 40, '2019-06-09', 1.63, 1, 43)\n",
            "(19455656, 'NYC adventurous getaway!', 28626337, 'Jess', 'Manhattan', 'Chelsea', 40.73958, -74.00171, 'Private room', 65, 3, 2, '2018-01-01', 0.08, 1, 0)\n",
            "(19563669, 'Chelsea luxury apartment', 41680155, 'Ze', 'Manhattan', 'Chelsea', 40.74794, -73.98927, 'Private room', 140, 2, 2, '2019-07-05', 0.21, 1, 22)\n",
            "(19573919, 'Bright Clean Comfortable 1bdrm in west Chelsea', 75253309, 'Wayne', 'Manhattan', 'Chelsea', 40.75283, -73.99951, 'Entire home/apt', 140, 4, 0, None, None, 1, 0)\n",
            "(19609919, 'Large Private Room in Duplex- Chelsea', 137893214, 'Chad', 'Manhattan', 'Chelsea', 40.74498, -73.99845, 'Private room', 105, 2, 0, None, None, 1, 0)\n",
            "(19619159, 'Bright, Modern and Cozy Chelsea Studio!', 18776880, 'Caroline', 'Manhattan', 'Chelsea', 40.74118, -73.999, 'Entire home/apt', 155, 2, 4, '2017-10-23', 0.16, 1, 0)\n",
            "(19622470, 'Chelsea Private Bedroom and Bathroom', 3715206, 'Yaz', 'Manhattan', 'Chelsea', 40.74837, -74.00228, 'Private room', 100, 2, 12, '2017-10-09', 0.5, 1, 0)\n",
            "(19652739, '1 Bedroom/1 Livingroom on 21st and 8th in Chelsea', 81531783, 'Katie Knapp', 'Manhattan', 'Chelsea', 40.74429, -73.99984, 'Entire home/apt', 130, 26, 39, '2019-06-28', 1.71, 1, 29)\n",
            "(19714903, 'Charming One Bedroom Apt in West Chelsea', 8706651, 'Theresa', 'Manhattan', 'Chelsea', 40.74862, -74.00237, 'Entire home/apt', 150, 2, 1, '2019-04-27', 0.41, 1, 0)\n",
            "(19790344, 'Spacious 1BR on the border of West Village/Chelsea', 24861274, 'Madison', 'Manhattan', 'Chelsea', 40.73881, -73.99741, 'Entire home/apt', 200, 2, 24, '2019-07-01', 1.14, 1, 20)\n",
            "(19821160, 'Chelsea Condo near High line', 36043601, 'Bicheng', 'Manhattan', 'Chelsea', 40.74927, -74.00691, 'Entire home/apt', 200, 2, 0, None, None, 1, 0)\n",
            "(19821206, 'COZY STUDIO APT IN HEART OF CHELSEA', 139949166, 'Jiwon', 'Manhattan', 'Chelsea', 40.75044, -73.99665, 'Entire home/apt', 128, 1, 4, '2018-03-20', 0.17, 1, 0)\n",
            "(19968961, 'Bedroom and own bathroom in Chelsea apartment', 6393112, 'Katie', 'Manhattan', 'Chelsea', 40.74286, -74.001, 'Private room', 110, 2, 0, None, None, 1, 0)\n",
            "(20133862, 'Cozy West 15th Street Studio, Chelsea', 22541573, 'Ken', 'Manhattan', 'Chelsea', 40.74119, -73.99941, 'Entire home/apt', 169, 30, 0, None, None, 87, 362)\n",
            "(20182193, 'Not active', 50740281, 'Jake', 'Manhattan', 'Chelsea', 40.73686, -73.99349, 'Entire home/apt', 175, 5, 0, None, None, 1, 0)\n",
            "(20204055, 'West 15th Street Cozy Chelsea Studio Serviced Apt', 22541573, 'Ken', 'Manhattan', 'Chelsea', 40.73895, -73.9997, 'Entire home/apt', 170, 30, 1, '2017-11-13', 0.05, 87, 278)\n",
            "(20250864, 'Chelsea, Minutes to Time Square, Next to Subway', 144317997, 'Luis', 'Manhattan', 'Chelsea', 40.74648, -73.99286, 'Private room', 40, 3, 23, '2018-05-03', 1.03, 1, 0)\n",
            "(20350538, 'WEST VILLAGE/CHELSEA-PRIME LOCATION', 76104209, 'Rated', 'Manhattan', 'Chelsea', 40.73993, -74.00147, 'Entire home/apt', 164, 30, 0, None, None, 33, 307)\n",
            "(20425394, 'Studio Apartment in Chelsea', 26329486, 'Nick', 'Manhattan', 'Chelsea', 40.74418, -73.9999, 'Entire home/apt', 162, 3, 4, '2017-12-30', 0.18, 1, 0)\n",
            "(20506481, 'Cozy Chelsea Apartment', 12552750, 'Kimberly', 'Manhattan', 'Chelsea', 40.73982, -74.0011, 'Entire home/apt', 195, 1, 71, '2019-06-24', 3.2, 1, 12)\n",
            "(20587567, 'Cozy Studio Apartment in West Chelsea', 4114004, 'Scott', 'Manhattan', 'Chelsea', 40.74847, -74.00033, 'Entire home/apt', 154, 2, 3, '2017-12-11', 0.13, 1, 0)\n",
            "(20651136, 'Private 1 bed 1 bath- Chelsea, Manhattan', 44170535, 'Caitlin', 'Manhattan', 'Chelsea', 40.7459, -73.99867, 'Private room', 165, 3, 4, '2017-10-10', 0.18, 2, 0)\n",
            "(20722247, 'Private Bedroom in the Heart of Chelsea (3FL/3FR )', 40712207, 'Elsa', 'Manhattan', 'Chelsea', 40.7416, -74.00082, 'Private room', 75, 30, 2, '2019-05-11', 0.17, 1, 188)\n",
            "(20815900, 'Huge One of A Kind Loft West Village/Meatpacking', 6433797, 'Marlon', 'Manhattan', 'Chelsea', 40.74039, -74.00029, 'Private room', 89, 2, 1, '2017-09-14', 0.05, 1, 0)\n",
            "(20860184, 'Fabulous Sun-kissed Room in Heart of Chelsea!', 29867167, 'Jamal', 'Manhattan', 'Chelsea', 40.74821, -74.0018, 'Private room', 95, 1, 17, '2018-08-31', 0.78, 1, 0)\n",
            "(20864878, 'High Line Sun Drenched Home', 13462349, 'Elvis', 'Manhattan', 'Chelsea', 40.7469, -73.99494, 'Entire home/apt', 200, 2, 40, '2019-06-19', 1.81, 1, 288)\n",
            "(20941420, 'Room in Chelsea', 15487773, 'Sorcha', 'Manhattan', 'Chelsea', 40.74063, -73.99998, 'Private room', 100, 2, 4, '2017-10-30', 0.19, 1, 0)\n",
            "(21015751, 'Great studio in Chelsea at a fantastic location', 79345554, 'Vela', 'Manhattan', 'Chelsea', 40.75058, -73.99582, 'Entire home/apt', 160, 60, 0, None, None, 1, 0)\n",
            "(21044271, 'Chelsea, Manhattan Large Private Bedroom for 2', 44170535, 'Caitlin', 'Manhattan', 'Chelsea', 40.74594, -73.99829, 'Entire home/apt', 125, 3, 0, None, None, 2, 0)\n",
            "(21121441, 'Bright 1 bd apartment next to west villiage', 152339773, 'Amanda Haowei', 'Manhattan', 'Chelsea', 40.74083, -74.00349, 'Entire home/apt', 195, 5, 0, None, None, 1, 0)\n",
            "(21181643, 'Midtown Manhattan shared Apartment,Prime Location', 152948553, 'Lexy', 'Manhattan', 'Chelsea', 40.75133, -73.99671, 'Private room', 99, 1, 77, '2019-06-17', 3.64, 1, 101)\n",
            "(21185183, 'Luxury 1BR in NYC + Great Amenities & Rooftop Ter.', 30283594, 'Kara', 'Manhattan', 'Chelsea', 40.75121, -73.99812, 'Entire home/apt', 169, 30, 1, '2017-11-20', 0.05, 121, 282)\n",
            "(21213047, 'The Solstice - A One Bedroom Apartment', 153150422, 'Charles', 'Manhattan', 'Chelsea', 40.74226, -74.00602, 'Entire home/apt', 165, 2, 11, '2018-06-24', 0.53, 1, 2)\n",
            "(21215073, 'Roomy bedroom in Spacious Chelsea Loft!', 9522664, 'Kevin', 'Manhattan', 'Chelsea', 40.74337, -73.99362, 'Private room', 149, 2, 19, '2019-05-11', 0.89, 1, 274)\n",
            "(21215200, 'Quiet and private in the heart of Chelsea.', 2305978, 'Emmanuel', 'Manhattan', 'Chelsea', 40.74325, -73.99975, 'Entire home/apt', 175, 2, 67, '2019-06-24', 3.31, 2, 101)\n",
            "(21254023, 'Chelsea Newly Renovated Private Bedroom', 22004774, 'Taylor', 'Manhattan', 'Chelsea', 40.74772, -74.002, 'Private room', 110, 2, 2, '2017-12-05', 0.1, 1, 0)\n",
            "(21306332, 'West 15th Street Cozy Chelsea Studio Serviced Apt', 22541573, 'Ken', 'Manhattan', 'Chelsea', 40.74071, -73.99977, 'Entire home/apt', 170, 30, 0, None, None, 87, 307)\n",
            "(21413839, 'Chelsea Cabins (NYC)', 117365574, 'Maria', 'Manhattan', 'Chelsea', 40.74785, -73.99664, 'Private room', 82, 1, 97, '2019-06-16', 4.69, 5, 309)\n",
            "(21428231, 'Adorable room in AMAZING Chelsea apartment!', 155318905, 'Samantha', 'Manhattan', 'Chelsea', 40.74314, -73.99898, 'Private room', 95, 1, 2, '2017-11-06', 0.1, 1, 0)\n",
            "(21452348, 'manhattan studio near chelsea,highline, whitney', 7390361, 'Inyoung', 'Manhattan', 'Chelsea', 40.74184, -73.99877, 'Entire home/apt', 128, 6, 6, '2018-01-13', 0.3, 1, 0)\n",
            "(21469886, 'Sky Light Studio Chelsea', 1358567, 'Jolie And Max', 'Manhattan', 'Chelsea', 40.74387, -73.99766, 'Entire home/apt', 180, 3, 6, '2019-05-19', 0.42, 1, 20)\n",
            "(21475999, 'Single Cabins (Chelsea, Manhattan, NYC)', 117365574, 'Maria', 'Manhattan', 'Chelsea', 40.7497, -73.99515, 'Private room', 85, 1, 113, '2019-06-22', 5.5, 5, 292)\n",
            "(21682816, 'Large Furnished Bedroom in Prime Chelsea', 102685703, 'Lauren', 'Manhattan', 'Chelsea', 40.74394, -73.99923, 'Private room', 120, 4, 0, None, None, 1, 0)\n",
            "(21718049, 'Cosy 1 bedroom, in a pre war building in Chelsea !', 158137594, 'Zafreen', 'Manhattan', 'Chelsea', 40.74727, -74.00261, 'Entire home/apt', 185, 7, 0, None, None, 1, 0)\n",
            "(21767672, 'Sun kissed, loft studio in the heart of Chelsea', 27293055, 'Sara', 'Manhattan', 'Chelsea', 40.74143, -74.00027, 'Entire home/apt', 159, 3, 3, '2018-02-19', 0.16, 1, 0)\n",
            "(21771502, 'Beautiful 5th avenue apartment with balcony', 35169885, 'Boris', 'Manhattan', 'Chelsea', 40.73649, -73.99237, 'Entire home/apt', 200, 10, 3, '2018-04-29', 0.16, 1, 0)\n",
            "(21838658, 'Private Room in Spacious Chelsea Loft', 5111838, 'John', 'Manhattan', 'Chelsea', 40.74661, -73.99245, 'Private room', 99, 7, 19, '2019-05-10', 1.02, 1, 11)\n",
            "(21844377, 'In the heart of Chelsea and downtown', 1317913, 'Lauren', 'Manhattan', 'Chelsea', 40.74116, -74.00053, 'Private room', 200, 3, 0, None, None, 2, 158)\n",
            "(21851700, 'Perfect Manhattan Studio Apartment - Quiet Street', 15907782, 'Chelsea', 'Manhattan', 'Chelsea', 40.74031, -73.9986, 'Entire home/apt', 150, 3, 9, '2019-04-30', 0.48, 1, 13)\n",
            "(21861551, 'Brand-new Luxury apt. Stunning views by Penn st.', 2431679, 'Danish', 'Manhattan', 'Chelsea', 40.75117, -73.99305, 'Private room', 155, 2, 7, '2018-04-08', 0.36, 1, 0)\n",
            "(21893604, 'Private Bedroom in West Village/Chelsea', 1144452, 'Dante', 'Manhattan', 'Chelsea', 40.74045, -74.00047, 'Private room', 12, 3, 8, '2019-06-07', 0.59, 1, 37)\n",
            "(21937451, 'AMAZING STUDIO IN CHELSEA (up to 4) Special price!', 21621745, 'Paulina', 'Manhattan', 'Chelsea', 40.74927, -74.00122, 'Entire home/apt', 200, 1, 7, '2019-03-04', 0.37, 1, 0)\n",
            "(21995883, 'Chelsea urban style loft', 79886089, 'Stephanie', 'Manhattan', 'Chelsea', 40.74624, -73.99273, 'Private room', 150, 5, 4, '2019-01-01', 0.22, 1, 0)\n",
            "(22106002, 'Fantastic Room - King Bed and a Private Rooftop', 18605299, 'Isaac', 'Manhattan', 'Chelsea', 40.74688, -73.99657, 'Private room', 99, 5, 2, '2018-01-31', 0.1, 1, 0)\n",
            "(22143436, 'Chelsea 1 Bedroom Gem!', 22967048, 'Marie', 'Manhattan', 'Chelsea', 40.75206, -73.99829, 'Entire home/apt', 200, 3, 43, '2019-06-29', 2.34, 1, 63)\n",
            "(22144662, 'Spacious Studio with Private Roof', 73358102, 'Alex', 'Manhattan', 'Chelsea', 40.75003, -73.99647, 'Entire home/apt', 109, 2, 76, '2019-06-14', 3.95, 1, 4)\n",
            "(22164078, 'Large Modern Chelsea Studio', 35509609, 'Justin', 'Manhattan', 'Chelsea', 40.7478, -73.99995, 'Entire home/apt', 149, 4, 3, '2019-01-23', 0.32, 1, 0)\n",
            "(22232463, 'Cosy Apartment in the Heart of Manhattan', 7286095, 'Lior', 'Manhattan', 'Chelsea', 40.7443, -73.99732, 'Entire home/apt', 135, 1, 0, None, None, 1, 0)\n",
            "(22241573, 'Private Room B In Prime Location', 162427870, 'Anna', 'Manhattan', 'Chelsea', 40.74729, -73.98957, 'Private room', 115, 1, 162, '2019-06-23', 8.68, 3, 312)\n",
            "(22303856, 'Large 1-bedroom in Chelsea (unfurnished)', 4364889, 'Simone', 'Manhattan', 'Chelsea', 40.74696, -73.99556, 'Entire home/apt', 152, 1, 4, '2017-12-31', 0.21, 1, 0)\n",
            "(22312190, 'Art Lover’s Dream! Chelsea Delight!', 52602009, 'Norman', 'Manhattan', 'Chelsea', 40.75071, -74.00247, 'Private room', 84, 2, 119, '2019-06-19', 6.44, 1, 20)\n",
            "(22352793, 'Cozy, impeccable, sunlit West Village studio', 108275491, 'Juan', 'Manhattan', 'Chelsea', 40.74093, -74.00285, 'Entire home/apt', 110, 2, 1, '2017-12-28', 0.05, 1, 0)\n",
            "(22353899, 'Chelsea Studio', 733168, 'Farid', 'Manhattan', 'Chelsea', 40.74761, -74.00584, 'Entire home/apt', 175, 5, 3, '2018-08-11', 0.16, 1, 0)\n",
            "(22361598, 'LARGE 1BR WITH AMAZING VIEWS!!', 31142123, 'Hans', 'Manhattan', 'Chelsea', 40.74826, -73.98928, 'Entire home/apt', 159, 4, 3, '2018-05-05', 0.16, 1, 0)\n",
            "(22550483, 'Cozy semi-private small cabin near Times Square', 77526864, 'Anallely', 'Manhattan', 'Chelsea', 40.7498, -73.99623, 'Private room', 88, 1, 5, '2019-03-16', 1.0, 1, 158)\n",
            "(22628471, 'Chelsea Studio - Fully Furnished', 74255931, 'Paddy', 'Manhattan', 'Chelsea', 40.74776, -74.00238, 'Entire home/apt', 75, 15, 1, '2018-02-18', 0.06, 1, 0)\n",
            "(22651509, 'Cozy New York Apartment', 166818540, 'Shannon R', 'Manhattan', 'Chelsea', 40.73991, -74.00211, 'Entire home/apt', 115, 1, 2, '2018-10-11', 0.11, 1, 0)\n",
            "(22683927, 'Furnished Bedroom Meat Packing District', 167188752, 'Percy', 'Manhattan', 'Chelsea', 40.7394, -73.99964, 'Private room', 150, 3, 1, '2018-05-02', 0.07, 1, 364)\n",
            "(22754110, 'Private Apartment in Chelsea', 47844929, 'Ethan', 'Manhattan', 'Chelsea', 40.73951, -73.99979, 'Entire home/apt', 115, 1, 4, '2018-02-25', 0.24, 1, 0)\n",
            "(22781825, 'Free bottle of wine with stay!', 168308087, 'Sarah', 'Manhattan', 'Chelsea', 40.73686, -73.99171, 'Entire home/apt', 75, 1, 0, None, None, 1, 0)\n",
            "(22944203, 'Cozy room in a charming, spacious apartment', 87782960, 'Josh', 'Manhattan', 'Chelsea', 40.74286, -73.99847, 'Private room', 84, 4, 14, '2019-06-30', 0.82, 1, 13)\n",
            "(23001249, 'Bright Meatpacking Studio', 29074867, 'Jasmine', 'Manhattan', 'Chelsea', 40.74142, -74.0025, 'Entire home/apt', 150, 2, 4, '2018-06-10', 0.25, 1, 0)\n",
            "(23131463, 'Sunny Chelsea Studio + Balcony (Central Location)', 15901859, 'Jonah', 'Manhattan', 'Chelsea', 40.74216, -73.99673, 'Entire home/apt', 127, 5, 30, '2019-06-24', 2.0, 1, 32)\n",
            "(23166556, 'Private Quiet Room in Chelsea Brownstone Apartment', 625092, 'Anne-Lise', 'Manhattan', 'Chelsea', 40.75115, -73.99787, 'Private room', 63, 7, 4, '2019-03-09', 0.39, 1, 31)\n",
            "(23258639, 'Large Alcove Studio in the Heart of Chelsea', 22412963, 'Anne', 'Manhattan', 'Chelsea', 40.74482, -73.99882, 'Entire home/apt', 180, 1, 72, '2019-06-25', 4.67, 3, 223)\n",
            "(23344243, 'Zen very well located in Chelsea studio', 62745867, 'Tatiane', 'Manhattan', 'Chelsea', 40.73981, -74.00031, 'Entire home/apt', 146, 7, 3, '2018-12-14', 0.21, 1, 353)\n",
            "(23374229, 'Big Private Room in the Hudson Yards Area', 36291511, 'Arturo', 'Manhattan', 'Chelsea', 40.75272, -73.99682, 'Private room', 98, 1, 19, '2018-12-09', 1.25, 1, 0)\n",
            "(23421363, 'Private room amazing location Chelsea/Union Square', 60133196, 'Javier', 'Manhattan', 'Chelsea', 40.73974, -73.99563, 'Private room', 80, 3, 0, None, None, 1, 0)\n",
            "(23464702, 'Private bedroom in large Chelsea apartment', 3656871, 'Holman', 'Manhattan', 'Chelsea', 40.74233, -74.0002, 'Private room', 99, 3, 3, '2018-04-23', 0.19, 1, 0)\n",
            "(23468785, 'Luxe Master Bdrm Chelsea Doorman Gym/RoofDeck/Elev', 19043062, 'Regi', 'Manhattan', 'Chelsea', 40.74085, -74.00379, 'Private room', 80, 4, 34, '2019-06-28', 2.24, 2, 20)\n",
            "(23514583, 'Luxury High Line Chelsea Doorman, Roof Deck/Gym', 19043062, 'Regi', 'Manhattan', 'Chelsea', 40.74057, -74.00263, 'Entire home/apt', 150, 4, 21, '2019-06-19', 1.46, 2, 5)\n",
            "(23548260, 'Spacious one bedroom apartment in Chelsea', 52751563, 'Rory', 'Manhattan', 'Chelsea', 40.74248, -73.99568, 'Entire home/apt', 96, 1, 32, '2019-06-02', 2.03, 1, 2)\n",
            "(23560164, '**Spacious 47th-Floor Apt** Convenient Location', 38202756, 'Zihan', 'Manhattan', 'Chelsea', 40.74968, -73.98951, 'Entire home/apt', 186, 3, 4, '2018-04-01', 0.24, 1, 0)\n",
            "(23632578, 'Chelsea Studio Steps from Madison Square Garden', 3717633, 'Tony', 'Manhattan', 'Chelsea', 40.75129, -73.99561, 'Entire home/apt', 185, 2, 32, '2019-06-23', 2.02, 1, 47)\n",
            "(23765706, 'Beautiful Large 1br in the middle of Manhattan', 25939370, 'Petar', 'Manhattan', 'Chelsea', 40.75068, -73.99811, 'Entire home/apt', 172, 30, 6, '2019-03-31', 0.5, 1, 195)\n",
            "(23839939, '*Location, Location | Chelsea | Meat Packing*', 70307702, 'Sam', 'Manhattan', 'Chelsea', 40.73959, -74.00105, 'Entire home/apt', 199, 3, 36, '2019-07-02', 2.44, 1, 293)\n",
            "(23855466, 'Cheap Rental in Manhattan Downtown!', 179187831, 'Nadia', 'Manhattan', 'Chelsea', 40.75031, -73.99336, 'Entire home/apt', 70, 1, 0, None, None, 1, 364)\n",
            "(24080143, 'Beautiful Private Room near Highline, and Train', 44292356, 'Colin', 'Manhattan', 'Chelsea', 40.74648, -74.00266, 'Private room', 89, 30, 30, '2019-06-27', 2.73, 1, 105)\n",
            "(24266025, 'Private Room in The Heart of Manhattan', 182989727, 'Ilya', 'Manhattan', 'Chelsea', 40.74579, -73.9909, 'Private room', 70, 3, 8, '2019-05-12', 0.54, 1, 0)\n",
            "(24312275, 'West Chelsea MINI', 20132009, 'Karen', 'Manhattan', 'Chelsea', 40.74491, -74.0042, 'Entire home/apt', 150, 3, 49, '2019-07-04', 3.53, 2, 64)\n",
            "(24377683, 'Sunny Bedroom at Union Square', 21410546, 'Hong Ngoc', 'Manhattan', 'Chelsea', 40.737, -73.99407, 'Private room', 85, 2, 4, '2018-06-10', 0.27, 1, 0)\n",
            "(24393653, 'SPECIOUS ONE BEDROOM IN THE HEART OF  CHELSEA', 95108020, 'Maya', 'Manhattan', 'Chelsea', 40.74549, -73.99114, 'Private room', 190, 4, 37, '2019-06-30', 2.68, 1, 28)\n",
            "(24715838, 'Beautiful Modern and Cosy 1BR in Chelsea', 5861197, 'Benoit', 'Manhattan', 'Chelsea', 40.75254, -73.99471, 'Entire home/apt', 190, 3, 2, '2018-09-22', 0.15, 1, 0)\n",
            "(24866257, 'Huge, Sunny, & Private Room - 5 min to Times Sq.', 187980677, 'Reilly', 'Manhattan', 'Chelsea', 40.75069, -73.99736, 'Private room', 175, 1, 46, '2019-06-19', 3.22, 1, 109)\n",
            "(24894724, 'A cozy studio in Chelsea', 30558890, 'Alexander', 'Manhattan', 'Chelsea', 40.75164, -73.99727, 'Entire home/apt', 120, 30, 2, '2018-12-30', 0.21, 1, 0)\n",
            "(24992418, 'Cute & Cozy Studio in Chelsea!', 9711035, 'Madison', 'Manhattan', 'Chelsea', 40.7464, -73.99701, 'Entire home/apt', 170, 28, 4, '2019-06-08', 0.32, 1, 61)\n",
            "(25156498, 'Charming Loft apartment with great light!', 54469570, 'Trina', 'Manhattan', 'Chelsea', 40.749, -73.99466, 'Private room', 75, 2, 2, '2018-06-05', 0.15, 1, 0)\n",
            "(25259845, 'Minimalist Modern West Village Studio', 190841783, 'Cara', 'Manhattan', 'Chelsea', 40.74098, -73.99744, 'Entire home/apt', 140, 29, 2, '2018-07-22', 0.15, 1, 334)\n",
            "(25292558, 'Sunny and Zen room in Chelsea', 15668272, 'Pedro', 'Manhattan', 'Chelsea', 40.74194, -73.99914, 'Private room', 100, 2, 1, '2018-06-25', 0.08, 1, 0)\n",
            "(25340844, 'Cozy Room in a Historic, Beautiful Apartment', 9523229, 'Dennis', 'Manhattan', 'Chelsea', 40.74249, -73.99997, 'Private room', 68, 4, 33, '2019-06-16', 2.56, 1, 0)\n",
            "(25355845, 'Super Charming 1 Bedroom  in the Heart of Chelsea', 21705284, 'Dani', 'Manhattan', 'Chelsea', 40.74388, -73.99631, 'Entire home/apt', 200, 2, 71, '2019-06-18', 5.23, 1, 230)\n",
            "(25380189, 'Modern, Fresh Chelsea, Athenas Apartment Room', 191621249, 'Geraldine', 'Manhattan', 'Chelsea', 40.74104, -73.99712, 'Private room', 100, 1, 33, '2019-06-29', 3.87, 2, 12)\n",
            "(25380654, 'Cozy, Confortable,  Modern spacious and nice Room', 191621249, 'Geraldine', 'Manhattan', 'Chelsea', 40.74284, -73.99842, 'Private room', 99, 1, 95, '2019-07-08', 7.2, 2, 0)\n",
            "(25516958, 'Quiet Cozy Chelsea Studio', 32703801, 'Jackie', 'Manhattan', 'Chelsea', 40.74326, -74.00278, 'Entire home/apt', 179, 3, 27, '2019-07-07', 2.06, 1, 54)\n",
            "(25752683, 'Chelsea Studio Apt', 37239193, 'Ido', 'Manhattan', 'Chelsea', 40.74016, -73.99902, 'Entire home/apt', 199, 2, 1, '2018-08-30', 0.1, 1, 0)\n",
            "(26658854, 'Sunny well-located room near Times Sq. 41D2', 190921808, 'John', 'Manhattan', 'Chelsea', 40.75369, -73.99719, 'Private room', 50, 7, 11, '2019-06-22', 0.99, 47, 358)\n",
            "(26805133, 'Cozy room in best New York neighborhood Chelsea', 40404374, 'Reda', 'Manhattan', 'Chelsea', 40.74137, -73.9994, 'Private room', 92, 3, 8, '2019-06-09', 0.69, 1, 125)\n",
            "(26812606, 'Modern Spacious Studio in the Heart of Chelsea', 6720254, 'Eliran', 'Manhattan', 'Chelsea', 40.74285, -73.99395, 'Entire home/apt', 69, 2, 22, '2018-12-06', 1.94, 1, 0)\n",
            "(26934498, 'Charming room in Chelsea', 12750945, 'Luis', 'Manhattan', 'Chelsea', 40.73968, -73.99746, 'Private room', 150, 2, 41, '2019-06-19', 3.54, 4, 316)\n",
            "(27085372, 'Chelsea Manhattan Studio Apartment', 42400797, 'Kristi', 'Manhattan', 'Chelsea', 40.74217, -73.99649, 'Entire home/apt', 98, 12, 0, None, None, 1, 0)\n",
            "(27100997, 'Cozy & Private Bedroom near Highline- CHELSEA', 203346157, 'Bryan', 'Manhattan', 'Chelsea', 40.74309, -73.99535, 'Private room', 115, 55, 11, '2019-05-20', 1.31, 1, 204)\n",
            "(27112835, '5 ave apto', 10476100, 'Cezar', 'Manhattan', 'Chelsea', 40.73916, -73.99471, 'Entire home/apt', 85, 14, 1, '2018-12-20', 0.15, 1, 16)\n",
            "(27140232, '曼哈顿帝国大厦/Time square', 107245546, 'Michael', 'Manhattan', 'Chelsea', 40.74708, -73.99131, 'Entire home/apt', 155, 3, 11, '2019-07-02', 4.78, 3, 84)\n",
            "(27160493, '曼哈顿/帝国大夏/ time square【2】', 107245546, 'Michael', 'Manhattan', 'Chelsea', 40.74756, -73.99072, 'Private room', 165, 2, 5, '2019-07-02', 3.0, 3, 93)\n",
            "(27185508, 'Large 1 Bedroom in the Heart of New York City', 2596736, 'Barry', 'Manhattan', 'Chelsea', 40.74017, -73.99485, 'Entire home/apt', 175, 3, 6, '2019-07-07', 0.57, 1, 5)\n",
            "(27199508, 'Chelsea Studio (450 Sq. Feet) with Balcony!', 52602302, 'Daniel', 'Manhattan', 'Chelsea', 40.74312, -73.99573, 'Entire home/apt', 149, 5, 5, '2019-06-27', 0.45, 1, 0)\n",
            "(27333579, 'Chelsea Apartment', 205969507, 'Chelsea', 'Manhattan', 'Chelsea', 40.75313, -74.00235, 'Private room', 120, 1, 4, '2019-05-24', 0.56, 1, 5)\n",
            "(27372891, 'Beautiful Chelsea Home Near The High Line & More!', 17506009, 'Jeff', 'Manhattan', 'Chelsea', 40.74564, -74.0006, 'Entire home/apt', 200, 1, 12, '2019-05-26', 1.09, 1, 6)\n",
            "(27527118, 'Charming Chelsea Bedroom steps from Highline Park', 1911615, 'Conley', 'Manhattan', 'Chelsea', 40.74755, -74.00317, 'Private room', 77, 1, 4, '2019-02-18', 0.36, 2, 0)\n",
            "(27551268, 'Studio Gem in Heart of Manhattan (Chelsea)', 2058584, 'Andrei', 'Manhattan', 'Chelsea', 40.74554, -74.00595, 'Entire home/apt', 150, 2, 7, '2019-07-07', 0.82, 1, 3)\n",
            "(27600437, 'Sunny Hudson Yards/ Chelsea Studio, Free WiFi', 7245581, 'Michael', 'Manhattan', 'Chelsea', 40.74912, -73.99739, 'Entire home/apt', 93, 105, 1, '2018-12-02', 0.14, 19, 332)\n",
            "(27654829, 'Spacious Union Square / Greenwich Village Home', 113697596, 'Mitchell', 'Manhattan', 'Chelsea', 40.73639, -73.99318, 'Private room', 200, 4, 13, '2019-05-20', 1.23, 1, 172)\n",
            "(27802387, 'Living Room sofa Bed in Chelsea', 12750945, 'Luis', 'Manhattan', 'Chelsea', 40.74186, -73.99769, 'Shared room', 85, 2, 22, '2019-06-23', 2.19, 4, 365)\n",
            "(27853549, 'NYC Chelsea Luxury Modern Studio', 5064974, 'Alice', 'Manhattan', 'Chelsea', 40.73918, -73.99753, 'Entire home/apt', 180, 6, 5, '2018-12-31', 0.56, 1, 0)\n",
            "(27903413, 'Cozy 1 BR APT->CHELSEA!!!', 210783572, 'Enrica', 'Manhattan', 'Chelsea', 40.74186, -74.00372, 'Entire home/apt', 180, 4, 3, '2019-04-13', 0.31, 1, 0)\n",
            "(28104895, 'Cozy Chelsea Downtown Studio w/ Private Backyard', 51289216, 'Carrie', 'Manhattan', 'Chelsea', 40.74363, -74.0022, 'Entire home/apt', 167, 2, 60, '2019-06-30', 5.75, 1, 164)\n",
            "(28133007, 'Cozy 1 BDRM in Union Square', 66744439, 'Sara', 'Manhattan', 'Chelsea', 40.73642, -73.9924, 'Entire home/apt', 200, 1, 0, None, None, 1, 0)\n",
            "(28335031, 'Chic Studio in a Great Neighborhood', 11050667, 'Michelle', 'Manhattan', 'Chelsea', 40.73917, -73.99412, 'Entire home/apt', 154, 4, 7, '2019-05-14', 0.77, 1, 0)\n",
            "(28359765, 'STUDIO WITH OUTDOOR SPACE-CHELSEA MARKET-WEST 19TH', 200380610, 'Pranjal', 'Manhattan', 'Chelsea', 40.74138, -73.99729, 'Entire home/apt', 175, 30, 1, '2019-06-13', 1.0, 65, 342)\n",
            "(28372451, 'New York Walk Up  Apartment', 214207874, 'Tom', 'Manhattan', 'Chelsea', 40.73941, -73.99777, 'Entire home/apt', 110, 7, 4, '2018-11-04', 0.4, 1, 0)\n",
            "(28440536, 'Chelsea Cabin', 20480351, 'David', 'Manhattan', 'Chelsea', 40.7404, -73.99485, 'Entire home/apt', 200, 3, 21, '2019-06-20', 2.4, 1, 42)\n",
            "(28715589, 'Cozy Loft Apartment - Convenient Location!', 38579823, 'Diane', 'Manhattan', 'Chelsea', 40.75064, -73.99536, 'Entire home/apt', 150, 1, 12, '2018-12-17', 1.29, 1, 0)\n",
            "(28752251, 'Sun-filled Apartment in Great Location', 9165739, 'Jesse', 'Manhattan', 'Chelsea', 40.74184, -74.00108, 'Private room', 91, 1, 10, '2019-06-30', 1.09, 1, 0)\n",
            "(28754650, 'NYC Chelsea', 216891728, 'Sonia', 'Manhattan', 'Chelsea', 40.7458, -73.9957, 'Entire home/apt', 140, 32, 29, '2019-07-02', 3.94, 1, 2)\n",
            "(28832811, 'Spacious Room in a Historic, Beautiful Apartment', 15148834, 'Rafic', 'Manhattan', 'Chelsea', 40.74413, -74.00004, 'Private room', 90, 3, 4, '2019-06-28', 0.43, 1, 0)\n",
            "(28881114, 'A+ Chelsea_global inspired  location. Large room', 3464645, 'Sybilla Michelle', 'Manhattan', 'Chelsea', 40.74768, -73.99965, 'Private room', 175, 2, 0, None, None, 3, 70)\n",
            "(28919308, 'Charming West Chelsea Studio Loft', 145331404, 'Allan', 'Manhattan', 'Chelsea', 40.74542, -74.00133, 'Entire home/apt', 195, 5, 21, '2019-07-01', 2.42, 1, 17)\n",
            "(28964081, 'Perfect Location! 2BR Oasis in Heart of Chelsea', 216586866, 'Joseph', 'Manhattan', 'Chelsea', 40.74377, -73.99905, 'Entire home/apt', 137, 4, 1, '2019-01-01', 0.16, 2, 0)\n",
            "(28964397, 'Perfect Location! Your Oasis in Heart of Chelsea', 216586866, 'Joseph', 'Manhattan', 'Chelsea', 40.744, -73.99721, 'Private room', 65, 3, 12, '2019-06-25', 1.43, 2, 30)\n",
            "(28981827, 'Beautiful Luxury 1 Bedroom', 7021189, 'Sachin', 'Manhattan', 'Chelsea', 40.74463, -73.9923, 'Entire home/apt', 200, 100, 1, '2018-10-02', 0.11, 1, 0)\n",
            "(29063993, 'Cosy Midtown New York Place, Ideal for 1 Person!', 219016824, 'Xue', 'Manhattan', 'Chelsea', 40.75049, -73.99809, 'Entire home/apt', 69, 1, 2, '2018-10-30', 0.24, 1, 1)\n",
            "(29381358, 'Spacious 1 Bed (FURNISHED!) Hudson Yards Sublet', 221343982, 'Christina', 'Manhattan', 'Chelsea', 40.75358, -73.99707, 'Private room', 165, 45, 0, None, None, 1, 83)\n",
            "(29384622, 'Private Sun-Splashed Studio Chelsea', 221366300, 'Casey', 'Manhattan', 'Chelsea', 40.74303, -73.99727, 'Entire home/apt', 200, 1, 34, '2019-07-02', 4.66, 1, 0)\n",
            "(29393808, 'Cozy 1 bed in amazing NYC location! (Chelsea)', 17218010, 'Katie', 'Manhattan', 'Chelsea', 40.74011, -73.99745, 'Entire home/apt', 175, 2, 17, '2019-04-21', 2.08, 1, 0)\n",
            "(29440688, 'Neon Dreams - Private Bedroom in Chelsea', 89120831, 'Shannon & Ryan', 'Manhattan', 'Chelsea', 40.7487, -73.99678, 'Private room', 100, 1, 42, '2019-07-02', 5.06, 1, 23)\n",
            "(29630728, '1 bedroom apartment in Chelsea', 23954256, 'Meaghan', 'Manhattan', 'Chelsea', 40.75024, -73.99686, 'Entire home/apt', 189, 1, 7, '2019-07-01', 0.86, 1, 2)\n",
            "(29701500, 'New York Chelsea Art Apt.', 30627525, 'Laith', 'Manhattan', 'Chelsea', 40.73798, -73.99253, 'Entire home/apt', 200, 3, 10, '2019-06-08', 1.35, 1, 263)\n",
            "(29780863, 'Private Studio Chelsea 23 x 8th Ave 30sec to train', 6458347, 'Esther', 'Manhattan', 'Chelsea', 40.74499, -73.99845, 'Private room', 180, 1, 2, '2019-04-19', 0.31, 1, 158)\n",
            "(29904741, 'Interfaith Retreats (St. Francis)', 16677326, 'Alex And Zeena', 'Manhattan', 'Chelsea', 40.74942, -73.99593, 'Private room', 85, 1, 23, '2019-06-05', 3.18, 12, 362)\n",
            "(29906273, 'Adorable Chelsea Studio in best neighborhood!', 53443367, 'Kathryn', 'Manhattan', 'Chelsea', 40.74333, -74.00106, 'Entire home/apt', 175, 1, 8, '2019-06-16', 1.22, 1, 0)\n",
            "(29945246, 'Lovely Furnished Studio Chelsea', 224489730, 'Rachel', 'Manhattan', 'Chelsea', 40.74419, -74.00067, 'Entire home/apt', 125, 30, 2, '2019-03-05', 0.32, 2, 67)\n",
            "(30062478, 'Chelsea Hudson yards Highline adorable apartment', 225913271, 'Kristie', 'Manhattan', 'Chelsea', 40.7507, -74.00261, 'Entire home/apt', 170, 3, 6, '2019-06-30', 0.84, 1, 170)\n",
            "(30108247, 'beautiful apt. in Chelsea w/ a doorman', 7285648, 'Josh', 'Manhattan', 'Chelsea', 40.74656, -74.00441, 'Private room', 114, 1, 1, '2019-01-01', 0.16, 3, 0)\n",
            "(30133439, 'Cozy, sunny room in best neighborhood - Chelsea', 33529908, 'Michelle', 'Manhattan', 'Chelsea', 40.74172, -73.99937, 'Private room', 66, 5, 0, None, None, 1, 5)\n",
            "(30137792, 'Small cozy  private room near time square', 215944788, 'Kay', 'Manhattan', 'Chelsea', 40.74337, -73.99423, 'Private room', 85, 3, 15, '2019-03-17', 2.13, 3, 1)\n",
            "(30182093, 'Chic Chelsea One Bedroom Oasis', 12827163, 'Pamela', 'Manhattan', 'Chelsea', 40.74057, -73.99908, 'Entire home/apt', 200, 5, 0, None, None, 1, 0)\n",
            "(30199043, 'Spacious room in Luxury Chelsea Apt', 212033848, 'Stephanie', 'Manhattan', 'Chelsea', 40.74453, -73.99196, 'Private room', 150, 1, 4, '2019-07-06', 0.55, 1, 1)\n",
            "(30227667, 'Lovely studio next to Penn Station ,', 8073725, 'Ronni', 'Manhattan', 'Chelsea', 40.74875, -73.99697, 'Entire home/apt', 175, 1, 24, '2019-06-25', 3.17, 1, 365)\n",
            "(30272473, 'Glamorous studio in Chelsea', 126691775, 'Jack', 'Manhattan', 'Chelsea', 40.74941, -73.99589, 'Entire home/apt', 139, 1, 20, '2019-07-02', 2.74, 1, 355)\n",
            "(30445028, 'Midtown Priv. Lux.Room in a Penthouse (only girls)', 172586583, 'Miriam', 'Manhattan', 'Chelsea', 40.74772, -73.99146, 'Private room', 110, 3, 6, '2019-06-28', 0.84, 1, 12)\n",
            "(30563760, 'Private One Bedroom Chelsea Apartment New York-#1', 9328763, 'Synergy Global', 'Manhattan', 'Chelsea', 40.74511, -73.99468, 'Private room', 138, 25, 0, None, None, 2, 0)\n",
            "(30708899, '☆Cozy bedroom in Midtown | 1min to 4 subway lines☆', 164051353, 'Warren', 'Manhattan', 'Chelsea', 40.74836, -73.98921, 'Private room', 133, 1, 17, '2019-06-23', 4.32, 3, 87)\n",
            "(30709202, '☆Charming bedroom, 5min to Empire State Building☆', 164051353, 'Warren', 'Manhattan', 'Chelsea', 40.74832, -73.98915, 'Private room', 130, 1, 19, '2019-06-28', 2.88, 3, 81)\n",
            "(30769959, 'Private One Bedroom Chelsea Apartment New York-#2', 9328763, 'Synergy Global', 'Manhattan', 'Chelsea', 40.74566, -73.99673, 'Private room', 138, 25, 0, None, None, 2, 0)\n",
            "(30788330, 'Spacious alcove studio in the middle of Chelsea', 37883321, 'Lionel', 'Manhattan', 'Chelsea', 40.74435, -73.99535, 'Entire home/apt', 160, 7, 8, '2019-06-30', 3.04, 1, 80)\n",
            "(30824786, '▲Private Cozy Room at Madison Square Garden▲', 230574578, 'Haru', 'Manhattan', 'Chelsea', 40.74946, -73.99614, 'Private room', 75, 2, 17, '2019-06-24', 2.8, 1, 11)\n",
            "(30885792, 'Sunny Bedroom in Chelsea Beauty!', 130476089, 'Lennon', 'Manhattan', 'Chelsea', 40.74293, -73.99922, 'Private room', 80, 1, 2, '2019-03-11', 0.48, 2, 0)\n",
            "(31054566, 'Perfect location in Manhattan', 231971512, 'Roland', 'Manhattan', 'Chelsea', 40.7463, -73.9911, 'Private room', 68, 1, 0, None, None, 1, 0)\n",
            "(31122807, '500 sqft Art Deco Empire State and Hudson  views', 232599387, 'Michael', 'Manhattan', 'Chelsea', 40.7411, -73.99669, 'Private room', 200, 4, 2, '2019-05-05', 0.76, 1, 365)\n",
            "(31122836, 'Luxury Union Square Loft (3000 sq ft)', 22997536, 'Kyle', 'Manhattan', 'Chelsea', 40.73732, -73.99033, 'Private room', 200, 1, 2, '2019-03-11', 0.32, 1, 0)\n",
            "(31151736, 'The perfect NYC flat in the Meatpacking / Chelsea', 43770857, 'Matthew', 'Manhattan', 'Chelsea', 40.74393, -74.00444, 'Entire home/apt', 190, 3, 2, '2019-03-04', 0.32, 1, 0)\n",
            "(31297452, 'Luxury NEW two level suite (Duplex) in Chelsea', 99683151, 'Christina', 'Manhattan', 'Chelsea', 40.74285, -74.00196, 'Entire home/apt', 190, 3, 15, '2019-06-11', 2.54, 3, 293)\n",
            "(31382878, 'Private Studio apartment in the west village', 226960918, 'Pamela', 'Manhattan', 'Chelsea', 40.73934, -74.00146, 'Entire home/apt', 180, 3, 2, '2019-06-21', 2.0, 1, 173)\n",
            "(31390350, 'Room in a beautiful chelsea apt. w/ doorman', 7285648, 'Josh', 'Manhattan', 'Chelsea', 40.74618, -74.00569, 'Private room', 100, 1, 0, None, None, 3, 0)\n",
            "(31489863, 'Conveniently located Chelsea 2br', 25502424, 'Jay', 'Manhattan', 'Chelsea', 40.74859, -73.99685, 'Private room', 92, 2, 0, None, None, 1, 0)\n",
            "(31543550, 'Lower manhattan 1 bedroom short or long term', 7285648, 'Josh', 'Manhattan', 'Chelsea', 40.74562, -74.00538, 'Private room', 86, 1, 0, None, None, 3, 0)\n",
            "(31622417, 'Vibrant, Modern, Chelsea 1 bd sleeps  4', 236896088, 'Alice', 'Manhattan', 'Chelsea', 40.74125, -73.99876, 'Entire home/apt', 200, 2, 4, '2019-06-11', 0.85, 1, 6)\n",
            "(31654063, '♥Private-Keyed Room #3 - Desk, closet, & King-bed♥', 237336458, 'Thomas', 'Manhattan', 'Chelsea', 40.73783, -73.99775, 'Private room', 99, 12, 12, '2019-06-20', 2.11, 4, 21)\n",
            "(31748621, 'Modern NYC Apartment', 19043103, 'Jai', 'Manhattan', 'Chelsea', 40.75124, -73.99523, 'Entire home/apt', 100, 5, 6, '2019-06-20', 1.1, 1, 8)\n",
            "(31883514, '♥Private-Keyed Room #2 - Desk, closet, Queen-bed♥', 237336458, 'Thomas', 'Manhattan', 'Chelsea', 40.73697, -73.99563, 'Private room', 99, 12, 3, '2019-02-11', 0.6, 4, 19)\n",
            "(31883774, '♥Private-Keyed Room #1 - Desk, closet, Queen-bed♥', 237336458, 'Thomas', 'Manhattan', 'Chelsea', 40.73894, -73.9952, 'Private room', 99, 10, 1, '2019-02-17', 0.21, 4, 31)\n",
            "(32113235, 'SPACIOUS BRIGHT & COZY 1BR in CHELSEA MANHATTAN', 240913613, 'Ran', 'Manhattan', 'Chelsea', 40.74928, -73.99633, 'Entire home/apt', 180, 3, 26, '2019-07-01', 5.45, 1, 53)\n",
            "(32163602, 'Spacious 1 Bedroom in Chelsea/West Village', 18466353, 'Magal', 'Manhattan', 'Chelsea', 40.74084, -74.00425, 'Entire home/apt', 180, 5, 0, None, None, 1, 214)\n",
            "(32164433, 'Chelsea Pre-War Arts Apartment', 16384390, 'Matthew', 'Manhattan', 'Chelsea', 40.74324, -73.99705, 'Entire home/apt', 175, 2, 9, '2019-06-19', 2.37, 1, 50)\n",
            "(32172621, 'Private Room with Desk & Closet ♥ Best Location', 237336458, 'Thomas', 'Manhattan', 'Chelsea', 40.73778, -73.99616, 'Private room', 99, 12, 4, '2019-06-17', 0.79, 4, 29)\n",
            "(32189288, 'Gem in the heart of Manhattan', 32136241, 'EStelle', 'Manhattan', 'Chelsea', 40.75173, -73.99869, 'Entire home/apt', 100, 3, 11, '2019-06-18', 2.77, 1, 24)\n",
            "(32449378, 'Shared Apartment - 1 Bedroom', 12198291, 'Nick', 'Manhattan', 'Chelsea', 40.74458, -74.00644, 'Shared room', 180, 1, 0, None, None, 1, 0)\n",
            "(32549565, 'Sunny Chelsea Loft', 10414780, 'Matan', 'Manhattan', 'Chelsea', 40.74149, -73.99701, 'Entire home/apt', 139, 3, 4, '2019-05-28', 1.17, 1, 58)\n",
            "(32549617, 'Your home away from home.', 244602318, 'Stanley', 'Manhattan', 'Chelsea', 40.75114, -73.99831, 'Entire home/apt', 123, 30, 0, None, None, 1, 341)\n",
            "(32663202, 'Cozy Chelsea Apartment', 64433748, 'Abby', 'Manhattan', 'Chelsea', 40.74855, -74.00074, 'Shared room', 65, 1, 19, '2019-06-30', 4.45, 1, 208)\n",
            "(32668900, 'Best apartment in Chelsea for a young couple', 11821104, 'Nicolas', 'Manhattan', 'Chelsea', 40.74214, -73.99912, 'Entire home/apt', 200, 5, 0, None, None, 1, 9)\n",
            "(32675979, 'Private Room With Kitchen Across From MSG', 244559229, 'Stewart Hotel', 'Manhattan', 'Chelsea', 40.74921, -73.99273, 'Private room', 100, 1, 9, '2019-06-22', 3.42, 9, 275)\n",
            "(32676082, 'Large One Bedroom Suite With Kitchen in Midtown', 244559229, 'Stewart Hotel', 'Manhattan', 'Chelsea', 40.74913, -73.99128, 'Private room', 100, 1, 4, '2019-06-30', 1.85, 9, 323)\n",
            "(32676180, 'Large Private Suite in the Heart of Midtown', 244559229, 'Stewart Hotel', 'Manhattan', 'Chelsea', 40.74845, -73.99257, 'Private room', 100, 1, 22, '2019-06-18', 7.67, 9, 315)\n",
            "(32676181, 'Accessible Two Bedded Suite With Kitchen near MSG', 244559229, 'Stewart Hotel', 'Manhattan', 'Chelsea', 40.7492, -73.99073, 'Private room', 100, 1, 22, '2019-07-02', 9.85, 9, 319)\n",
            "(32676185, 'Huge Two Bedroom Suite in the Heart of New York', 244559229, 'Stewart Hotel', 'Manhattan', 'Chelsea', 40.74819, -73.99224, 'Private room', 100, 1, 0, None, None, 9, 245)\n",
            "(32676186, 'Large One Bedroom Double With Kitchen in Manhattan', 244559229, 'Stewart Hotel', 'Manhattan', 'Chelsea', 40.74963, -73.99141, 'Private room', 100, 1, 3, '2019-06-11', 1.8, 9, 269)\n",
            "(32676189, 'Two Beds in Private Room near Times Square and MSG', 244559229, 'Stewart Hotel', 'Manhattan', 'Chelsea', 40.74851, -73.99062, 'Private room', 100, 1, 4, '2019-07-01', 1.69, 9, 317)\n",
            "(32676190, 'Large One Bedroom Suite with Two Baths in Chelsea', 244559229, 'Stewart Hotel', 'Manhattan', 'Chelsea', 40.74927, -73.99227, 'Private room', 100, 1, 1, '2019-05-27', 0.68, 9, 324)\n",
            "(32678246, 'Private and Spacious Queen Room Across From MSG', 244559229, 'Stewart Hotel', 'Manhattan', 'Chelsea', 40.74902, -73.99211, 'Private room', 100, 1, 17, '2019-07-02', 7.08, 9, 324)\n",
            "(32691375, 'Vintage 3BR Chelsea Loft! Best Location!', 245324803, 'Alexandra', 'Manhattan', 'Chelsea', 40.75106, -73.99792, 'Entire home/apt', 149, 2, 9, '2019-06-23', 2.31, 1, 129)\n",
            "(32748646, '曼岛中城 切尔西区CHESEA  21街 闹市中静怡如家的空间', 230745945, 'Hong', 'Manhattan', 'Chelsea', 40.74278, -73.99765, 'Private room', 80, 1, 3, '2019-06-15', 2.5, 1, 0)\n",
            "(32763453, 'Israeli Stay NYC', 31518987, 'Yoni', 'Manhattan', 'Chelsea', 40.73948, -73.99555, 'Private room', 150, 1, 0, None, None, 1, 90)\n",
            "(32764575, 'Private bedroom in heart of Downtown Manhattan', 1844921, 'Ananth', 'Manhattan', 'Chelsea', 40.73926, -73.9946, 'Private room', 140, 2, 7, '2019-06-20', 2.73, 1, 11)\n",
            "(32773207, \"Immersive Chelsea's Art House! Great Location!!\", 246456163, 'Diego', 'Manhattan', 'Chelsea', 40.74996, -73.99488, 'Entire home/apt', 149, 2, 9, '2019-06-18', 3.03, 1, 151)\n",
            "(32805038, 'Sweet home in NYC', 105448689, 'Linda', 'Manhattan', 'Chelsea', 40.74655, -74.00134, 'Entire home/apt', 139, 5, 0, None, None, 1, 29)\n",
            "(32885270, 'Bright Designer 1 Bedroom in Heart of Manhattan', 2938649, 'Danielle', 'Manhattan', 'Chelsea', 40.74184, -73.9981, 'Entire home/apt', 180, 7, 3, '2019-06-26', 2.31, 1, 0)\n",
            "(33069506, 'Large Chelsea Bedroom!', 130476089, 'Lennon', 'Manhattan', 'Chelsea', 40.74216, -73.99962, 'Private room', 83, 1, 1, '2019-04-10', 0.33, 2, 0)\n",
            "(33113990, 'Adorable walk-up on the high line—with views!', 2919299, 'Sean', 'Manhattan', 'Chelsea', 40.75024, -74.00213, 'Entire home/apt', 175, 4, 3, '2019-06-09', 1.11, 1, 15)\n",
            "(33142839, 'Incredible Location! Flatiron 4BR Loft!', 248747777, 'Drake', 'Manhattan', 'Chelsea', 40.7394, -73.99868, 'Entire home/apt', 199, 2, 8, '2019-06-24', 2.89, 1, 125)\n",
            "(33189664, 'Large 1 Bedroom Apartment', 46311875, 'Michael', 'Manhattan', 'Chelsea', 40.75183, -73.99633, 'Entire home/apt', 140, 30, 0, None, None, 1, 167)\n",
            "(33226326, 'Manhattan luxury building super large studio', 106857875, 'Yige', 'Manhattan', 'Chelsea', 40.75426, -73.99848, 'Entire home/apt', 140, 120, 0, None, None, 1, 255)\n",
            "(33270883, 'Sunny and Zen room in Chelsea', 44731956, 'Raymond', 'Manhattan', 'Chelsea', 40.74147, -73.99908, 'Private room', 100, 4, 0, None, None, 1, 0)\n",
            "(33294631, 'Subletting an amazing room!!!', 169619135, 'Bar', 'Manhattan', 'Chelsea', 40.74825, -73.99542, 'Private room', 75, 4, 0, None, None, 1, 0)\n",
            "(33295329, 'Unique & Stylish Apartment in Chelsea', 5258749, 'Bani', 'Manhattan', 'Chelsea', 40.74197, -73.99703, 'Entire home/apt', 120, 5, 13, '2019-06-30', 5.0, 2, 14)\n",
            "(33365859, 'Less is More - in West Chelsea', 1842737, 'L', 'Manhattan', 'Chelsea', 40.74477, -74.00622, 'Entire home/apt', 185, 2, 5, '2019-06-20', 1.69, 1, 137)\n",
            "(33571687, 'Sunny And Spacious Apartment In Chelsea', 151048265, 'Minnie', 'Manhattan', 'Chelsea', 40.74038, -74.00139, 'Entire home/apt', 170, 3, 2, '2019-06-01', 1.09, 1, 39)\n",
            "(33595791, 'Beautiful Chelsea townhouse bedroom', 236668588, 'Jen', 'Manhattan', 'Chelsea', 40.74679, -74.00263, 'Private room', 115, 1, 3, '2019-06-30', 1.11, 2, 113)\n",
            "(33608666, 'Beautiful Chelsea Townhouse bedroom', 236668588, 'Jen', 'Manhattan', 'Chelsea', 40.7461, -74.00329, 'Private room', 110, 1, 10, '2019-06-10', 3.49, 2, 108)\n",
            "(33708931, 'July 4th Special! 1 bedroom in NYC', 1693671, 'Sylvia', 'Manhattan', 'Chelsea', 40.75256, -73.99653, 'Private room', 150, 4, 0, None, None, 1, 91)\n",
            "(33712513, 'Cozy studio in Chelsea NYC', 40832103, 'Bobby', 'Manhattan', 'Chelsea', 40.74005, -74.00071, 'Entire home/apt', 154, 3, 0, None, None, 1, 18)\n",
            "(33719823, 'Large, Bright, Luxury Chelsea Studio/ Best Area!!!', 254189342, 'Kimberley', 'Manhattan', 'Chelsea', 40.75104, -73.99544, 'Entire home/apt', 200, 4, 1, '2019-07-07', 1.0, 1, 228)\n",
            "(33745548, 'Midtown West Hotel - Hudson Twin Single', 252604696, 'Erin', 'Manhattan', 'Chelsea', 40.74922, -73.9968, 'Private room', 99, 1, 4, '2019-07-05', 1.5, 20, 168)\n",
            "(33745550, 'Midtown West Hotel - Empire Triple Room', 252604696, 'Erin', 'Manhattan', 'Chelsea', 40.75094, -73.99662, 'Private room', 199, 1, 1, '2019-05-19', 0.58, 20, 160)\n",
            "(33850135, 'Private & Quiet Oasis in the Center of NYC', 253637076, 'Sergey', 'Manhattan', 'Chelsea', 40.74034, -74.00084, 'Entire home/apt', 162, 2, 6, '2019-06-23', 2.2, 1, 66)\n",
            "(33866860, 'A+ Chelsea Location! MSG, Javits, Penn!', 231755465, 'Mishael', 'Manhattan', 'Chelsea', 40.74945, -73.99511, 'Entire home/apt', 99, 31, 4, '2019-06-14', 1.45, 1, 165)\n",
            "(33874579, 'Middle town luxury studio close to penn station', 210193549, 'Jiangbin', 'Manhattan', 'Chelsea', 40.75114, -73.99843, 'Entire home/apt', 150, 8, 3, '2019-06-12', 1.05, 1, 39)\n",
            "(33935442, 'Manhattan/帝国大夏/ time square【3】', 107245546, 'Michael', 'Manhattan', 'Chelsea', 40.74578, -73.99091, 'Private room', 130, 2, 3, '2019-06-23', 3.0, 3, 132)\n",
            "(33981416, 'One bedroom in Chelsea', 12321281, 'Calypso', 'Manhattan', 'Chelsea', 40.74483, -73.99649, 'Private room', 110, 30, 0, None, None, 1, 145)\n",
            "(33998274, 'Affordable Studio Close to All the Action', 256710914, 'Benjamin', 'Manhattan', 'Chelsea', 40.74694, -74.0013, 'Entire home/apt', 100, 2, 3, '2019-07-01', 3.0, 1, 2)\n",
            "(34019440, 'Beautiful&Clean 1 KING BDR apt in Chelsea LONGTERM', 234227365, 'Emma', 'Manhattan', 'Chelsea', 40.74073, -73.99884, 'Entire home/apt', 180, 5, 1, '2019-04-28', 0.42, 1, 83)\n",
            "(34042658, 'Luxury Condo Steps Away From Hudson Yards NYC', 11951664, 'Jack', 'Manhattan', 'Chelsea', 40.74999, -74.00205, 'Entire home/apt', 195, 2, 8, '2019-07-01', 4.36, 1, 41)\n",
            "(34196510, 'Midtown West Hotel - Boutique Queen', 252604696, 'Erin', 'Manhattan', 'Chelsea', 40.74948, -73.99506, 'Private room', 199, 1, 0, None, None, 20, 189)\n",
            "(34198108, 'Time Square South - Sunny Lux Twin Hotel Room', 252604696, 'Erin', 'Manhattan', 'Chelsea', 40.75029, -73.99492, 'Private room', 129, 1, 3, '2019-06-23', 1.48, 20, 358)\n",
            "(34206163, 'Midtown Manhattan - Cozy Triple Room', 252604696, 'Erin', 'Manhattan', 'Chelsea', 40.74889, -73.99656, 'Private room', 199, 1, 2, '2019-05-26', 1.15, 20, 352)\n",
            "(34206654, 'Manhattan Time Square South-Sunny Queen Room', 252604696, 'Erin', 'Manhattan', 'Chelsea', 40.75022, -73.99632, 'Private room', 199, 1, 0, None, None, 20, 365)\n",
            "(34206709, 'Manhattan Chelsea - Cozy Queen Room', 252604696, 'Erin', 'Manhattan', 'Chelsea', 40.74952, -73.99671, 'Private room', 199, 1, 0, None, None, 20, 365)\n",
            "(34206762, 'Time Square Modern Cozy Queen', 252604696, 'Erin', 'Manhattan', 'Chelsea', 40.75059, -73.9967, 'Private room', 199, 1, 2, '2019-06-19', 0.81, 20, 365)\n",
            "(34206858, 'Good Day New York - Comfy Queen', 252604696, 'Erin', 'Manhattan', 'Chelsea', 40.74914, -73.99471, 'Private room', 199, 1, 0, None, None, 20, 365)\n",
            "(34206929, 'Madison Square Garden - Sunny Queen', 252604696, 'Erin', 'Manhattan', 'Chelsea', 40.75093, -73.99523, 'Private room', 199, 1, 1, '2019-05-18', 0.57, 20, 363)\n",
            "(34207022, 'Manhattan West - Cozy Single Room', 252604696, 'Erin', 'Manhattan', 'Chelsea', 40.74975, -73.9961, 'Private room', 129, 1, 0, None, None, 20, 359)\n",
            "(34207413, 'Manhattan Chelsea Cozy Single', 252604696, 'Erin', 'Manhattan', 'Chelsea', 40.75074, -73.9967, 'Private room', 149, 1, 0, None, None, 20, 359)\n",
            "(34207474, 'Good Day New York - Sunny Single', 252604696, 'Erin', 'Manhattan', 'Chelsea', 40.7494, -73.99519, 'Private room', 149, 1, 0, None, None, 20, 359)\n",
            "(34207544, 'Madison Square Sunny Twin Hotel Room', 252604696, 'Erin', 'Manhattan', 'Chelsea', 40.75055, -73.99482, 'Private room', 149, 1, 0, None, None, 20, 351)\n",
            "(34207635, 'Midtown West - Comfort Twin Single Hotel', 252604696, 'Erin', 'Manhattan', 'Chelsea', 40.74942, -73.99536, 'Private room', 149, 1, 0, None, None, 20, 359)\n",
            "(34207673, 'Manhattan Midtown West - Modern Single Hotel Room', 252604696, 'Erin', 'Manhattan', 'Chelsea', 40.74899, -73.99605, 'Private room', 159, 1, 0, None, None, 20, 359)\n",
            "(34207739, '30ST & 8th Ave Hotel  - Twin Single Room', 252604696, 'Erin', 'Manhattan', 'Chelsea', 40.74882, -73.99663, 'Private room', 159, 1, 0, None, None, 20, 359)\n",
            "(34207862, 'Midtown Boutique Hotel - Cozy Single', 252604696, 'Erin', 'Manhattan', 'Chelsea', 40.74913, -73.99513, 'Private room', 159, 1, 0, None, None, 20, 360)\n",
            "(34255740, 'Private, 2-story apartment, near the Highline', 141713689, 'Nawar', 'Manhattan', 'Chelsea', 40.74475, -74.00108, 'Entire home/apt', 134, 7, 3, '2019-06-23', 2.65, 1, 13)\n",
            "(34284883, 'Your own studio in the heart of Chelsea', 258844868, 'Victor', 'Manhattan', 'Chelsea', 40.74577, -74.0022, 'Entire home/apt', 129, 1, 19, '2019-06-22', 8.38, 1, 5)\n",
            "(34338645, 'MASSIVE zen garden Master BR in Chelsea', 233270180, 'Sam', 'Manhattan', 'Chelsea', 40.74386, -73.99344, 'Private room', 85, 30, 1, '2019-05-07', 0.48, 1, 69)\n",
            "(34341588, '*Charismatic 1 BR Apartment in Heart of Chelsea*', 5588820, 'Teddy', 'Manhattan', 'Chelsea', 40.74392, -74.00301, 'Entire home/apt', 159, 3, 4, '2019-07-01', 2.93, 1, 1)\n",
            "(34343752, 'GORGEOUS WEST CHELSEA TWO BEDROOM with roof deck!', 5007316, 'David', 'Manhattan', 'Chelsea', 40.74781, -74.00084, 'Entire home/apt', 195, 1, 6, '2019-06-29', 2.77, 1, 2)\n",
            "(34383329, 'A private bedroom in Chelsea , Manhattan.', 53254710, 'Aamito', 'Manhattan', 'Chelsea', 40.73957, -74.00082, 'Private room', 85, 2, 4, '2019-06-30', 1.9, 1, 76)\n",
            "(34446902, '★Spacious bedroom in Midtown | Centrally Located★', 164051353, 'Warren', 'Manhattan', 'Chelsea', 40.74443, -73.99166, 'Private room', 140, 1, 7, '2019-06-28', 3.75, 3, 87)\n",
            "(34470949, 'Chelsea Pines Inn - Single', 255234351, 'Ejaz', 'Manhattan', 'Chelsea', 40.74129, -74.00457, 'Private room', 109, 1, 0, None, None, 4, 326)\n",
            "(34470950, 'Chelsea Pines Inn - One Bedroom Suite', 255234351, 'Ejaz', 'Manhattan', 'Chelsea', 40.74052, -74.0031, 'Private room', 199, 1, 0, None, None, 4, 355)\n",
            "(34470954, 'Chelsea Pines Inn - Superior Queen', 255234351, 'Ejaz', 'Manhattan', 'Chelsea', 40.74006, -74.00248, 'Private room', 159, 1, 0, None, None, 4, 362)\n",
            "(34675093, 'Pann Station \\\\ Javits Center Apartment', 3736053, 'Nyelli', 'Manhattan', 'Chelsea', 40.7545, -73.99954, 'Entire home/apt', 100, 2, 2, '2019-06-14', 1.67, 1, 32)\n",
            "(34866413, 'Cozy and convenient studio in Chelsea', 61882349, 'Janet', 'Manhattan', 'Chelsea', 40.7483, -74.0008, 'Entire home/apt', 93, 5, 2, '2019-06-16', 2.0, 1, 0)\n",
            "(34929016, 'Private Living Room in the Heart of Chelsea', 25408903, 'Jaclyn', 'Manhattan', 'Chelsea', 40.74125, -73.99926, 'Private room', 89, 1, 5, '2019-06-29', 5.0, 1, 296)\n",
            "(35114837, 'This adorable one bedroom on West 21st St/Chelsea', 224489730, 'Rachel', 'Manhattan', 'Chelsea', 40.74506, -73.99935, 'Entire home/apt', 154, 30, 0, None, None, 2, 0)\n",
            "(35166718, 'PRIME NOMAD: MASSIVE ROOM IN BOHEMIAN ART LOFT', 220574429, 'Juliana', 'Manhattan', 'Chelsea', 40.74566, -73.99092, 'Private room', 120, 21, 2, '2019-06-02', 1.54, 3, 332)\n",
            "(35228980, 'Luxury Private Home NYC Connection', 215430503, 'Paulo & Emma', 'Manhattan', 'Chelsea', 40.75393, -73.99992, 'Entire home/apt', 199, 1, 0, None, None, 1, 362)\n",
            "(35236040, 'Relaxing Stylish Room Near Train and Attractions 2', 265289882, 'Jorge', 'Manhattan', 'Chelsea', 40.74614, -74.00168, 'Private room', 150, 5, 0, None, None, 1, 79)\n",
            "(35315680, 'Beautiful Chelsea Entire Two Bedroom Apartment', 150199731, 'David', 'Manhattan', 'Chelsea', 40.74006, -74.00071, 'Entire home/apt', 195, 3, 0, None, None, 1, 252)\n",
            "(35342841, 'Alcove Studio in the Heart of Chelsea!', 22412963, 'Anne', 'Manhattan', 'Chelsea', 40.74216, -73.99363, 'Entire home/apt', 180, 1, 1, '2019-06-25', 1.0, 3, 210)\n",
            "(35384734, 'Studio Apartment in the heart of Chelsea', 266380288, 'Valerie', 'Manhattan', 'Chelsea', 40.74114, -74.00358, 'Entire home/apt', 198, 30, 0, None, None, 1, 125)\n",
            "(35497792, 'Chelsea room near Highline', 267068278, 'Sara', 'Manhattan', 'Chelsea', 40.74704, -74.00239, 'Private room', 105, 1, 1, '2019-06-30', 1.0, 1, 21)\n",
            "(35646737, 'Private Cabins @ Chelsea, Manhattan', 117365574, 'Maria', 'Manhattan', 'Chelsea', 40.74946, -73.99627, 'Private room', 85, 1, 1, '2019-06-22', 1.0, 5, 261)\n",
            "(35707367, 'Great studio located in Heart of Chelsea', 266833571, 'Ezequiel', 'Manhattan', 'Chelsea', 40.7503, -73.99746, 'Entire home/apt', 175, 3, 3, '2019-06-30', 3.0, 1, 49)\n",
            "(35754614, 'Chelsea Sunroof', 180237401, 'Jarrod', 'Manhattan', 'Chelsea', 40.74443, -73.9967, 'Entire home/apt', 200, 4, 0, None, None, 1, 31)\n",
            "(35790090, 'Authentic Chelsea Studio Loft', 89629761, 'Juan', 'Manhattan', 'Chelsea', 40.74913, -73.99575, 'Entire home/apt', 89, 2, 0, None, None, 1, 37)\n",
            "(35971673, 'Quiet Bedroom in Modern Chelsea Apartment', 261627898, 'Brett', 'Manhattan', 'Chelsea', 40.74755, -74.00394, 'Private room', 105, 1, 1, '2019-06-25', 1.0, 2, 31)\n",
            "(35971885, 'Private Room + Outdoor Space in Modern Chelsea Apt', 261627898, 'Brett', 'Manhattan', 'Chelsea', 40.74672, -74.00431, 'Private room', 105, 1, 2, '2019-07-06', 2.0, 2, 31)\n",
            "(36060576, '4FE Chelsea Studio Exclusively Yours', 271275048, 'Isaac', 'Manhattan', 'Chelsea', 40.74638, -73.99094, 'Entire home/apt', 125, 30, 0, None, None, 2, 245)\n",
            "(36112469, 'Perfect location, beautiful apartment in the City', 44183725, 'Neelam', 'Manhattan', 'Chelsea', 40.75095, -73.99542, 'Entire home/apt', 185, 3, 1, '2019-07-01', 1.0, 1, 7)\n",
            "(36223408, 'Private queen bedroom next to Empire State Bldg', 167228202, 'Sarina', 'Manhattan', 'Chelsea', 40.74991, -73.98854, 'Private room', 150, 3, 0, None, None, 1, 9)\n",
            "(36227884, 'New York Guest House Private Shared Room', 272477673, 'Jin', 'Manhattan', 'Chelsea', 40.74714, -73.99117, 'Shared room', 67, 1, 0, None, None, 3, 323)\n",
            "(36280357, 'Bright and sunny top floor, spacious apartment', 49037454, 'Nicole', 'Manhattan', 'Chelsea', 40.74218, -73.99813, 'Entire home/apt', 150, 5, 0, None, None, 1, 4)\n",
            "(36281050, 'Beautiful, Sunny Loft Studio in Heart of Chelsea', 15439713, 'Javier', 'Manhattan', 'Chelsea', 40.73916, -74.0006, 'Entire home/apt', 181, 1, 0, None, None, 1, 4)\n",
            "(36302523, '(2RW) Chic Chelsea Studio Just for You', 271275048, 'Isaac', 'Manhattan', 'Chelsea', 40.74767, -73.99256, 'Entire home/apt', 109, 30, 0, None, None, 2, 363)\n",
            "(36320933, 'Newyork guest house', 272477673, 'Jin', 'Manhattan', 'Chelsea', 40.74753, -73.9908, 'Shared room', 75, 2, 0, None, None, 3, 336)\n",
            "(36409084, 'newyork guest house shared room', 272477673, 'Jin', 'Manhattan', 'Chelsea', 40.74643, -73.99105, 'Shared room', 75, 1, 0, None, None, 3, 352)\n",
            "(36439761, 'Hudson Yards 1 BR / 1 Bath', 112300256, 'Ken', 'Manhattan', 'Chelsea', 40.75343, -74.00208, 'Entire home/apt', 155, 30, 0, None, None, 1, 171)\n"
          ]
        }
      ]
    },
    {
      "cell_type": "markdown",
      "source": [
        "# Section 4: Closing the Database Connection <a name=\"closing-connection\"></a>"
      ],
      "metadata": {
        "id": "CyaxVtAuDyDd"
      }
    },
    {
      "cell_type": "markdown",
      "source": [
        "### Task 4.1: Close the Cursor and Database Connection\n",
        "- It's good practice to close the cursor and the database connection when you're done working with the database to free up system resources and maintain proper connection management.\n"
      ],
      "metadata": {
        "id": "nFKyd0DbD4Ns"
      }
    },
    {
      "cell_type": "code",
      "source": [
        "# Completed\n",
        "# Make sure to include these lines of code at the end of your script to properly close the cursor and database connection.\n",
        "cursor.close()\n",
        "conn.close()"
      ],
      "metadata": {
        "id": "_z_H6ZsmD2GX"
      },
      "execution_count": 23,
      "outputs": []
    },
    {
      "cell_type": "markdown",
      "source": [
        "# Section 5: Summary of Basic SQL Commands <a name=\"summary-commands\"></a>"
      ],
      "metadata": {
        "id": "P5b9IpSZVtlA"
      }
    },
    {
      "cell_type": "markdown",
      "source": [
        "In this project, you have practiced various SQL commands and tasks. Below is a summary of the basic SQL commands used:\n",
        "\n",
        "**Task 1.2: Connect to the Database**\n",
        "- Established a connection to the SQLite database.\n",
        "\n",
        "**Task 2.1: Load the Dataset**\n",
        "- Loaded the dataset into a DataFrame.\n",
        "- Imported the DataFrame into the database.\n",
        "\n",
        "**Task 3.1: Retrieve all Columns**\n",
        "- Executed a SELECT query to retrieve all columns.\n",
        "\n",
        "**Task 3.2: Count Total Records**\n",
        "- Executed a SELECT COUNT(*) query to count the total records.\n",
        "\n",
        "**Task 3.3: Top 10 Neighborhoods by Average Price**\n",
        "- Executed a SELECT query with GROUP BY, ORDER BY, and LIMIT clauses.\n",
        "\n",
        "**Task 3.4: Number of Listings by Room Type**\n",
        "- Executed a SELECT query with COUNT() and GROUP BY.\n",
        "\n",
        "**Task 3.5: Average Number of Reviews per Listing**\n",
        "- Executed a SELECT query with AVG().\n",
        "\n",
        "**Task 3.6: Listings with Minimum Number of Reviews**\n",
        "- Executed a SELECT query with WHERE and a subquery.\n",
        "\n",
        "**Task 3.7: Filter Listings by Neighborhood and Maximum Price**\n",
        "- Executed a SELECT query with WHERE conditions.\n",
        "\n",
        "**Task 4.1: Close the Cursor and Database Connection**\n",
        "- Closed the cursor and the database connection.\n",
        "\n",
        "This summary provides an overview of the basic SQL commands used in this project. You can use this as a reference for future SQL projects and data analysis tasks.\n"
      ],
      "metadata": {
        "id": "e_AmKIOvUHR_"
      }
    },
    {
      "cell_type": "markdown",
      "metadata": {
        "id": "UT8Rpdt4ZPeA"
      },
      "source": [
        "<h3 align = 'center' >\n",
        "Thank you for completing the project!\n",
        "</h3>\n",
        "\n",
        "Please do reach out to us if you have any questions or concerns. We are here to help you learn and grow.\n",
        "\n",
        "Please send your completed Google Colab Notebook to the NSDC HQ Team at nsdc@nebigdatahub.org in order to receive your virtual certificate of completion.\n"
      ]
    }
  ]
}
